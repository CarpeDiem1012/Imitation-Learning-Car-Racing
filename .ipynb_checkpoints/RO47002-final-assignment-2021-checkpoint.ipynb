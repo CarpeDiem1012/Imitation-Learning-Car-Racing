{
 "cells": [
  {
   "cell_type": "markdown",
   "id": "d5955546",
   "metadata": {},
   "source": [
    "# Final Assignment RO47002 - Machine Learning for Robotics 2021/2022\n",
    "\n",
    "Before you start, fill in the cell below your lab group's number and the names of both lab partners.\n",
    "It is also suggested that you carefully read through all provided content before you start adding things.\n",
    "\n",
    "*Note*: as always, basic plagiarism and ethical guidelines apply:\n",
    "* By submitting this notebook, **you both claim that the solution is yours and yours only.**\n",
    "* You are not allowed to share your work with others.\n",
    "* Even after the deadline has passed, do *not* share or upload your solution anywhere (e.g. do not put it on github)."
   ]
  },
  {
   "cell_type": "code",
   "execution_count": 1,
   "id": "b3ab9a3d",
   "metadata": {},
   "outputs": [],
   "source": [
    "GROUP_NUMBER = \"8\"\n",
    "STUDENT_NAME1 = \"Chenghao Xu\"\n",
    "STUDENT_NUMBER1 = \"5266068\"\n",
    "STUDENT_NAME2 = \"Liangchen Sui\"\n",
    "STUDENT_NUMBER2 = \"5440238\""
   ]
  },
  {
   "cell_type": "code",
   "execution_count": 2,
   "id": "d8f97ea6",
   "metadata": {},
   "outputs": [],
   "source": [
    "# Note: this block is a check that you have filled in the above information.\n",
    "# It will throw an AssertionError until all fields are filled\n",
    "assert(GROUP_NUMBER != \"\")\n",
    "assert(STUDENT_NAME1 != \"\")\n",
    "assert(STUDENT_NUMBER1 != \"\")\n",
    "assert(STUDENT_NAME2 != \"\")\n",
    "assert(STUDENT_NUMBER2 != \"\")"
   ]
  },
  {
   "cell_type": "markdown",
   "id": "7c7a819d",
   "metadata": {},
   "source": [
    "---\n",
    "\n",
    "## Introduction\n",
    "We are in the year 2121. The newest sport sensation is solar robot racing. Similar to Formula 1, the races are held on different tracks, however times have changed and those are no longer in different countries but on different planets. The Earth track is well-known for its lush green surroundings, the Mars track for its bright red environment, the Saturn track is instantly recognizable for the brownish soil, and a new race track is currently being built on Neptune, promising a soothing blue background.\n",
    "\n",
    "Like in good old fashioned car racing, no modifications of the car are allowed between races, and in particular the AI cannot be changed. That means we need to develop one single machine learning model that is able to drive on all planets. From past competitions we have data from Earth, Mars, and Saturn (i.e., the 3 datasets provided) but we do not have any data from Neptune yet (i.e., this is a hidden test set), making this season extra challenging. However, we have the possibility to collect more data on 3 planets and can also use test tracks on planets not participating in the competition (i.e., the provided code that allows to collect more data and to change some properties of the environment).\n",
    "\n",
    "As you are just starting out as a solar robot racing AI engineer, you first get the familiarization assignment to train a model solely for Earth before moving on to designing a competition-grade AI.\n",
    "\n",
    "## Robot car AI\n",
    "\n",
    "In this competition, the robot car's actions need to be determined based on only the robot car's last observation (i.e. sensor measurements). More technically: the goal is to create a function $f(observation) \\rightarrow action$, which the robot can continuously apply in a loop on its sensor measurements to determine its next action. This type of function is often called a *policy*.\n",
    "\n",
    "In this assignment, the input and output of the policy function $f$ are defined as:\n",
    "- the input `observation` will be an RGB image (a numpy array) containing a top-down view of the robot's surroundings, including the road ahead.\n",
    "- the output `action` should be an integer out of one of the possible actions (an integer between 0 and 4):\n",
    "    0. Do nothing\n",
    "    1. Accelerate\n",
    "    2. Turn steer left\n",
    "    3. Turn steer right\n",
    "    4. Brake\n",
    "\n",
    "More details will be provided later in the section \"0. Code to get you started\" below.\n",
    "\n",
    "Note that the policy function will completely determine the behavior of the robot.\n",
    "You can think of the robot executing the policy in a never-ending loop (in pseudo-code):\n",
    "```python\n",
    "# Pseudo robot main loop with policy f\n",
    "while True:\n",
    "    observation = read_sensor_measurement()\n",
    "    action = f(observation) # apply the policy\n",
    "    execute_action(action)\n",
    "```\n",
    "In fact, the behavior is already implemented for you in a **simulator**. This means you can test a policy function $f$ by plugging it in the simulator and seeing how your robot car behaves!\n",
    "The simulator also allows us to quantify how well your robot behaved by returning a 'reward' value for each simulation step (a higher reward is better). More details on the rewards will be explained below in Section 0.\n",
    "\n",
    "## Task description: imitation learning\n",
    "\n",
    "These type of tasks, where a robot's policy needs to be optimized to achieve a high expected reward for operating in some environment, is often addressed through *reinforcement learning*. However, in this assigment we will *not* use reinforcement learning techniques, but mainly treat the problem as a **supervised classification task**.\n",
    "The training input (observations) and output (action labels) data will be obtained through demonstrations of humans *manually* controlling the robot car. By training your machine learning models on these demonstrations, you will create an AI which \"imitates\" how a human would drive. This type of supervised machine learning is therefore called *imitation learning*.\n",
    "\n",
    "There are some coding challenges and design choices that you have to solve to use human driving demonstrations as labeled data to create your machine learning models. As before, you will have to think about feature extraction, hyperparemeter optimization, evaluation metrics, comparing models, etc.\n",
    "\n",
    "Once you have trained a classification model, you could define a new policy function which uses your trained model, and test this policy in the simulator. Does your most succesful model also accumulate the most reward in the simulation? Can you make an AI which succesfully drives on known and unknown planets?"
   ]
  },
  {
   "cell_type": "markdown",
   "id": "ef10e769",
   "metadata": {},
   "source": [
    "## Deliverables\n",
    "The deadline is **Sunday October 24th, 2021 at 23:59**. Late submission is –1 grade point per day.\n",
    "\n",
    "* The main deliverable is this Jupyter Notebook, integrating the report (markdown cells) and the code.\n",
    "* Submission is again in the form of a single ZIP file that *includes your notebook, and all files required to run the notebook and reproduce the results*. This includes all used data/demonstrations (including the ones that were provided), any loadable parameter files, any auxiliary scripts, etc.\n",
    "* Name the ZIP file \"**GroupNumber_final_assignment.zip**\", e.g., if you are in group 456, the name would be \"456_final_assignment.zip\".\n",
    "* Unlike previous lab assignments, there are no autograded cells or asserts, but we will grade the notebook manually. Therefore, you are free to add cells as you see fit, as long as the required sections are still present in the notebook.\n",
    "* Make sure that the notebook runs correctly. That is, clear all outputs, restart the kernel and run the notebook from top to bottom. \n",
    "* The notebook needs to be able to run within 20 minutes on a high-end PC, performing all steps (also including training, the only exception is hyperparameter optimization which can be commented out).\n",
    "* In contrast to the practica, please submit the notebook *including* the output (i.e., do not clear the outputs before zipping it up). \n",
    "\n",
    "\n",
    "## Grading Criteria\n",
    "Below you will find an outline of the sections that the notebook needs to contain and what we expect for each part. More specific requirements are listed there as well. The indicated number of points, out of a total of 100, should give you a rough indication of how much effort to put into each part.\n",
    "\n",
    "In general, we will not focus as much on the performance of the method you design, but rather the _level of understanding and argumentation about your design choices_. So, we are not only interested in WHAT you did, but will put a strong emphasis on your reasoning about the WHY. Try to synthesize rather than describing what you did step by step.\n",
    "\n",
    "### Quality of the report (20 points)\n",
    "- Structure & Readability\n",
    " - Logical flow\n",
    " - Connection between parts\n",
    "- Academic English\n",
    " - Do not use short forms, like \"isn't\", \"wouldn't\".\n",
    " - Do not use colloquial style, like \"a couple of\".\n",
    " - Spell check and proofread your report.\n",
    "- Level of detail\n",
    " - Strive for elegant, concise text - longer reports do not necessarily yield higher grades.\n",
    " - There is no need to re-explain theory. Assume that the target audience of the report has followed the course.\n",
    "- Figures & Tables\n",
    " - Choose figures/plots/tables carefully. Only include those that add to the story of the report. Do not put the burden on the reviewer to figure out which results you basing your conclusions on, but specifically refer (parts of) the specific table/plot/figure when needed.\n",
    " - When comparing two or more signals display them in one plot. Explain the colors / line types. The scale of the plots must be carefully chosen in order to clearly convey the information intended. Label the axes in graphs properly (variables and units).\n",
    "- Citations\n",
    " - If you use images, theory and methods beyond what was covered in the course, etc., always reference sources.\n",
    "\n",
    "\n",
    "### Your implementations and answers (80 points)\n",
    "\n",
    "The remainder of this notebook follows the following structure:\n",
    "\n",
    "0. Code to get you starte (0 points, *nothing for you to do here*)\n",
    "1. Explore & Inspect the Data (5 points)\n",
    "2. Prepare the Data and Evaluate Features (15 points)\n",
    "3. Single Planet Action Classification  (35 points)\n",
    "4. Enabling Generalization (20 points)\n",
    "\n",
    "Apart from section 0, you will have to implement and answer questions for all of the other 4 sections to earn points. *For each of these 4 sections, we have various questions or implementation tasks that your submission should address. These are listed in the cells at the end of this notebook.*\n",
    "\n",
    "Note that there is not one best answer to these questions, and the task could be addressed in different ways. We want to know *your* motivation for *your* selected approach."
   ]
  },
  {
   "cell_type": "markdown",
   "id": "7bf01613",
   "metadata": {},
   "source": [
    "---\n",
    "\n",
    "# 0. Code to get you started\n",
    "\n",
    "Note, you will not have to implement anything in this section, but you are free to play around with what is provided here, or copy parts to new cells in your solutions."
   ]
  },
  {
   "cell_type": "code",
   "execution_count": 3,
   "id": "192dd7ba",
   "metadata": {},
   "outputs": [],
   "source": [
    "import pickle\n",
    "import numpy as np\n",
    "import matplotlib.pyplot as plt\n",
    "\n",
    "import cv2 # you are allowed to use functions from cv2\n",
    "import glob\n",
    "\n",
    "# import the simualtion environment\n",
    "import car_racing_ro47002 as cr"
   ]
  },
  {
   "cell_type": "markdown",
   "id": "d1127d2d",
   "metadata": {},
   "source": [
    "First, we explore the available planets. The code below generates an image from the 3 planets. You do not need to understand how this code works, but it should help you understand the context of what we are doing.\n",
    "Note that the images also include your robot car, and the road ahead."
   ]
  },
  {
   "cell_type": "code",
   "execution_count": 4,
   "id": "d2a595ae",
   "metadata": {},
   "outputs": [
    {
     "data": {
      "application/vnd.jupyter.widget-view+json": {
       "model_id": "900d5c899c5345db9c656bc0631f121a",
       "version_major": 2,
       "version_minor": 0
      },
      "text/plain": [
       "interactive(children=(IntSlider(value=1, description='planet_id', max=2), Output()), _dom_classes=('widget-int…"
      ]
     },
     "metadata": {},
     "output_type": "display_data"
    }
   ],
   "source": [
    "import ipywidgets\n",
    "from IPython.display import display\n",
    "\n",
    "# Show screenshot of a sampled environment\n",
    "def plot_planet_example(planet_id):\n",
    "    planet = cr.PLANETS[planet_id]\n",
    "    env = cr.CarRacing(planet)\n",
    "    env.seed(10)\n",
    "    env.reset()\n",
    "    plt.imshow(env.render(mode='rgb_array'))\n",
    "    plt.title(f'Planet {planet_id}')\n",
    "    env.close()\n",
    "\n",
    "ipywidgets.interactive(plot_planet_example, planet_id=(0,2))"
   ]
  },
  {
   "cell_type": "markdown",
   "id": "7ed13a94",
   "metadata": {},
   "source": [
    "## Loading pre-recorded human demonstrations\n",
    "\n",
    "You are provided several pre-recorded demonstrations of a human *manually controlling* the robot car on several tracks on several planets.\n",
    "**You can use this data to train a classifier that you can use to implement one or more better policies, which should (ideally) perform similar to how a human would control the robot car.**\n",
    "\n",
    "Each provided demonstration ...\n",
    "* ... contains a sequence of 1000 (observation, action) pairs ...\n",
    "* ... recorded at a specic planet and track, ...\n",
    "* ... for convenience, also contains (1000 dimensional) arrays containing the fixed planet's and track's id of these input/output pair.\n",
    "\n",
    "A demonstration is stored as a python pickle file.\n",
    "The code below shows how to load the saved demonstrations, and to do some simple pre-processing."
   ]
  },
  {
   "cell_type": "code",
   "execution_count": 5,
   "id": "e11bb94b",
   "metadata": {
    "scrolled": true
   },
   "outputs": [
    {
     "name": "stdout",
     "output_type": "stream",
     "text": [
      "Found 14 demonstrations\n",
      "Loaded 1000 samples from demonstrations/demo-0-0-20211012_155840.pickle ...\n",
      "Loaded 1000 samples from demonstrations/demo-0-1-20211012_160607.pickle ...\n",
      "Loaded 1000 samples from demonstrations/demo-0-2-20211012_161107.pickle ...\n",
      "Loaded 1000 samples from demonstrations/demo-0-3-20211012_161203.pickle ...\n",
      "Loaded 1000 samples from demonstrations/demo-0-4-20211012_161237.pickle ...\n",
      "Loaded 1000 samples from demonstrations/demo-0-5-20211012_161457.pickle ...\n",
      "Loaded 1000 samples from demonstrations/demo-0-6-20211012_161843.pickle ...\n",
      "Loaded 1000 samples from demonstrations/demo-0-7-20211012_161923.pickle ...\n",
      "Loaded 1000 samples from demonstrations/demo-0-8-20211012_162117.pickle ...\n",
      "Loaded 1000 samples from demonstrations/demo-0-9-20211012_162157.pickle ...\n",
      "Loaded 1000 samples from demonstrations/demo-1-10-20211012_170226.pickle ...\n",
      "Loaded 1000 samples from demonstrations/demo-1-11-20211012_171117.pickle ...\n",
      "Loaded 1000 samples from demonstrations/demo-2-12-20211012_171400.pickle ...\n",
      "Loaded 1000 samples from demonstrations/demo-2-13-20211012_171617.pickle ...\n"
     ]
    }
   ],
   "source": [
    "# Look for all the demonstration pickle files in the demonstrations/ directory.\n",
    "#  The originally provided demo files are called: demo-[planet_id]-[track_id]-[datetime].pickle\n",
    "#  Any demo files you record yourself are called: demostud-[planet_id]-[track_id]-[datetime].pickle\n",
    "\n",
    "# CHANGE THIS IF NEEDED: select the pickle file pattern to match ...\n",
    "\n",
    "#DEMO_FILEPATTERN = 'demo-*-*.pickle'      # only use ORIGINALLY provided demo files\n",
    "#DEMO_FILEPATTERN = 'demostud-*-*.pickle'  # only use YOUR own collected demo files\n",
    "DEMO_FILEPATTERN = 'demo*-*.pickle'       # use ALL available demo files\n",
    "\n",
    "# find the relevant filenames\n",
    "filenames = glob.glob(f'demonstrations/{DEMO_FILEPATTERN}')\n",
    "filenames.sort() # ensure the order is well-defined\n",
    "print(f'Found {len(filenames)} demonstrations')\n",
    "\n",
    "# in a loop, load the found pickle files\n",
    "demonstrations = []\n",
    "for filename in filenames:\n",
    "    with open(filename, 'rb') as fd:\n",
    "        demonstration = pickle.load(fd)\n",
    "        \n",
    "        actions = demonstration['actions']\n",
    "        print(f'Loaded {actions.shape[0]} samples from {filename} ...')\n",
    "        \n",
    "        demonstrations.append(demonstration)"
   ]
  },
  {
   "cell_type": "code",
   "execution_count": 6,
   "id": "388fd5e8",
   "metadata": {},
   "outputs": [],
   "source": [
    "# we can combine all the observations, actions, planet and track ids\n",
    "observations = np.concatenate([d['observations'] for d in demonstrations])\n",
    "actions = np.concatenate([d['actions'] for d in demonstrations])\n",
    "planet_ids = np.concatenate([d['planets'] for d in demonstrations])\n",
    "track_ids = np.concatenate([d['tracks'] for d in demonstrations])\n",
    "\n",
    "# pre-processing: subsample and only keep every n-th sample for efficiency\n",
    "# this can speed up training\n",
    "ss = 10\n",
    "observations = observations[::ss]\n",
    "actions = actions[::ss]\n",
    "planet_ids = planet_ids[::ss]\n",
    "track_ids = track_ids[::ss]"
   ]
  },
  {
   "cell_type": "markdown",
   "id": "bb5c823a",
   "metadata": {},
   "source": [
    "## Understanding the data\n",
    "\n",
    "We here take a closer look at format of the demonstration data. The observations (input) are RGB images. The actions (target class labels) are integers."
   ]
  },
  {
   "cell_type": "code",
   "execution_count": 7,
   "id": "656bccb6",
   "metadata": {},
   "outputs": [
    {
     "name": "stdout",
     "output_type": "stream",
     "text": [
      "The data consists of 1400 (observation, action) pairs:\n",
      "- observations : a (1400, 96, 96, 3) numpy int8 array, i-th entry contains RGB image of sample i\n",
      "- actions      : a (1400,) numpy int array, i-th entry contains action (class) label of sample i\n",
      "- planet_ids   : a (1400,) numpy int array, i-th entry contains the planet_id of sample i\n",
      "- track_ids    : a (1400,) numpy int array, i-th entry contains the track_id of sample i\n"
     ]
    }
   ],
   "source": [
    "# count the total number of observations\n",
    "N = observations.shape[0]\n",
    "\n",
    "print(f'The data consists of {N} (observation, action) pairs:')\n",
    "print(f'- observations : a {observations.shape} numpy int8 array, i-th entry contains RGB image of sample i')\n",
    "print(f'- actions      : a {actions.shape} numpy int array, i-th entry contains action (class) label of sample i')\n",
    "print(f'- planet_ids   : a {planet_ids.shape} numpy int array, i-th entry contains the planet_id of sample i')\n",
    "print(f'- track_ids    : a {track_ids.shape} numpy int array, i-th entry contains the track_id of sample i')"
   ]
  },
  {
   "cell_type": "markdown",
   "id": "f121026e",
   "metadata": {},
   "source": [
    "We can inspect inspect a single sample in the recorded data:"
   ]
  },
  {
   "cell_type": "code",
   "execution_count": 8,
   "id": "db3a2b2e",
   "metadata": {
    "scrolled": false
   },
   "outputs": [
    {
     "name": "stdout",
     "output_type": "stream",
     "text": [
      "Action of sample 0:                     1\n",
      "Planet id where sample 0 was recorded:  0\n",
      "Track id where sample 0 was recorded:   0\n"
     ]
    },
    {
     "data": {
      "image/png": "[encoded data removed]",
      "text/plain": [
       "<Figure size 432x288 with 1 Axes>"
      ]
     },
     "metadata": {
      "needs_background": "light"
     },
     "output_type": "display_data"
    }
   ],
   "source": [
    "idx = 0 # sample index, should be in range [0, N-1]\n",
    "\n",
    "print(f'Action of sample {idx}:                    ', actions[idx])\n",
    "print(f'Planet id where sample {idx} was recorded: ', planet_ids[idx])\n",
    "print(f'Track id where sample {idx} was recorded:  ', track_ids[idx])\n",
    "\n",
    "plt.imshow(observations[idx])\n",
    "plt.title(f'Observation of sample {idx}');\n"
   ]
  },
  {
   "cell_type": "code",
   "execution_count": 9,
   "id": "fa8fd313",
   "metadata": {},
   "outputs": [
    {
     "data": {
      "application/vnd.jupyter.widget-view+json": {
       "model_id": "70301ea09c0d4d13ba381a679af39399",
       "version_major": 2,
       "version_minor": 0
      },
      "text/plain": [
       "interactive(children=(IntSlider(value=699, description='idx', max=1399), Output()), _dom_classes=('widget-inte…"
      ]
     },
     "metadata": {},
     "output_type": "display_data"
    }
   ],
   "source": [
    "def plot_sample(idx, observations, actions):\n",
    "    observation = observations[idx]\n",
    "    action = actions[idx]\n",
    "    plt.clf()\n",
    "    plt.imshow(observation)\n",
    "    plt.title(f'{idx}: {action}');\n",
    "    \n",
    "ipywidgets.interactive(lambda idx: plot_sample(idx, observations, actions), idx=(0,observations.shape[0]-1))"
   ]
  },
  {
   "cell_type": "markdown",
   "id": "eff18b10",
   "metadata": {},
   "source": [
    "Note that the observation is just a low-resolution image of the simulated environment.\n",
    "\n",
    "An action (label) is simply an integer. The five possible action values are:"
   ]
  },
  {
   "cell_type": "code",
   "execution_count": 10,
   "id": "3021679b",
   "metadata": {},
   "outputs": [],
   "source": [
    "ACTION_NOOP = 0  # NO-OPeration, i.e. do not steer, accelerate or brake\n",
    "ACTION_ACCEL = 1 # Accelerate\n",
    "ACTION_LEFT = 2  # Steer left\n",
    "ACTION_RIGHT = 3 # Steer right\n",
    "ACTION_BRAKE = 4 # Brake, deaccelerate"
   ]
  },
  {
   "cell_type": "markdown",
   "id": "82908e5a",
   "metadata": {},
   "source": [
    "You can use the demonstration data to train and validate your machine learning methods.\n",
    "Of course, you would first need to define some feature extraction procedure(s) to convert the observations into some suitable feature vectors for your machine learning techniques."
   ]
  },
  {
   "cell_type": "markdown",
   "id": "a9eb2415",
   "metadata": {},
   "source": [
    "## Testing your model in  the simulator\n",
    "\n",
    "\n",
    "At some point, *after you have trained and evaluated your classifier*, you might want to check how well your classification method can actually control the robot car. For this, you will need to wrap your trained classifier into a policy function that the simulator can use.\n",
    "\n",
    "This section will go over the details of\n",
    "* how to start the simulator;\n",
    "* how to implement a policy $f$;\n",
    "* how to analyse the rewards.\n",
    "\n",
    "\n",
    "### Running a simulation\n",
    "\n",
    "The function `run_simulation` below will setup a simulation of your robot on a given planet (`planet_id`) and track (`track_id`), and will use the policy `f` you provide to control the robot, for a maximum of `iterations` simulation steps. The simulation function can also show you the simulation in a popup-window (set `render=True`), or record all the (observation, actions) pairs (`record_data=True`).\n",
    "\n",
    "The function signature of run_simulation is:\n",
    "```\n",
    "rewards = run_simulation(f, iterations=500, planet_id=0, track_id=0, verbose=False, render=False, record_data=False, delay=0.0)\n",
    "    Run robot car simulation\n",
    "    Input arguments:\n",
    "    - f             # [function] the robot's policy function\n",
    "    - record_data   # [True/False] if true, return all (observation, action) pairs from the simulation \n",
    "    - planet_id     # [int] select the target planet (0=Earth, 1=Mars, 2=Saturn, 3=Neptune)\n",
    "    - track_id      # [int] select the target track on that planet (0, 1, 2, etc.)\n",
    "    - iterations    # [int] the maximum number of iterations N to run the simulation\n",
    "    - render        # [True/False] show the scene in a popup window (can be a bit slower)\n",
    "    - delay         # [float] a time delay that can be added to make the simulation run a bit slower\n",
    "    \n",
    "    Returns:\n",
    "    - rewards       # [numpy array of floats] all N rewards accumulated during the simulation\n",
    "    - observations  # [numpy array N x H x W x 3] N observations, each observation being a WxH 3-channel image\n",
    "    - actions       # [numpy array of ints] all N actions outputted by the given policy f\n",
    "    \n",
    "    Note: `observations` and `actions` are only returned if record_data=True\n",
    "```\n"
   ]
  },
  {
   "cell_type": "code",
   "execution_count": 11,
   "id": "23f56f40",
   "metadata": {},
   "outputs": [],
   "source": [
    "# user key input handler\n",
    "from pyglet.window import key\n",
    "import time\n",
    "\n",
    "# keep track if which keys have been pressed in the popup window\n",
    "# (will be used later for the human driver)\n",
    "KEY_PRESSED = {key.LEFT: False, key.RIGHT: False, key.UP: False, key.DOWN: False}\n",
    "\n",
    "def key_press(k, mod):\n",
    "    global STOP_SIMULATION, KEY_PRESSED\n",
    "    if k==key.ESCAPE: STOP_SIMULATION = True # set 'quit' flag if ESCAPE key is pressed\n",
    "    KEY_PRESSED[k] = True\n",
    "\n",
    "def key_release(k, mod):\n",
    "    global KEY_PRESSED\n",
    "    KEY_PRESSED[k] = False\n",
    "\n",
    "# define the set of all actions    \n",
    "ACTIONS = [0, 1, 2, 3, 4]\n",
    "ACTION_NAMES = ['noop', 'accel', 'left', 'right', 'brake']\n",
    "NUM_ACTIONS = 5 # number of distinct actions\n",
    "\n",
    "# A lookup table to convert the action class to an actual control input for the simulator (steer, accel, brake)\n",
    "ACTIONS_TO_CONTROL_INPUT = np.array([\n",
    "    [ 0,  0,  0   ], # 0 = do nothing\n",
    "    [ 0,  1,  0   ], # 1 = accelerate\n",
    "    [-1,  0,  0   ], # 2 = steer left\n",
    "    [ 1,  0,  0   ], # 3 = steer right\n",
    "    [ 0,  0,  0.25], # 4 = brake\n",
    "])\n",
    "\n",
    "def run_simulation(f, iterations=500, planet_id=0, track_id=0, verbose=False, render=False, record_data=False, delay=0.0):\n",
    "    \"\"\" Run robot car simulation\n",
    "    Input arguments:\n",
    "    - f             # [function] the robot's policy function\n",
    "    - record_data   # [True/False] if true, return all (observation, action) pairs from the simulation\n",
    "    - planet_id     # [int] select the target planet (0=Earth, 1=Mars, 2=Saturn, 3=Neptune)\n",
    "    - track_id      # [int] select the target track on that planet (0, 1, 2, etc.)\n",
    "    - iterations    # [int] the maximum number of iterations N to run the simulation\n",
    "    - render        # [True/False] show the scene in a popup window (can be a bit slower)\n",
    "    - delay         # [float] a time delay that can be added to make the simulation run a bit slower\n",
    "    \n",
    "    Returns:\n",
    "    - rewards       # [numpy array of floats] all N rewards accumulated during the simulation\n",
    "    - observations  # [numpy array N x H x W x 3] N observations, each observation being a WxH 3-channel image\n",
    "    - actions       # [numpy array of ints] all N actions outputted by the given policy f\n",
    "    \n",
    "    Note: `observations` and `actions` are only returned if record_data=True\n",
    "    \"\"\"\n",
    "    \n",
    "    print(f'Starting simulation for {iterations} iterations.')\n",
    "    print('*** Press ESC key in popup window to stop the simulation! ***')\n",
    "    print()\n",
    "\n",
    "    # create a simulation environment on the given planet\n",
    "    planet = cr.PLANETS[planet_id]\n",
    "    env = cr.CarRacing(planet)\n",
    "    env.seed(track_id+planet_id*1455312) # set environment track generation seed based on planet_id and track_id\n",
    "\n",
    "    rewards = [] # will store the accumulated rewards\n",
    "    observations = [] # will store the accumulated observations (only if record_data==True)\n",
    "    actions = [] # will store the accumulated actions outputted by policy f (only if record_data==True)\n",
    "    \n",
    "    # reset KEY_PRESSED state at start of simulation\n",
    "    global KEY_PRESSED\n",
    "    KEY_PRESSED = {key.LEFT: False, key.RIGHT: False, key.UP: False, key.DOWN: False}\n",
    "    \n",
    "    # the STOP_SIMULATION flag will be set to True if user wants to interrupt the simulation\n",
    "    global STOP_SIMULATION\n",
    "    STOP_SIMULATION = False\n",
    "    completed_iterations = 0\n",
    "    \n",
    "    try:\n",
    "        # reset the simulation, and get the initial observation (robot \"sensor measurement\")\n",
    "        observation = env.reset()\n",
    "        \n",
    "        # ensure we can listen to user input in the popup window (e.g. to quit when pressing ESCAPE)\n",
    "        env.viewer.window.on_key_press = key_press\n",
    "        env.viewer.window.on_key_release = key_release\n",
    "        \n",
    "        # main simulation loop\n",
    "        for itr in range(iterations):\n",
    "            time.sleep(delay)\n",
    "            if STOP_SIMULATION: break\n",
    "                \n",
    "            # ** APPLYING YOUR POLICY **\n",
    "            # execute the given policy on the observation to determine the robot's action\n",
    "            action = f(observation)\n",
    "            \n",
    "            # sanity check: is the policy implemented correctly?\n",
    "            assert (isinstance(action, (int, np.integer))) # returned action should be a builtin or numpy integer\n",
    "            assert (action in ACTIONS) # action should be an integer 0, 1, 2, 3 or 4\n",
    "\n",
    "            # hard coded that for the first few iterations, the robot will always accelerate,\n",
    "            #   to avoid a poor policy from not moving the robot at all\n",
    "            if itr < 4: action = 1 # action 1 is accelerate\n",
    "            \n",
    "            if verbose:\n",
    "                print(f'iteration {itr}: action = {ACTION_NAMES[action]}')\n",
    "\n",
    "            if record_data:\n",
    "                # only store all the observation and action pairs during the simulation\n",
    "                #   if the record_data argument is set to True\n",
    "                observations.append(observation)\n",
    "                actions.append(action)\n",
    "            \n",
    "            # ** EXECUTE ACTION ON ROBOT & GET OBSERVATION FOR NEXT TIME STEP **\n",
    "            ctrl_input = ACTIONS_TO_CONTROL_INPUT[action] \n",
    "\n",
    "            # execute simulation step with the given control input\n",
    "            observation, reward, environment_done, info = env.step(ctrl_input)\n",
    "            completed_iterations += 1\n",
    "            \n",
    "            if verbose:\n",
    "                print(f'iteration {itr}: reward = {reward}')\n",
    "\n",
    "            if render:\n",
    "                # update pop-window visualization\n",
    "                env.render()\n",
    "\n",
    "            # collect all rewards in a list\n",
    "            rewards.append(reward)\n",
    "    finally:\n",
    "        # make sure we always close the pop-up window,\n",
    "        # even if some exception is thrown during the main loop\n",
    "        env.close()\n",
    "        \n",
    "    rewards = np.array(rewards)\n",
    "    total_reward = np.sum(rewards)\n",
    "    \n",
    "    print(f'total reward after {completed_iterations} iterations: {total_reward}')\n",
    "    print(f'average reward: {total_reward/completed_iterations}')\n",
    "    \n",
    "    if record_data:\n",
    "        return rewards, np.array(observations), np.array(actions, dtype=int)\n",
    "        \n",
    "    # by default, only return the rewards\n",
    "\n",
    "    return rewards"
   ]
  },
  {
   "cell_type": "markdown",
   "id": "239132f0",
   "metadata": {},
   "source": [
    "### Implementing a policy\n",
    "\n",
    "For the simulator, a policy $f(observation) \\rightarrow action$ should be implemented as a plain python function which takes a numpy array as input (the observation) and returns an integer (the action).\n",
    "So generally, a policy implementation would look like this:\n",
    "\n",
    "```python\n",
    "\n",
    "def f(observation):    \n",
    "    # Input: observation, a H x W x 3 numpy array containing an RGB image of the surroundings\n",
    "    # Output: action,     an integer representing the action (0 = NOOP, ... 5 = Brake)\n",
    "    # N.B.: actions is just an int, NOT a numpy array\n",
    "    \n",
    "    # YOUR CODE\n",
    "    #   convert observation to feature vector\n",
    "    #   predict action class given the feature vector using some ML technique\n",
    "    \n",
    "    return action\n",
    "```\n",
    "*Of course, don't name you policy just `f`, but give it some more descriptive name!*\n",
    "\n",
    "To illustrate, here is a dummy policy which just picks a random actions (without actually looking at the observation)."
   ]
  },
  {
   "cell_type": "code",
   "execution_count": 12,
   "id": "91446514",
   "metadata": {},
   "outputs": [],
   "source": [
    "# a dummy policy\n",
    "def f_dummy(observation):\n",
    "    \"\"\" Dummy policy function, which just returns random action. \"\"\"\n",
    "    \n",
    "    # in this dummy policy, we ignore the observation and just select a random action\n",
    "    action = np.random.randint(0, NUM_ACTIONS)\n",
    "    \n",
    "    print(f'Received observation: {observation.shape} numpy array of type {observation.dtype}, returning action {action}')\n",
    "    return action"
   ]
  },
  {
   "cell_type": "markdown",
   "id": "4667f5a1",
   "metadata": {},
   "source": [
    "We can confirm that the policy returns a valid action label:"
   ]
  },
  {
   "cell_type": "code",
   "execution_count": 13,
   "id": "ad47b72f",
   "metadata": {},
   "outputs": [
    {
     "name": "stdout",
     "output_type": "stream",
     "text": [
      "Received observation: (96, 96, 3) numpy array of type uint8, returning action 0\n"
     ]
    }
   ],
   "source": [
    "action = f_dummy(observations[0])\n",
    "\n",
    "# returned action should be a builtin int or a numpy integer (NOT a numpy array) in the range [0, 4]\n",
    "assert (isinstance(action, (int, np.integer)))\n",
    "assert (action in ACTIONS) # ACTIONS is the set of possible action labels, [0,1,2,3,4]"
   ]
  },
  {
   "cell_type": "markdown",
   "id": "92ab36b3",
   "metadata": {},
   "source": [
    "### Reward\n",
    "\n",
    "To quantify how well a policy is working, the simulator will return the *rewards* that the robot car collected at each simulation step. The rewards determine how well you are doing in a race, and are based on the number of  segments of the track that the robot racer passes:\n",
    "\n",
    "* Everytime a new segments of the track is touched by your robot car, your robot receives a positive reward. You can see this in the visualization when a road segments's color changes to a lighter gray.\n",
    "* The robot car also get a tiny *negative* reward in each time step, as a penalty for spending time.\n",
    "* When the robot car goes off the track, it will not touch any new track segments and thus only collects negative rewards, but also the friction changes which makes the robot car more difficult to control.\n",
    "\n",
    "Overall, the goal is to cover as much of the race track as possible in the given number of simulation iterations. So, your robot car should go as fast as possible while staying on the track!"
   ]
  },
  {
   "cell_type": "markdown",
   "id": "f908609e",
   "metadata": {},
   "source": [
    "### Illustration of running the simulator with the dummy policy\n",
    "\n",
    "Let's try to run the simulation with the dummy policy, and render the output in the popup-window for the default number of iterations."
   ]
  },
  {
   "cell_type": "code",
   "execution_count": 14,
   "id": "20d825fb",
   "metadata": {
    "scrolled": false
   },
   "outputs": [],
   "source": [
    "# running the simulation with the dummy policy\n",
    "# rs = run_simulation(f_dummy, render=1, planet_id=0, track_id=0)"
   ]
  },
  {
   "cell_type": "markdown",
   "id": "0918c2c8",
   "metadata": {},
   "source": [
    "Clearly, this policy doesn't do anything particularly useful, and should make the robot car just slowly move forward. This policy will touch only few road segments, and therefore collect little positive reward.\n",
    "Let's visulize the rewards that the robot collected during the simulation.\n",
    "\n",
    "The first plot below shows when new parts of the track are reached and a large reward is collected. The second plot shows the total/cumulative reward."
   ]
  },
  {
   "cell_type": "code",
   "execution_count": 15,
   "id": "760569cd",
   "metadata": {
    "scrolled": true
   },
   "outputs": [],
   "source": [
    "# plt.figure(figsize=(10,4)) # create a wide figure (size 10) which is not so tall (size 4)\n",
    "# plt.subplot(1,2,1) # create subplot of 1 row, 2 columns, enable plotting in first cell\n",
    "# plt.plot(rs)\n",
    "# plt.xlabel('iteration')\n",
    "# plt.ylabel('reward')\n",
    "# plt.title('Reward per iteration')\n",
    "# plt.grid()\n",
    "\n",
    "# plt.subplot(1,2,2) # create subplot of 1 row, 2 columns, enable plotting in first cell\n",
    "# plt.plot(np.cumsum(rs)) # Cumulative sum of rewards\n",
    "# plt.xlabel('iteration')\n",
    "# plt.ylabel('total reward')\n",
    "# plt.title('Cumulative reward')\n",
    "# plt.grid()\n",
    "\n",
    "\n",
    "# print('Average reward:', np.mean(rs))"
   ]
  },
  {
   "cell_type": "markdown",
   "id": "c4e125f0",
   "metadata": {},
   "source": [
    "For comparing and evaluating classifiers, measure the performance of the classifiers themselves, i.e., the macro-F1 score.\n",
    "\n",
    "Still, the simulation and rewards can help you assess in what situations your robot AI is performing well, and when it is failing."
   ]
  },
  {
   "cell_type": "markdown",
   "id": "474c9f70",
   "metadata": {},
   "source": [
    "# Collecting new demonstrations\n",
    "\n",
    "At some point, you might want to collect more human demonstration data to make your method even beter.\n",
    "You can do this by:\n",
    "\n",
    "- manually controlling the robot car in the simulation yourself to generate new demonstrations\n",
    "- recording the resulting (observation, action) pairs during these demonstrations\n",
    "- saving the good demonstrations to disk to increase your example dataset\n",
    "\n",
    "The code below demonstrates how to do this. The idea is simple: just use the regular `run_simulation()` function, but use a special `f_human()` policy which simply returns the action based on the keyboard input!"
   ]
  },
  {
   "cell_type": "code",
   "execution_count": 16,
   "id": "b00df200",
   "metadata": {},
   "outputs": [],
   "source": [
    "# a human driver\n",
    "def f_human(observation):\n",
    "    # Get the action obtained by the key_press/key_release callbacks from the popup window.\n",
    "    # Note that the human driver (you!) will of course see the environment image in the popup window,\n",
    "    # and ignore the 'observation' input of this function.\n",
    "    # This 'human policy' will therefore return your 'action' response to the visual input by checking\n",
    "    # which keyboard arrows you pressed.\n",
    "    \n",
    "    global KEY_PRESSED\n",
    "    \n",
    "    action = ACTION_NOOP\n",
    "    if KEY_PRESSED[key.LEFT]: action = ACTION_LEFT\n",
    "    elif KEY_PRESSED[key.RIGHT]: action = ACTION_RIGHT\n",
    "    elif KEY_PRESSED[key.UP]: action = ACTION_ACCEL\n",
    "    elif KEY_PRESSED[key.DOWN]: action = ACTION_BRAKE\n",
    "    \n",
    "    return action"
   ]
  },
  {
   "cell_type": "markdown",
   "id": "3f5f9349",
   "metadata": {},
   "source": [
    "When we use this policy, ensure that the simulator stores and return all the (observation, action) pairs by setting the `record_data` argument of run_simulation to `True`.\n",
    "You can adjust the `planet_id` and `track_id` to get human driving responses on a variety of tracks in your training planet environments."
   ]
  },
  {
   "cell_type": "code",
   "execution_count": 17,
   "id": "cc7cf477",
   "metadata": {
    "scrolled": true
   },
   "outputs": [],
   "source": [
    "# planet_id=0 # <-- CHANGE THIS to select the planet; can be 0, 1, 2\n",
    "# track_id=0  # <-- CHANGE THIS to select the track; can be any positive integer\n",
    "\n",
    "# rs, rec_obs, rec_actions = run_simulation(\n",
    "#     f_human,               # by using the 'human' policy, YOU determine the robot's actions based on what you see\n",
    "#     record_data=True,      # record and return all (observation, action) pairs from the simulation \n",
    "#     planet_id=planet_id,   # select the target planet\n",
    "#     track_id=track_id,     # select the target track on that planet (0, 1, 2, etc.)\n",
    "#     iterations=1000,       # maximum number of iterations to run the simulation\n",
    "#     render=True,           # when controling the car manually, it makes sense to render the scene\n",
    "#     delay=0.01             # adding a small delay will help you control the robot car\n",
    "# )\n",
    "# # Note: with delay=0.01 the simulation runs a bit slower, which makes it easier to give demonstrations"
   ]
  },
  {
   "cell_type": "markdown",
   "id": "b759d7a7",
   "metadata": {},
   "source": [
    "Explore the just collected samples in your latest recoding using an interactive slider"
   ]
  },
  {
   "cell_type": "code",
   "execution_count": 18,
   "id": "8083ec27",
   "metadata": {},
   "outputs": [],
   "source": [
    "# def plot_sample(idx, observations, actions):\n",
    "#     observation = observations[idx]\n",
    "#     action = actions[idx]\n",
    "#     plt.clf()\n",
    "#     plt.imshow(observation)\n",
    "#     plt.title(f'{idx}: {action}');\n",
    "    \n",
    "# ipywidgets.interactive(lambda idx: plot_sample(idx, rec_obs, rec_actions), idx=(0,rec_obs.shape[0]-1))"
   ]
  },
  {
   "cell_type": "markdown",
   "id": "0c8cf8de",
   "metadata": {},
   "source": [
    "If you are unhappy with the the demonstration you gave, you can just execute the `run_simulation()` cell above again, until you are satisfied.\n",
    "\n",
    "To save the demonstration to disk, execute the cell below after setting `SAVE_DEMO` to True.\n",
    "\n",
    "**After you have saved the demonstration, don't forget to aftewards IMMEDIATELY set `SAVE_DEMO` back to False to avoid accidentally saving new demonstrations every time you rerun the notebook!!!**\n",
    "\n",
    "Note that the pickle filenames of your recordings will start with `demostud-`, while the originally provided demonstrations start with `demo-`. This makes it easy to load only the original, your, or both types of recordings."
   ]
  },
  {
   "cell_type": "code",
   "execution_count": 19,
   "id": "ce4e67b4",
   "metadata": {},
   "outputs": [],
   "source": [
    "SAVE_DEMO = False # <-- CHANGE THIS to 'True' to SAVE the last recording to disk!\n",
    "\n",
    "if SAVE_DEMO: \n",
    "    rec_N = rec_obs.shape[0]\n",
    "\n",
    "    demonstration = {\n",
    "        'observations': rec_obs,\n",
    "        'actions': rec_actions,\n",
    "        'planets': planet_id * np.ones(rec_N, dtype=int),\n",
    "        'tracks': track_id * np.ones(rec_N, dtype=int),\n",
    "    }\n",
    "    \n",
    "    # include date+time to filename in YYYYMMDD_HHMMSS format\n",
    "    import datetime\n",
    "    now = datetime.datetime.now()\n",
    "    dt_str = now.strftime('%Y%m%d_%H%M%S')\n",
    "\n",
    "    # Save to disk\n",
    "    save_filename = f'demonstrations/demostud-{planet_id}-{track_id}-{dt_str}.pickle'\n",
    "    print(f'Saving demonstation of planet {planet_id}, track {track_id} to {save_filename} ...')\n",
    "    with open(save_filename, 'wb') as fd:\n",
    "        pickle.dump(demonstration, fd)"
   ]
  },
  {
   "cell_type": "markdown",
   "id": "b67f75fe",
   "metadata": {},
   "source": [
    "Ok, that completes the example code.\n",
    "Now it is your turn! Implement your solution to the final assignment below. For full points, make sure you address *all* the numbered items for each section, either by implementing something in code cells, or by providing text in Markdown cells. You are free to add as many code and markdown cells as required. Be sure to first read through all sections before you start, so you know what should go where. We are *not* using nbgrader for this final assignment.\n",
    "\n",
    "**When you are done, double check the \"Deliverables\" section at the start of this notebook on how to prepare your final submission!**\n",
    "\n",
    "Good luck!\n"
   ]
  },
  {
   "cell_type": "markdown",
   "id": "c1edc05e",
   "metadata": {},
   "source": [
    "---\n",
    "\n",
    "# 1. Explore & Inspect the Data (5 points)\n",
    "Add code and markdown cells to address all of the following points:\n",
    "\n",
    "1. Create a visualization that shows three samples from each planet for which you have demonstrations\n",
    "2. Explain in words what you observe: how do the observations from the planets vary?\n",
    "3. Are the samples i.i.d.? What does that imply for splitting your data?\n",
    "4. Is there a class imbalance? If yes, what are procedures to deal with that?\n",
    "5. Do we have a high risk of conflicting labels for observations? What problems can this cause?\n",
    "6. The data was collected from human demonstrations. What are potential issues with this way of collecting data?\n",
    "\n",
    " "
   ]
  },
  {
   "cell_type": "code",
   "execution_count": 20,
   "id": "502616f5",
   "metadata": {
    "scrolled": true
   },
   "outputs": [
    {
     "name": "stdout",
     "output_type": "stream",
     "text": [
      "Found 14 demonstrations\n",
      "The shape of observations is (1400, 96, 96, 3).\n",
      "The shape of actions is (1400,).\n",
      "The shape of plant_ids is (1400,).\n",
      "The shape of track_ids is (1400,).\n"
     ]
    }
   ],
   "source": [
    "# Reload all availble demonstration pickle files from the directory\n",
    "\n",
    "DEMO_FILEPATTERN = 'demo*-*.pickle'\n",
    "\n",
    "# find the relevant filenames\n",
    "filenames = glob.glob(f'demonstrations/{DEMO_FILEPATTERN}')\n",
    "filenames.sort()\n",
    "print(f'Found {len(filenames)} demonstrations')\n",
    "\n",
    "# load the found pickle files\n",
    "demonstrations = []\n",
    "for filename in filenames:\n",
    "    with open(filename, 'rb') as fd:\n",
    "        demonstration = pickle.load(fd)        \n",
    "        demonstrations.append(demonstration)\n",
    "\n",
    "# combine all the observations, actions, planet and track ids\n",
    "observations = np.concatenate([d['observations'] for d in demonstrations])\n",
    "actions = np.concatenate([d['actions'] for d in demonstrations])\n",
    "planet_ids = np.concatenate([d['planets'] for d in demonstrations])\n",
    "track_ids = np.concatenate([d['tracks'] for d in demonstrations])\n",
    "\n",
    "# pre-processing: subsample and only keep every n-th sample for efficiency\n",
    "ss = 10\n",
    "observations = observations[::ss]\n",
    "actions = actions[::ss]\n",
    "planet_ids = planet_ids[::ss]\n",
    "track_ids = track_ids[::ss]\n",
    "\n",
    "print(f'The shape of observations is {observations.shape}.')\n",
    "print(f'The shape of actions is {actions.shape}.')\n",
    "print(f'The shape of plant_ids is {planet_ids.shape}.')\n",
    "print(f'The shape of track_ids is {track_ids.shape}.')"
   ]
  },
  {
   "cell_type": "markdown",
   "id": "75cdd9fe",
   "metadata": {},
   "source": [
    "## 1.1. Visualization"
   ]
  },
  {
   "cell_type": "markdown",
   "id": "b85388e4",
   "metadata": {},
   "source": [
    "As shown in Figure 1.1, 3 samples for each planet are dispalyed."
   ]
  },
  {
   "cell_type": "code",
   "execution_count": 21,
   "id": "0eb4ece4",
   "metadata": {
    "scrolled": true
   },
   "outputs": [
    {
     "data": {
      "image/png": "[encoded data removed]",
      "text/plain": [
       "<Figure size 576x576 with 9 Axes>"
      ]
     },
     "metadata": {
      "needs_background": "light"
     },
     "output_type": "display_data"
    }
   ],
   "source": [
    "def simple_viz(observations, actions, planet_ids):\n",
    "    plt.figure(figsize=(8,8))\n",
    "    for planet_idx in range(len(np.unique(planet_ids))):\n",
    "        for seg_idx in range(3):\n",
    "            observation = observations[planet_ids==planet_idx][seg_idx*50]\n",
    "            plt.suptitle('Figure 1.1  Visualization of Different Planets',fontsize=12)\n",
    "            plt.subplot(3,3,seg_idx*3+planet_idx+1)\n",
    "            plt.axis('off')\n",
    "            plt.imshow(observation)\n",
    "            plt.title(f'Planet:{planet_idx}  Segment:{seg_idx+1}',fontsize =10)\n",
    "\n",
    "simple_viz(observations, actions, planet_ids)"
   ]
  },
  {
   "cell_type": "markdown",
   "id": "d68c8005",
   "metadata": {},
   "source": [
    "## 1.2. Observations\n",
    "From the figures shown above, the main variation can be concluded that  \n",
    "- The three planets have different background colors on the surface. The Earth track has green surroundings, the Mars track has red environment, and the Saturn track has brownish surroundings.\n",
    "- However, the racing tracks on all planets have similar colors and shapes, including the width of the track and markers at the corners."
   ]
  },
  {
   "cell_type": "markdown",
   "id": "02c12fb2",
   "metadata": {},
   "source": [
    "## 1.3. Sample Distribution"
   ]
  },
  {
   "cell_type": "code",
   "execution_count": 22,
   "id": "fb44abed",
   "metadata": {},
   "outputs": [
    {
     "name": "stdout",
     "output_type": "stream",
     "text": [
      "The sample number of Earth is 1000\n",
      "The sample number of Mars is 200\n",
      "The sample number of Saturn is 200\n"
     ]
    }
   ],
   "source": [
    "count_planet_0 = np.count_nonzero(planet_ids==0)\n",
    "count_planet_1 = np.count_nonzero(planet_ids==1)\n",
    "count_planet_2 = np.count_nonzero(planet_ids==2)\n",
    "print(\"The sample number of Earth is\",count_planet_0)\n",
    "print(\"The sample number of Mars is\",count_planet_1)\n",
    "print(\"The sample number of Saturn is\",count_planet_2)"
   ]
  },
  {
   "cell_type": "markdown",
   "id": "e4b6bf1d",
   "metadata": {},
   "source": [
    "The samples are not independently and identically distributed.\n",
    "\n",
    "Independent and identical distribution means that the sampling process should be in a random process. Each sample obeys the same distribution and is independent of each others. However, the proportion of samples sampled on different planets is 5:1:1, which means that the samples do not follow the same distribution. In addition, since the demonstrations are manually collected by humans, the samples may influence the adjacent sample if the sample indices are continuous.  \n",
    "This means that we should shuffle the indices to break the dependencies between adjacent samples, and reassign the proportions of samples when splitting dataset randomly, making sure samples on different planets have roughly identical and independent distribution."
   ]
  },
  {
   "cell_type": "markdown",
   "id": "f8f7216c",
   "metadata": {},
   "source": [
    "## 1.4. Class Imbalance"
   ]
  },
  {
   "cell_type": "code",
   "execution_count": 26,
   "id": "b5a73067",
   "metadata": {
    "scrolled": true
   },
   "outputs": [
    {
     "name": "stdout",
     "output_type": "stream",
     "text": [
      "The number of No_operation is 681\n",
      "The number of Accelerate is 276\n",
      "The number of Steer_left is 271\n",
      "The number of Steer_right is 172\n",
      "The number of Brake is 0\n"
     ]
    },
    {
     "data": {
      "image/png": "[encoded data removed]",
      "text/plain": [
       "<Figure size 576x576 with 1 Axes>"
      ]
     },
     "metadata": {},
     "output_type": "display_data"
    }
   ],
   "source": [
    "count_0 = np.count_nonzero(actions==0)\n",
    "count_1 = np.count_nonzero(actions==1)\n",
    "count_2 = np.count_nonzero(actions==2)\n",
    "count_3 = np.count_nonzero(actions==3)\n",
    "count_4 = np.count_nonzero(actions==4)\n",
    "print(\"The number of No_operation is\",count_0)\n",
    "print(\"The number of Accelerate is\",count_1)\n",
    "print(\"The number of Steer_left is\",count_2)\n",
    "print(\"The number of Steer_right is\",count_3)\n",
    "print(\"The number of Brake is\",count_4)\n",
    "plt.figure(figsize=(8,8))\n",
    "plt.title('Figure 1.2  Class Distribution of Different Actions',fontsize=12)\n",
    "plt.pie([count_0,count_1,count_2,count_3,count_4])\n",
    "plt.legend([\"No_operation\",\"Accelerate\",\"Turn_steer_left\",\"Turn_steer_right\",\"Brake\"])\n",
    "plt.show()"
   ]
  },
  {
   "cell_type": "markdown",
   "id": "50b57adc",
   "metadata": {},
   "source": [
    "Yes, the class are imbalanced. As shown in Figure 1.2, there are 5 different actions. The proportion of each class is uneven. There is no sample for the \"Brake\" action. The number of class \"No_operation\" action, reaches nearly half of the amount of all samples.\n",
    "\n",
    "These strongly imbalanced labels will lead to deceptive results when using accuracy as metrics during model evaluation. \n",
    "- An effective way to mitigate its affection is randomly copying several samples from the minority classes, and adding them to the original set to balance the data set, which is called **random oversampling**.\n",
    "- Another effective way is called **random undersampling**. This method randomly removes some samples in the majority class to make the number of majority class and minority class close to balance."
   ]
  },
  {
   "cell_type": "markdown",
   "id": "f9eecc56",
   "metadata": {},
   "source": [
    "## 1.5. Label Conflicting"
   ]
  },
  {
   "cell_type": "code",
   "execution_count": 27,
   "id": "dafbc54f",
   "metadata": {
    "scrolled": true
   },
   "outputs": [
    {
     "data": {
      "image/png": "[encoded data removed]",
      "text/plain": [
       "<Figure size 1080x576 with 20 Axes>"
      ]
     },
     "metadata": {
      "needs_background": "light"
     },
     "output_type": "display_data"
    }
   ],
   "source": [
    "plt.figure(figsize=(15,8))\n",
    "for act_idx in range(4):\n",
    "    for seg_idx in range(5):\n",
    "        observation = observations[actions==act_idx][seg_idx*20]\n",
    "        plt.suptitle('Figure 1.3  Visualization of Different Actions',fontsize=12)\n",
    "        plt.subplot(4,5,act_idx*5+seg_idx+1)\n",
    "        plt.axis('off')\n",
    "        plt.imshow(observation)\n",
    "        plt.title(f'Action:{act_idx}  Segment:{seg_idx+1}',fontsize=9)"
   ]
  },
  {
   "cell_type": "markdown",
   "id": "2a1b562b",
   "metadata": {},
   "source": [
    "As for the label confliction, the model does have high risk of conflicting labels for observations. \n",
    "\n",
    "This happens mainly under 2 circumstances as follows:\n",
    "\n",
    "- When the car is running on a straight road, the `No-Operation` actions and the `Accelarate` actions are easy to be confused. Both actions can keep the right direction.  \n",
    "- When the car is **running off the center line** of the road while confronting with a sudden turn, the `Steer Right` actions and `Steer Left` actions are easy to be confused.  \n",
    "\n",
    "This problem will directly influence the prediction accuracy of the output action. The car may not perform the optimal actions under current observations. Furthermore, as for the actual racing performance, the confliction will lead to low speed racing and fluctuating motion trajectory."
   ]
  },
  {
   "cell_type": "markdown",
   "id": "4d286ff0",
   "metadata": {},
   "source": [
    "## 1.6. Human Demonstrations"
   ]
  },
  {
   "cell_type": "markdown",
   "id": "291c8bd5",
   "metadata": {},
   "source": [
    "- The manually collected data can be very expensive and time-consuming.\n",
    "- The classes in manually collected data may be distributed imbalanced. For example, the samples of `No operation` actions are more than other samples in the real world.\n",
    "- Individual differences will influence the sample distribution. For instance, some people prefer driving slower with `No operation`, while some people prefer driving faster with `Accelerate`, which results in different strategies under similar circumstances.\n",
    "- Human also makes mistakes. Therefore, the collected data may have errors and noises."
   ]
  },
  {
   "cell_type": "markdown",
   "id": "dce1a0f4",
   "metadata": {},
   "source": [
    "---\n",
    "\n",
    "# 2. Prepare the Data and Evaluate Features (15 points)\n",
    "\n",
    "In this section you should pre-process the data, e.g., down-sample, and extract features to create your training data matrix \"X\".\n",
    "\n",
    "\n",
    "## 2.1. Clustering observations from planets\n",
    "\n",
    "Before we turn towards the main task of action classification (section 2.2), let us first try a small unsupervised clustering task. Pretend that we only have the observations, but did not record the planet_ids of these observations. The goal is to cluster the observations into k=3 clusters such that 1 cluster (approximately) corresponds to 1 planet. For this task, you can ignore the actions and track_id information.\n",
    "\n",
    "1. Propose a feature extraction method `feat_extract_clust` which can be used to CLUSTER the samples and (approximately) recover the planet_ids. Motivate what you use in your feature extraction method.\n",
    "2. Perform clustering based on the features obtained with `feat_extract_clust`, and compare the results to the true planet_id labels. For this you will need to select a statistical measure to compare cluster labels to planet_ids.\n",
    "3. Explain what measure you use for comparing the features and why.\n",
    "4. Can you recuperate the planet_ids by clustering? Motivate your answer with your results."
   ]
  },
  {
   "cell_type": "markdown",
   "id": "0221bc03",
   "metadata": {},
   "source": [
    "### 2.1.1. Feature Extraction for Clustering"
   ]
  },
  {
   "cell_type": "markdown",
   "id": "afc8c17a",
   "metadata": {},
   "source": [
    "Based on our primitive observations on the data, the color of the terrain is the most obvious feature to discriminate different planets from each other. Therefore, the **value of RGB** of each observation is the main feature for planet_id. To extract the features for planet_id clustering, we use a **mean-value kernel** to downsample the images. This operator will downsample each image from $96 \\times 96$ dimensions to $6 \\times 6$ dimensions while preserving the RGB value ranging from 0 to 255, which is shown in Figure 2.1."
   ]
  },
  {
   "cell_type": "code",
   "execution_count": 28,
   "id": "c674de4d",
   "metadata": {},
   "outputs": [
    {
     "name": "stdout",
     "output_type": "stream",
     "text": [
      "The size of each sample before feature extraction:\n",
      "(96, 96, 3)\n",
      "The size of mean-value kernel:\n",
      "(16, 16, 3)\n",
      "The size of each sample after feature extraction:\n",
      "(6, 6, 3)\n"
     ]
    }
   ],
   "source": [
    "# Keep the Color Information and Discard the Texture of the Surface\n",
    "# Downsampling the Images to Low-Resolution Images with Mean-Value Kernel\n",
    "\n",
    "print(\"The size of each sample before feature extraction:\")\n",
    "print(observations[0].shape)\n",
    "\n",
    "mean_kernel_size = 16\n",
    "mean_kernel = np.ones([mean_kernel_size,mean_kernel_size,3])/mean_kernel_size**2\n",
    "obs_cluster_size = int(observations[0].shape[0]/mean_kernel_size)\n",
    "\n",
    "print(\"The size of mean-value kernel:\")\n",
    "print(mean_kernel.shape)\n",
    "\n",
    "obs_cluster = np.zeros([1400,6,6,3])\n",
    "for idx in range(observations.shape[0]):\n",
    "    for i in range(obs_cluster_size):\n",
    "        for j in range(obs_cluster_size):\n",
    "            element = observations[idx]\\\n",
    "            [i*mean_kernel_size:(i+1)*mean_kernel_size,j*mean_kernel_size:(j+1)*mean_kernel_size,:] * mean_kernel\n",
    "            obs_cluster[idx,i,j,:] = (element.sum(axis=0)).sum(axis=0)\n",
    "\n",
    "print(\"The size of each sample after feature extraction:\")\n",
    "print(obs_cluster[0].shape)"
   ]
  },
  {
   "cell_type": "code",
   "execution_count": 29,
   "id": "52207277",
   "metadata": {},
   "outputs": [],
   "source": [
    "from sklearn.utils import shuffle\n",
    "\n",
    "obs_cluster_shuttled, planet_ids_shuffled, actions_shuffled = shuffle(obs_cluster,planet_ids,actions,random_state=0)"
   ]
  },
  {
   "cell_type": "code",
   "execution_count": 30,
   "id": "92e02d11",
   "metadata": {
    "scrolled": true
   },
   "outputs": [
    {
     "data": {
      "text/plain": [
       "<matplotlib.image.AxesImage at 0x7f8d8d12ac90>"
      ]
     },
     "execution_count": 30,
     "metadata": {},
     "output_type": "execute_result"
    },
    {
     "data": {
      "image/png": "[encoded data removed]",
      "text/plain": [
       "<Figure size 576x288 with 2 Axes>"
      ]
     },
     "metadata": {
      "needs_background": "light"
     },
     "output_type": "display_data"
    }
   ],
   "source": [
    "plt.figure(figsize=(8,4))\n",
    "plt.suptitle('Figure 2.1  Demonstration of Feature Extraction')\n",
    "plt.subplot(1,2,1)\n",
    "plt.axis('off')\n",
    "plt.title(\"Original observation\")\n",
    "plt.imshow((observations[1000]).astype(int))\n",
    "plt.subplot(1,2,2)\n",
    "plt.axis('off')\n",
    "plt.title(\"Processed observation\")\n",
    "plt.imshow((obs_cluster[1000]).astype(int))"
   ]
  },
  {
   "cell_type": "markdown",
   "id": "fd9c03ff",
   "metadata": {},
   "source": [
    "### 2.1.2. Clustering after Feature Extractinon"
   ]
  },
  {
   "cell_type": "code",
   "execution_count": 31,
   "id": "a26ef986",
   "metadata": {
    "scrolled": false
   },
   "outputs": [
    {
     "name": "stdout",
     "output_type": "stream",
     "text": [
      "The number of correct labels after clustering is 1000.\n",
      "The number of wrong labels after clustering is 400.\n"
     ]
    },
    {
     "data": {
      "image/png": "[encoded data removed]",
      "text/plain": [
       "<Figure size 720x288 with 2 Axes>"
      ]
     },
     "metadata": {
      "needs_background": "light"
     },
     "output_type": "display_data"
    }
   ],
   "source": [
    "from sklearn.cluster import KMeans\n",
    "\n",
    "kmeans_model = KMeans(n_clusters=3, random_state=5)\n",
    "obs_cluster_shuttled = obs_cluster_shuttled.reshape([1400,-1])\n",
    "kmeans_model.fit(obs_cluster_shuttled)\n",
    "kmeans_labels = kmeans_model.labels_\n",
    "\n",
    "label_judgement = kmeans_labels == planet_ids_shuffled\n",
    "label_ture = np.count_nonzero(label_judgement==1)\n",
    "label_false = np.count_nonzero(label_judgement==0)\n",
    "print(f'The number of correct labels after clustering is {label_ture}.')\n",
    "print(f'The number of wrong labels after clustering is {label_false}.')\n",
    "\n",
    "plt.figure(figsize=(10,4))\n",
    "plt.suptitle('Figure 2.2  Label Statistics',fontsize=12)\n",
    "# Histogram of Original\n",
    "plt.subplot(1,2,1)\n",
    "plt.hist(planet_ids_shuffled, bins=3,rwidth=0.9)\n",
    "plt.title(\"Histgram for Original Labels\",fontsize=9)\n",
    "\n",
    "# Histogram of Clustered\n",
    "plt.subplot(1,2,2)\n",
    "plt.hist(kmeans_labels, bins=3,rwidth=0.9)\n",
    "plt.title(\"Histgram for Clustered Labels\",fontsize=9)\n",
    "plt.show()"
   ]
  },
  {
   "cell_type": "markdown",
   "id": "a77f4f32",
   "metadata": {},
   "source": [
    "### 2.1.3. Measures for Feature Comparing\n",
    "We applied the **K-Means** method to classify the data, which is representative in unsupervised clustering algorithms. This method randomly selects K objects (3 for this case) as the initial cluster centers, then calculates the distance between each object and each seed cluster center, and assigns each object to the cluster center closest to it.\n",
    "\n",
    "K-Means method is efficient and scalable since the computational complexity is close to the linear complexity. Furthermore, this method can fast convergence and do computation during iteration, which also has strong interpretability. The **RGB features of three planet classes** are easy to be extracted, and the clusters have a sufficient distance between each other. Therefore, we choose the K-Means method to compare the features."
   ]
  },
  {
   "cell_type": "markdown",
   "id": "120aa04c",
   "metadata": {},
   "source": [
    "### 2.1.4. Recuperating the Labels"
   ]
  },
  {
   "cell_type": "markdown",
   "id": "5be03def",
   "metadata": {},
   "source": [
    "Theoretically, the labels cannot be recuperated because the clustering algorithm is an unsupervised approach. It will only classify the samples into several classes without doing a label. The K-Means method only classifies the observations into each classes, but can not connect the class to the corresponding planet label. In other words, the model **may correctly connect** the classes to the true planets as shown in Figure 2.2. It is also possible to badly connect to the wrong planets."
   ]
  },
  {
   "cell_type": "markdown",
   "id": "144d5957",
   "metadata": {},
   "source": [
    "## 2.2. Features for action classification\n",
    "\n",
    "Now we turn to feature exration for the main classification task, which you can reuse also in the later sections of this notebook.\n",
    "\n",
    "1. Explain: Will you use the same extractor as in step 1; Why (not)?\n",
    "2. Propose a feature extraction method `feat_extract` which you will use in the subsequent sections to classify *action*, rather than planet_ids.\n",
    "3. Explain: Are there any important hyperparameters in your feature extractor?\n",
    "4. Explain: How will you decide on the values for these hyperparameters? What is the trade-off if this hyperparameter is either (too) low or (too) high?\n",
    "5. Explain: What is the dimensionality of your feature space?\n",
    "6. Apply your `feat_extract` to all observations to create the data that you will use in the subsequent sections."
   ]
  },
  {
   "cell_type": "markdown",
   "id": "6c42a094",
   "metadata": {},
   "source": [
    "### 2.2.1. Feature Extraction Strategy for Observation Clustering"
   ]
  },
  {
   "cell_type": "markdown",
   "id": "7efe30de",
   "metadata": {},
   "source": [
    "No, the feature extraction strategy should vary from task to task. Different classifications should target different features.\n",
    "- As for the clustering task to distinguish different planets, it is observed that environment color is the most obvious characteristic between different planets. Therefore, in the feature extraction strategy for clustering, the RGB channels are maintained as primitive features while the texture of the observations texture is ignored.  \n",
    "- As for the action classification task, our inspiration to design the feature extractor comes from two aspects. Firstly, it is empirically assumed that the classifier should pay more attention to the edge of the road and the position of the car. Secondly, in order to gain excellent performance on the unknown planet, a robust model should not be sensitive to the variance of planets. And the most obvious variable of planets is the color, which is exactly proven by our clustering model in the last section. Thus, the feature extractor for action classification should extract edge, car, and background, while suppressing the color information."
   ]
  },
  {
   "cell_type": "markdown",
   "id": "9cd3073b",
   "metadata": {},
   "source": [
    "### 2.2.2. Feature Extraction Strategy for Action Classification"
   ]
  },
  {
   "cell_type": "code",
   "execution_count": 32,
   "id": "956b3c6e",
   "metadata": {
    "scrolled": false
   },
   "outputs": [
    {
     "data": {
      "text/plain": [
       "<matplotlib.image.AxesImage at 0x7f8d8c218490>"
      ]
     },
     "execution_count": 32,
     "metadata": {},
     "output_type": "execute_result"
    },
    {
     "data": {
      "image/png": "[encoded data removed]",
      "text/plain": [
       "<Figure size 576x288 with 2 Axes>"
      ]
     },
     "metadata": {
      "needs_background": "light"
     },
     "output_type": "display_data"
    }
   ],
   "source": [
    "# Transfer the RGB channels into one grey channel varies from 0 to 255 \n",
    "def feat_extract(observations):\n",
    "    obs_gray = np.zeros([observations.shape[0],96,96,1])\n",
    "    gray_coefficient = np.array([0.30, 0.59, 0.11])\n",
    "    for i in range(observations.shape[0]):\n",
    "        gray = np.dot(observations[i,:,:,:], gray_coefficient).astype(int)\n",
    "        obs_gray[i] = gray[:,:,np.newaxis]\n",
    "    return obs_gray\n",
    "\n",
    "obs_gray = feat_extract(observations)\n",
    "\n",
    "plt.figure(figsize=(8,4))\n",
    "plt.suptitle('Figure 2.3  Demonstration of Feature Extraction (Gray Tranformation)')\n",
    "plt.subplot(1,2,1)\n",
    "plt.axis('off')\n",
    "plt.title(\"Original observation\")\n",
    "plt.imshow((observations[0]).astype(int))\n",
    "plt.subplot(1,2,2)\n",
    "plt.axis('off')\n",
    "plt.title(\"Processed observation\")\n",
    "plt.imshow(obs_gray[0],cmap='gray')"
   ]
  },
  {
   "cell_type": "code",
   "execution_count": 33,
   "id": "3ae95025",
   "metadata": {
    "scrolled": false
   },
   "outputs": [],
   "source": [
    "# from matplotlib.ticker import MultipleLocator\n",
    "\n",
    "# # Histgram of Gray Scale\n",
    "# plt.figure(figsize=(20,5))\n",
    "# plt.title('Figure 2.4  Distribution of Gray Channel')\n",
    "# plt.hist(obs_gray.flatten(),bins=40,rwidth=0.9,)\n",
    "# x_major_locator=MultipleLocator(10)\n",
    "# ax=plt.gca()\n",
    "# ax.xaxis.set_major_locator(x_major_locator)\n",
    "# plt.show()"
   ]
  },
  {
   "cell_type": "code",
   "execution_count": 34,
   "id": "82647cf7",
   "metadata": {
    "scrolled": true
   },
   "outputs": [],
   "source": [
    "# # Find the Threshold to transfer the gray channel into binary value\n",
    "# gray_threshold = 130\n",
    "# obs_gray[obs_gray>=gray_threshold]=255\n",
    "# obs_gray[obs_gray<gray_threshold]=0\n",
    "# # Set the Gray Scale Value of Monitor Bar at the bottom of the Image to 255\n",
    "# obs_gray[:,80:,:] = 255\n",
    "\n",
    "# plt.figure(figsize=(8,4))\n",
    "# plt.suptitle('Figure 2.5  Demonstration of Feature Extraction (Binary Tranformation)')\n",
    "# plt.subplot(1,2,1)\n",
    "# plt.axis('off')\n",
    "# plt.title(\"Original observation\")\n",
    "# plt.imshow((observations[0]).astype(int))\n",
    "# plt.subplot(1,2,2)\n",
    "# plt.axis('off')\n",
    "# plt.title(\"Processed observation\")\n",
    "# plt.imshow(obs_gray[0],cmap='gray')\n",
    "\n",
    "\n",
    "#- **GrayScale Threshold** to determine the binary boundary, which transforms the grayscale image into binary image.\n",
    "\n",
    "#In addition, the grayscale threshold is tuned by determining if the current road can be filtered from the observations. If the threshold is too high, pixels belonging to the surrounding observations will be filtered as road. If the threshold is too low, pixels belonging to the road will be filtered as the surrounding environment."
   ]
  },
  {
   "cell_type": "markdown",
   "id": "fe78cae0",
   "metadata": {},
   "source": [
    "### 2.2.3. Hyperparameters for Feature Extraction"
   ]
  },
  {
   "cell_type": "markdown",
   "id": "6069a8b7",
   "metadata": {},
   "source": [
    "**GrayScale Coefficients:** Transfer 3 RGB channels into 1 grey channel, which are [0.3, 0.6, 0.1] in our feature extraction method."
   ]
  },
  {
   "cell_type": "markdown",
   "id": "75de4bf8",
   "metadata": {},
   "source": [
    "### 2.2.4. Hyperparameters Tuning"
   ]
  },
  {
   "cell_type": "markdown",
   "id": "ca09ef4b",
   "metadata": {},
   "source": [
    "Since the color of the current road is close to grey, the GrayScale Coefficients should be able to distinguish the surrounding environment from the road. The purpose of tuning this hyperparameter is to **enlarge the difference between the road and the environment** in the grayscale channel. If the grayscale coefficients are too high or too low, both situations will be difficult to distinguish the road from the surrounding environment. The basic trade-off is the difference in grayscale between the road and the environment. "
   ]
  },
  {
   "cell_type": "markdown",
   "id": "c75994a6",
   "metadata": {},
   "source": [
    "### 2.2.5. Dimensionality"
   ]
  },
  {
   "cell_type": "code",
   "execution_count": 35,
   "id": "e1f81289",
   "metadata": {},
   "outputs": [
    {
     "name": "stdout",
     "output_type": "stream",
     "text": [
      "The dimensionality of feature space is 9216.\n"
     ]
    }
   ],
   "source": [
    "DIM = obs_gray[0].shape[0] * obs_gray[0].shape[1]\n",
    "print(f'The dimensionality of feature space is {DIM}.')"
   ]
  },
  {
   "cell_type": "markdown",
   "id": "307ab5f6",
   "metadata": {},
   "source": [
    "### 2.2.6. Observations about Feature Extraction"
   ]
  },
  {
   "cell_type": "code",
   "execution_count": 36,
   "id": "8256be3f",
   "metadata": {},
   "outputs": [
    {
     "name": "stdout",
     "output_type": "stream",
     "text": [
      "The shape of features is (1400, 96, 96, 1).\n"
     ]
    }
   ],
   "source": [
    "obs_gray = feat_extract(observations)\n",
    "print(f'The shape of features is {obs_gray.shape}.')"
   ]
  },
  {
   "cell_type": "markdown",
   "id": "33d131ef",
   "metadata": {},
   "source": [
    "----\n",
    "\n",
    "# 3. Single Planet Action Classification  (35 points)\n",
    "To get started, we will train and test a model that is only suitable for racing on a single planet, i.e., on Earth (planet 0)\n",
    "\n",
    "As a first step split the data into a training, validation, and test set. You can use the provided data, or collect your own.\n",
    "\n",
    "## 3.1. Shortlist Promising Models\n",
    "1. Compare at least 2 models. One of them needs to be a neural network, one of them needs to be not a neural network.\n",
    "2. For each of the models that you are going to compare, explain what are its relative advantages/disadvantages in terms of training time, test time, and number of model parameters compared to the other choices. Also explain how these considerations relate to the target application, and motivate which type of model would be preferred based on these considerations only (so disregarding the actual quality of the models).\n",
    "3. If needed, perform dimensionality reduction before training your selection models. Expain why it is (not) needed.\n",
    "4. Roughly tune those models\n",
    "5. Evaluate the models in terms of performance, bias, variance, etc.\n",
    "6. Please use the macro-F1 score (see sklearn documentation) as your main criterion. Looking at confusion matrices, accuracy etc. might also provide valuable insights. Why is the accuracy score potentially problematic in this setting?\n",
    "7. Pick one algorithm to develop further.\n"
   ]
  },
  {
   "cell_type": "markdown",
   "id": "3f03451a",
   "metadata": {},
   "source": [
    "### 3.1.1. Modeling"
   ]
  },
  {
   "cell_type": "code",
   "execution_count": 162,
   "id": "65736444",
   "metadata": {
    "scrolled": true
   },
   "outputs": [
    {
     "name": "stdout",
     "output_type": "stream",
     "text": [
      "Found 10 demonstrations\n",
      "The shape of observations is (953, 96, 96, 3).\n",
      "The shape of actions is (953,).\n",
      "The shape of observed features is (953, 96, 96, 1).\n"
     ]
    }
   ],
   "source": [
    "## Pre-processing Single Planet Data\n",
    "\n",
    "# Reload pickle files of Earth from the directory\n",
    "DEMO_FILEPATTERN = 'demo-0-*.pickle'\n",
    "\n",
    "# find the relevant filenames\n",
    "filenames = glob.glob(f'demonstrations/{DEMO_FILEPATTERN}')\n",
    "filenames.sort()\n",
    "print(f'Found {len(filenames)} demonstrations')\n",
    "\n",
    "# load the found pickle files\n",
    "demonstrations = []\n",
    "for filename in filenames:\n",
    "    with open(filename, 'rb') as fd:\n",
    "        demonstration = pickle.load(fd)        \n",
    "        demonstrations.append(demonstration)\n",
    "\n",
    "# combine all the observations, actions, planet and track ids\n",
    "observations = np.concatenate([d['observations'] for d in demonstrations])\n",
    "actions = np.concatenate([d['actions'] for d in demonstrations])\n",
    "planet_ids = np.concatenate([d['planets'] for d in demonstrations])\n",
    "track_ids = np.concatenate([d['tracks'] for d in demonstrations])\n",
    "\n",
    "# pre-processing: subsample and only keep every n-th sample for efficiency\n",
    "ss = 5\n",
    "observations = observations[::ss]\n",
    "actions = actions[::ss]\n",
    "planet_ids = planet_ids[::ss]\n",
    "track_ids = track_ids[::ss]\n",
    "\n",
    "# Balance the class over Earth samples\n",
    "obs_0 = observations[actions==0][::3]\n",
    "obs_1 = observations[actions==1][::2]\n",
    "obs_2 = observations[actions==2][::2]\n",
    "obs_3 = observations[actions==3][:]\n",
    "obs_4 = observations[actions==4][:]\n",
    "observations = np.concatenate((obs_0,obs_1,obs_2,obs_3,obs_4),axis=0)\n",
    "\n",
    "act_0 = actions[actions==0][::3]\n",
    "act_1 = actions[actions==1][::2]\n",
    "act_2 = actions[actions==2][::2]\n",
    "act_3 = actions[actions==3][:]\n",
    "act_4 = actions[actions==4][:]\n",
    "actions = np.concatenate((act_0,act_1,act_2,act_3,act_4),axis=0)\n",
    "\n",
    "print(f'The shape of observations is {observations.shape}.')\n",
    "print(f'The shape of actions is {actions.shape}.')\n",
    "\n",
    "# Feature Extraction\n",
    "obs_gray = feat_extract(observations)\n",
    "print(f'The shape of observed features is {obs_gray.shape}.')"
   ]
  },
  {
   "cell_type": "markdown",
   "id": "db6c392c",
   "metadata": {},
   "source": [
    "#### 3.1.1.1. Random Forest Model"
   ]
  },
  {
   "cell_type": "code",
   "execution_count": 163,
   "id": "2ba602a8",
   "metadata": {},
   "outputs": [],
   "source": [
    "# Shuffle and Split \n",
    "from sklearn.model_selection import train_test_split\n",
    "from sklearn.utils import shuffle\n",
    "from sklearn.decomposition import PCA\n",
    "from sklearn.ensemble import RandomForestClassifier\n",
    "from sklearn.metrics import f1_score,confusion_matrix,accuracy_score\n",
    "\n",
    "obs_gray_shuffled, actions_shuffled = shuffle(obs_gray,actions,random_state=0)\n",
    "\n",
    "X_train, X_rem, y_train, y_rem = train_test_split(obs_gray_shuffled,actions_shuffled, train_size=0.8,random_state=0)\n",
    "# Let the valid and test size to be equal (10% each of overall data). \n",
    "X_valid, X_test, y_valid, y_test = train_test_split(X_rem,y_rem, test_size=0.5,random_state=0)"
   ]
  },
  {
   "cell_type": "code",
   "execution_count": 136,
   "id": "6d4a7c33",
   "metadata": {},
   "outputs": [],
   "source": [
    "# PCA before RF to Mitigate Sparsity\n",
    "\n",
    "# Extract 5 Primary Components as Input Features for Random Forest\n",
    "def rf_pca(n_components, X_train, X_valid=np.array(None), X_test=np.array(None)):\n",
    "    # Extract 10 Primary Components as Input Features for Random Forest\n",
    "    pca_model = PCA(n_components=n_components)\n",
    "    pca_model.fit(X_train.reshape(X_train.shape[0],-1))\n",
    "\n",
    "    X_train_pca = pca_model.transform(X_train.reshape(X_train.shape[0],-1))\n",
    "    \n",
    "    X_valid_pca = None\n",
    "    if X_valid.flatten()[0]!=None:\n",
    "        X_valid_pca = pca_model.transform(X_valid.reshape(X_valid.shape[0],-1))\n",
    "        \n",
    "    X_test_pca = None\n",
    "    if X_test.flatten()[0]!=None:\n",
    "        X_test_pca = pca_model.transform(X_test.reshape(X_test.shape[0],-1))\n",
    "    \n",
    "    return X_train_pca, X_valid_pca, X_test_pca"
   ]
  },
  {
   "cell_type": "code",
   "execution_count": 137,
   "id": "f3f0e374",
   "metadata": {},
   "outputs": [],
   "source": [
    "X_train_pca, X_valid_pca, X_test_pca = rf_pca(5, X_train, X_valid, X_test)\n",
    "rf_model = RandomForestClassifier(n_estimators=300, max_depth=10, random_state=0)"
   ]
  },
  {
   "cell_type": "code",
   "execution_count": 138,
   "id": "4c0616e7",
   "metadata": {
    "scrolled": false
   },
   "outputs": [
    {
     "name": "stdout",
     "output_type": "stream",
     "text": [
      "CPU times: user 385 ms, sys: 4.68 ms, total: 390 ms\n",
      "Wall time: 388 ms\n"
     ]
    },
    {
     "data": {
      "text/plain": [
       "RandomForestClassifier(max_depth=10, n_estimators=300, random_state=0)"
      ]
     },
     "execution_count": 138,
     "metadata": {},
     "output_type": "execute_result"
    }
   ],
   "source": [
    "%%time\n",
    "# Train the random forest model\n",
    "rf_model.fit(X_train_pca,y_train)"
   ]
  },
  {
   "cell_type": "code",
   "execution_count": 139,
   "id": "cb87e9d5",
   "metadata": {},
   "outputs": [
    {
     "name": "stdout",
     "output_type": "stream",
     "text": [
      "CPU times: user 16.5 ms, sys: 4.15 ms, total: 20.7 ms\n",
      "Wall time: 20.3 ms\n"
     ]
    }
   ],
   "source": [
    "%%time\n",
    "# Test the random forest model\n",
    "y_pred_rf = rf_model.predict(X_test_pca)"
   ]
  },
  {
   "cell_type": "code",
   "execution_count": 140,
   "id": "ecfd6f01",
   "metadata": {},
   "outputs": [
    {
     "name": "stdout",
     "output_type": "stream",
     "text": [
      "Accuracy: 0.6666666666666666\n",
      "Macro-F1 Score: 0.6475000927265309\n",
      "Confusion Matrix:\n",
      "[[24  3  5  7]\n",
      " [ 6  5  0  1]\n",
      " [ 0  1 18  0]\n",
      " [ 7  1  1 17]]\n"
     ]
    }
   ],
   "source": [
    "rf_macro_f1 = f1_score(y_test, y_pred_rf, average='macro')\n",
    "rf_acc = accuracy_score(y_test, y_pred_rf)\n",
    "rf_cm = confusion_matrix(y_test,y_pred_rf)\n",
    "\n",
    "print(f'Accuracy: {rf_acc}')\n",
    "print(f'Macro-F1 Score: {rf_macro_f1}')\n",
    "print(f'Confusion Matrix:\\n{rf_cm}')"
   ]
  },
  {
   "cell_type": "markdown",
   "id": "c78b533f",
   "metadata": {},
   "source": [
    "#### 3.1.1.2. Convolutional Neural Network"
   ]
  },
  {
   "cell_type": "code",
   "execution_count": 141,
   "id": "b71a0ee7",
   "metadata": {
    "scrolled": true
   },
   "outputs": [],
   "source": [
    "import tensorflow as tf\n",
    "from tensorflow.keras import datasets, layers, models, callbacks\n",
    "\n",
    "macro_f1_history = []\n",
    "class MetricsCallback(callbacks.Callback):\n",
    "    def __init__(self, validation_data):\n",
    "        super(MetricsCallback, self).__init__()\n",
    "        self.validation_data = validation_data\n",
    "    def on_train_begin(self,logs={}):\n",
    "        self.f1_macro=[]\n",
    "    def on_epoch_end(self, epoch, logs=None):\n",
    "        y_pred=self.model.predict(self.validation_data[0]).argmax(axis=1)\n",
    "        y_true=self.validation_data[1]\n",
    "        score=f1_score(y_true, y_pred, average='macro')\n",
    "        self.f1_macro.append(score)\n",
    "        macro_f1_history=score\n",
    "        print(\" Macro-F1 :\",score)\n",
    "\n",
    "\n",
    "cnn_model = models.Sequential()\n",
    "cnn_model.add(layers.Conv2D(32, (5, 5),activation='relu', input_shape=(96,96,1)))\n",
    "cnn_model.add(layers.MaxPooling2D(pool_size=(4, 4)))\n",
    "cnn_model.add(layers.Dropout(0.25))\n",
    "cnn_model.add(layers.Conv2D(64, (3, 3), activation='relu'))\n",
    "cnn_model.add(layers.Conv2D(64, (3, 3), activation='relu'))\n",
    "cnn_model.add(layers.Flatten())\n",
    "cnn_model.add(layers.Dense(64, activation='relu'))\n",
    "cnn_model.add(layers.Dense(4, activation='softmax'))\n",
    "\n",
    "cnn_model.compile(optimizer='adam',\n",
    "              loss=tf.keras.losses.SparseCategoricalCrossentropy(from_logits=True),\n",
    "                 metrics=['accuracy'])"
   ]
  },
  {
   "cell_type": "code",
   "execution_count": 48,
   "id": "8e19483d",
   "metadata": {
    "scrolled": false
   },
   "outputs": [
    {
     "name": "stdout",
     "output_type": "stream",
     "text": [
      "Epoch 1/10\n",
      "6/6 [==============================] - 2s 290ms/step - loss: 86.5500 - accuracy: 0.2603 - val_loss: 3.8113 - val_accuracy: 0.2000\n",
      " Macro-F1 : 0.08333333333333334\n",
      "Epoch 2/10\n",
      "6/6 [==============================] - 1s 232ms/step - loss: 4.0779 - accuracy: 0.2486 - val_loss: 1.4182 - val_accuracy: 0.2526\n",
      " Macro-F1 : 0.17628205128205127\n",
      "Epoch 3/10\n",
      "6/6 [==============================] - 1s 224ms/step - loss: 1.3710 - accuracy: 0.3304 - val_loss: 1.3106 - val_accuracy: 0.4526\n",
      " Macro-F1 : 0.2864801864801865\n",
      "Epoch 4/10\n",
      "6/6 [==============================] - 1s 223ms/step - loss: 1.2134 - accuracy: 0.4393 - val_loss: 0.9010 - val_accuracy: 0.6737\n",
      " Macro-F1 : 0.5939406562419892\n",
      "Epoch 5/10\n",
      "6/6 [==============================] - 1s 222ms/step - loss: 0.9446 - accuracy: 0.5837 - val_loss: 0.8043 - val_accuracy: 0.6421\n",
      " Macro-F1 : 0.5920999290564507\n",
      "Epoch 6/10\n",
      "6/6 [==============================] - 1s 226ms/step - loss: 0.8124 - accuracy: 0.6085 - val_loss: 0.7532 - val_accuracy: 0.7053\n",
      " Macro-F1 : 0.7163446695026561\n",
      "Epoch 7/10\n",
      "6/6 [==============================] - 1s 232ms/step - loss: 0.7623 - accuracy: 0.6633 - val_loss: 0.8012 - val_accuracy: 0.6632\n",
      " Macro-F1 : 0.6681818181818182\n",
      "Epoch 8/10\n",
      "6/6 [==============================] - 1s 237ms/step - loss: 0.6955 - accuracy: 0.6561 - val_loss: 0.6888 - val_accuracy: 0.6947\n",
      " Macro-F1 : 0.6938265635074146\n",
      "Epoch 9/10\n",
      "6/6 [==============================] - 1s 245ms/step - loss: 0.6797 - accuracy: 0.6620 - val_loss: 0.6602 - val_accuracy: 0.7158\n",
      " Macro-F1 : 0.7194681538292375\n",
      "Epoch 10/10\n",
      "6/6 [==============================] - 1s 238ms/step - loss: 0.6160 - accuracy: 0.7186 - val_loss: 0.6554 - val_accuracy: 0.6947\n",
      " Macro-F1 : 0.6963668635829259\n",
      "CPU times: user 1min 10s, sys: 5.84 s, total: 1min 16s\n",
      "Wall time: 15.4 s\n"
     ]
    }
   ],
   "source": [
    "%%time\n",
    "# Traing CNN model\n",
    "history = cnn_model.fit(X_train, y_train, epochs=10, batch_size=128,\n",
    "                    callbacks=[MetricsCallback(validation_data=(X_valid, y_valid))],\n",
    "                    validation_data=(X_valid, y_valid))"
   ]
  },
  {
   "cell_type": "code",
   "execution_count": 49,
   "id": "5021663f",
   "metadata": {
    "scrolled": true
   },
   "outputs": [
    {
     "name": "stdout",
     "output_type": "stream",
     "text": [
      "3/3 [==============================] - 0s 18ms/step - loss: 0.8008 - accuracy: 0.6875\n"
     ]
    }
   ],
   "source": [
    "# Evaluate the CNN model\n",
    "test_loss, test_acc = cnn_model.evaluate(X_test, y_test)"
   ]
  },
  {
   "cell_type": "code",
   "execution_count": 50,
   "id": "5365142a",
   "metadata": {},
   "outputs": [
    {
     "name": "stdout",
     "output_type": "stream",
     "text": [
      "CPU times: user 274 ms, sys: 3.63 ms, total: 277 ms\n",
      "Wall time: 101 ms\n"
     ]
    }
   ],
   "source": [
    "%%time \n",
    "# Test time\n",
    "y_pred_cnn = cnn_model.predict(X_test).argmax(axis=1)"
   ]
  },
  {
   "cell_type": "code",
   "execution_count": 51,
   "id": "65d9f847",
   "metadata": {},
   "outputs": [
    {
     "data": {
      "image/png": "[encoded data removed]",
      "text/plain": [
       "<Figure size 288x288 with 1 Axes>"
      ]
     },
     "metadata": {
      "needs_background": "light"
     },
     "output_type": "display_data"
    },
    {
     "name": "stdout",
     "output_type": "stream",
     "text": [
      "Model: \"sequential\"\n",
      "_________________________________________________________________\n",
      "Layer (type)                 Output Shape              Param #   \n",
      "=================================================================\n",
      "conv2d (Conv2D)              (None, 92, 92, 32)        832       \n",
      "_________________________________________________________________\n",
      "max_pooling2d (MaxPooling2D) (None, 23, 23, 32)        0         \n",
      "_________________________________________________________________\n",
      "dropout (Dropout)            (None, 23, 23, 32)        0         \n",
      "_________________________________________________________________\n",
      "conv2d_1 (Conv2D)            (None, 21, 21, 64)        18496     \n",
      "_________________________________________________________________\n",
      "conv2d_2 (Conv2D)            (None, 19, 19, 64)        36928     \n",
      "_________________________________________________________________\n",
      "flatten (Flatten)            (None, 23104)             0         \n",
      "_________________________________________________________________\n",
      "dense (Dense)                (None, 64)                1478720   \n",
      "_________________________________________________________________\n",
      "dense_1 (Dense)              (None, 4)                 260       \n",
      "=================================================================\n",
      "Total params: 1,535,236\n",
      "Trainable params: 1,535,236\n",
      "Non-trainable params: 0\n",
      "_________________________________________________________________\n",
      "Accuracy: 0.6875\n",
      "Macro-F1 Score: 0.6586718836718837\n",
      "Confusion Matrix:\n",
      "[[26  7  4  2]\n",
      " [ 6  5  0  1]\n",
      " [ 0  0 19  0]\n",
      " [ 6  2  2 16]]\n"
     ]
    }
   ],
   "source": [
    "plt.figure(figsize = (4,4))\n",
    "plt.plot(history.history['accuracy'], label='accuracy')\n",
    "plt.plot(history.history['val_accuracy'], label = 'val_accuracy')\n",
    "plt.title('Figure 3.1  Accuracy over Epochs')\n",
    "plt.xlabel('Epoch')\n",
    "plt.ylabel('Accuracy')\n",
    "plt.ylim([0, 1])\n",
    "plt.legend(loc='lower right')\n",
    "plt.show()\n",
    "\n",
    "\n",
    "cnn_acc = accuracy_score(y_test, y_pred_cnn)\n",
    "cnn_macro_f1 = f1_score(y_test, y_pred_cnn, average='macro')\n",
    "cnn_cm = confusion_matrix(y_test,y_pred_cnn)\n",
    "\n",
    "cnn_model.summary()\n",
    "\n",
    "print(f'Accuracy: {cnn_acc}')\n",
    "print(f'Macro-F1 Score: {cnn_macro_f1}')\n",
    "print(f'Confusion Matrix:\\n{cnn_cm}')"
   ]
  },
  {
   "cell_type": "markdown",
   "id": "7b0faf08",
   "metadata": {},
   "source": [
    "### 3.1.2. Model Comparison"
   ]
  },
  {
   "cell_type": "markdown",
   "id": "add3d205",
   "metadata": {},
   "source": [
    "| Model | Training Time | Test Time | Accuracy |Number of Parameters\n",
    "| :---: | :----: | :----: | :----: | :----: |\n",
    "| Random Forest | 0.980 s | 0.033 s | 0.688 | - |\n",
    "| Convolutional Neural Network | 27.6 s | 0.164 s| 0.667 | 1,535,236|"
   ]
  },
  {
   "cell_type": "markdown",
   "id": "635fd851",
   "metadata": {},
   "source": [
    "Since the Random Forest Model is an ensemble method based on Decision Tree, it is a nonparametric model. This means that the number of parameters of this model is not determined prior to training period. We can only set limitations by using hyperparameters like `max_depth`, `max_leaf_nodes`, `max_features`."
   ]
  },
  {
   "cell_type": "markdown",
   "id": "8f53c745",
   "metadata": {},
   "source": [
    "Based on the metrics listed above, the Random Forest Model is more advantageous than the CNN Model. The Random Forest method has a shorter training time and test time with fewer parameters (on this dataset). However, the CNN method has to take more time to train the model and a **longer time to respond**, and it has much more parameters to store. This makes the **Random Forest method** more competitive in dealing with such a **real-time and quick response demanding** mission such as car racing."
   ]
  },
  {
   "cell_type": "markdown",
   "id": "cd87ab03",
   "metadata": {},
   "source": [
    "### 3.1.3. Dimensionality Reduction and its Influence"
   ]
  },
  {
   "cell_type": "markdown",
   "id": "0d12b421",
   "metadata": {},
   "source": [
    "- For the Random Forest Model, it is necessary to apply a dimensionality reduction. Because the GrayScale images as inputs are highly sparse with many values, the feature space is too large for the model to search and divide. This will cost extra time but gain few improvements for the model. Hence, the features can be projected to a low-dimensional space with PCA and provide more discriminative information in a smaller feature space for the Random Forest Model to find its decision boundary.  \n",
    "\n",
    "\n",
    "- For the CNN Model, it is not necessary to apply a dimensionality reduction. CNN Model, with its kernels, tends to learn latent texture information of the images, especially on the edge of the road in this application. Therefore, it is very helpful to preserve the spatial structure of observations. If dimension reduction is introduced, it will damage this spatial structure and undermine the performance."
   ]
  },
  {
   "cell_type": "markdown",
   "id": "24fa28f0",
   "metadata": {},
   "source": [
    "### 3.1.4. Model Tuning"
   ]
  },
  {
   "cell_type": "markdown",
   "id": "f137cff9",
   "metadata": {},
   "source": [
    "#### 3.1.4.1. Random Forest Model"
   ]
  },
  {
   "cell_type": "markdown",
   "id": "0e68cc12",
   "metadata": {},
   "source": [
    "For Random Forest Model, 3 sets of two hyperparameters were experimented, which are, \n",
    "- max_depth=50, n_estimators=300\n",
    "- max_depth=10, n_estimators=300\n",
    "- max_depth=10, n_estimators=100  \n",
    "\n",
    "The `n_estimators` will increase the number of trees in the forest, getting a model with lower variance.  \n",
    "The `max_depth` will limit the branches of leaf nodes for each tree, preventing the model from overfitting.\n",
    "\n",
    "Finally, `max_depth`=10, `n_estimators`=300 were selected as the most suitable hyperparameters."
   ]
  },
  {
   "cell_type": "markdown",
   "id": "0510a168",
   "metadata": {},
   "source": [
    "#### 3.1.4.2. CNN Model"
   ]
  },
  {
   "cell_type": "markdown",
   "id": "c60f299f",
   "metadata": {},
   "source": [
    "For CNN Model, 3 sets of Three hyperparameters were experimented, which are, \n",
    "- batch_size=16, dropout=False, model_depth=6\n",
    "- batch_size=64, dropout=False, model_depth=9\n",
    "- batch_size=128, dropout=True, model_depth=9\n",
    "\n",
    "The `batch_size` will set the numbers of training samples in each iteration. Small batch_size will introduce more randomness during training and get the model out of the local minimum.  \n",
    "The `dropout` will ignore part of neurons and prevent the model from overfitting.  \n",
    "The `model_depth` indicates the number of layers of the designed structure. Deepening the network will increase its performance on the training data but take a higher risk of overfitting.\n",
    "\n",
    "Finally, `batch_size`=128, `dropout`=True, `model_depth`=9 were selected as the most suitable hyperparameters."
   ]
  },
  {
   "cell_type": "markdown",
   "id": "0245861b",
   "metadata": {},
   "source": [
    "### 3.1.5. Model Evaluations (Performance, Bias, Variance)"
   ]
  },
  {
   "cell_type": "markdown",
   "id": "72962c19",
   "metadata": {},
   "source": [
    "Here, as expected in the next section, the Macro-F1 Score combined with Confusion Matrix is used as criterion to measure the overall **Performance** of the models. The model is trained on the training set, tuned on the validation set and finally tested on the untouched test set in the following cells.  \n",
    "\n",
    "In order to analyze the **Bias** and **Variance** of the models, we have recorded the error of the model and plot a learning curve for each model. The error is computed as `(1 - Macro-F1 Score)`.\n",
    "- For the Random Forest Model, we have recorded the error as a function of the training set size as shown in Figure 3.2.\n",
    "- For the CNN Model, we have recorded the learning curve with epochs as shown in Figure 3.3."
   ]
  },
  {
   "cell_type": "markdown",
   "id": "24e8acb4",
   "metadata": {},
   "source": [
    "#### 3.1.5.1. Random Forest Model"
   ]
  },
  {
   "cell_type": "code",
   "execution_count": 92,
   "id": "7030530b",
   "metadata": {
    "scrolled": true
   },
   "outputs": [
    {
     "name": "stdout",
     "output_type": "stream",
     "text": [
      "The performance on the test data is evaluated as follows:\n",
      "\n",
      "Macro-F1 Score on test set:\n",
      "0.6475000927265309\n",
      "\n",
      "Confusion Matrix on test set:\n",
      "[[24  3  5  7]\n",
      " [ 6  5  0  1]\n",
      " [ 0  1 18  0]\n",
      " [ 7  1  1 17]]\n",
      "\n"
     ]
    }
   ],
   "source": [
    "from sklearn.model_selection import train_test_split\n",
    "from sklearn.metrics import f1_score,confusion_matrix,accuracy_score\n",
    "\n",
    "print(\"The performance on the test data is evaluated as follows:\")\n",
    "print(\"\")\n",
    "\n",
    "print(\"Macro-F1 Score on test set:\")\n",
    "print(rf_macro_f1)\n",
    "print(\"\")\n",
    "\n",
    "print(\"Confusion Matrix on test set:\")\n",
    "print(rf_cm)\n",
    "print(\"\")"
   ]
  },
  {
   "cell_type": "code",
   "execution_count": 93,
   "id": "1bc6677d",
   "metadata": {
    "scrolled": true
   },
   "outputs": [
    {
     "data": {
      "image/png": "[encoded data removed]",
      "text/plain": [
       "<Figure size 432x288 with 1 Axes>"
      ]
     },
     "metadata": {
      "needs_background": "light"
     },
     "output_type": "display_data"
    }
   ],
   "source": [
    "def plot_learning_curves(model, X, y):\n",
    "    X_train, X_val, y_train, y_val = train_test_split(X, y, train_size=0.8, random_state=0)\n",
    "    X_train, X_val, null = rf_pca(n_components=5, X_train=X_train, X_valid=X_val)\n",
    "    train_errors, val_errors = [], []\n",
    "    for m in range(1, len(X_train), 20):\n",
    "        model.fit(X_train[:m], y_train[:m])\n",
    "        y_train_predict = model.predict(X_train[:m])\n",
    "        y_val_predict = model.predict(X_val)\n",
    "        train_errors.append(1-f1_score(y_train[:m], y_train_predict, average='macro'))\n",
    "        val_errors.append(1-f1_score(y_val, y_val_predict, average='macro'))\n",
    "        # print(\"Finished \",m,\" samples of data\")\n",
    "\n",
    "    plt.plot(train_errors, \"r-+\", linewidth=2, label=\"train\")\n",
    "    plt.plot(val_errors, \"b-\", linewidth=3, label=\"val\")\n",
    "    plt.legend(loc=\"upper right\", fontsize=14)\n",
    "    plt.title(\"Figure 3.2 Learning Curve for the Random Forest Model\")\n",
    "    plt.xlabel(\"Training set size\", fontsize=14) \n",
    "    plt.ylabel(\"Macro-F1 Error\", fontsize=14)    \n",
    "\n",
    "\n",
    "plot_learning_curves(rf_model, obs_gray_shuffled, actions_shuffled)"
   ]
  },
  {
   "cell_type": "markdown",
   "id": "df979721",
   "metadata": {},
   "source": [
    "#### 3.1.5.2. CNN Model"
   ]
  },
  {
   "cell_type": "code",
   "execution_count": 54,
   "id": "6a879daa",
   "metadata": {
    "scrolled": true
   },
   "outputs": [
    {
     "name": "stdout",
     "output_type": "stream",
     "text": [
      "The performance on the test data is evaluated as follows:\n",
      "\n",
      "Macro-F1 Score on test set:\n",
      "0.6586718836718837\n",
      "\n",
      "Confusion Matrix on test set:\n",
      "[[26  7  4  2]\n",
      " [ 6  5  0  1]\n",
      " [ 0  0 19  0]\n",
      " [ 6  2  2 16]]\n",
      "\n"
     ]
    }
   ],
   "source": [
    "print(\"The performance on the test data is evaluated as follows:\")\n",
    "print(\"\")\n",
    "\n",
    "print(\"Macro-F1 Score on test set:\")\n",
    "print(cnn_macro_f1)\n",
    "print(\"\")\n",
    "\n",
    "print(\"Confusion Matrix on test set:\")\n",
    "print(cnn_cm)\n",
    "print(\"\")"
   ]
  },
  {
   "cell_type": "code",
   "execution_count": 55,
   "id": "194c0888",
   "metadata": {
    "scrolled": true
   },
   "outputs": [
    {
     "data": {
      "image/png": "[encoded data removed]",
      "text/plain": [
       "<Figure size 432x288 with 1 Axes>"
      ]
     },
     "metadata": {
      "needs_background": "light"
     },
     "output_type": "display_data"
    }
   ],
   "source": [
    "train_error = [1-i for i in history.history['accuracy']]\n",
    "val_error = [1-i for i in history.history['val_accuracy']]\n",
    "plt.plot(train_error, \"r-+\", linewidth=2, label=\"train\")\n",
    "plt.plot(val_error, \"b-\", linewidth=3, label=\"val\")\n",
    "plt.legend(loc=\"upper right\", fontsize=14)\n",
    "plt.title(\"Figure 3.3 Learning Curve for the CNN Model\")\n",
    "plt.xlabel('Epoch')\n",
    "plt.ylabel('Error')\n",
    "plt.ylim([0, 1])\n",
    "plt.legend(loc='lower right')\n",
    "plt.show()"
   ]
  },
  {
   "cell_type": "markdown",
   "id": "49dc006b",
   "metadata": {},
   "source": [
    "From the learning curves shown above, we can see that:\n",
    "- In the Random Forest Model, the gap between the training set and the validation set is large, which means that it the model has a **large variance**. The training error is still quite small, indicating that this model has a good assumption to fit the training data, which means the model has a **small bias**.\n",
    "- In the CNN Model, the gap between training set and validation set is small while the training error is high. This means that this model has a relatively **lower variance and higher bias**. "
   ]
  },
  {
   "cell_type": "markdown",
   "id": "adddff30",
   "metadata": {},
   "source": [
    "### 3.1.6. Selection of Metrics"
   ]
  },
  {
   "cell_type": "markdown",
   "id": "00b793e0",
   "metadata": {},
   "source": [
    "To measure the performance, Macro-F1 Score is choosen as the criterion. It serves as a proper metric for this problem for the following reasons:\n",
    "- There exists serious class imbalance in the samples, accuracy is not suitable, while Macro-F1 is not affected by data imbalance.\n",
    "- This is a multi-class classification. Single accuracy cannot comprehensively measure the performance for all classes.\n",
    "- Macro-F1 is easily affected by categories with high recognition (high recall, high precision).\n",
    "\n",
    "In contrast, the accuracy is not suitable for this task because of the class imbalance and mutli-class classification. If class imbalance exists, the model can only predict every sample as the `No opertaion` class, which still has exllent performance on accuracy. However, Macro-F1 can evaluatate the balance between precision and recall."
   ]
  },
  {
   "cell_type": "markdown",
   "id": "1c92c335",
   "metadata": {},
   "source": [
    "### 3.1.7. Model Selection"
   ]
  },
  {
   "cell_type": "markdown",
   "id": "71e1ea26",
   "metadata": {},
   "source": [
    "Both the random forest model and CNN model have their own edges.  \n",
    "\n",
    "CNN Model is believed to have more potentials if given desired structure and trained properly. However, the real performance of our CNN Model with 10 epochs in this application is close to Random Forest Model.  \n",
    "\n",
    "In contrast, the Random Forest Model firstly has a better performance. Secondly, it is faster in the training and testing period. Thus, the Random Forest Model is selected as our final model to solve this problem. This capability of fast training, testing with good performance is especially important in this application, which is a real-time and racing problem. "
   ]
  },
  {
   "cell_type": "markdown",
   "id": "44f3acad",
   "metadata": {},
   "source": [
    "## 3.2. Fine-Tune the System\n",
    "1. What are the most important hyperparameters of your chosen algorithm?\n",
    "2. Perform hyperparameter optimization (including pre-processing steps)\n",
    "3. Compare at least 3 models with different sets of hyperparameters \n",
    "4. Evaluate the final model (similar to “Shortlist Promising Models” above)"
   ]
  },
  {
   "cell_type": "markdown",
   "id": "30dd4c91",
   "metadata": {},
   "source": [
    "### 3.2.1. Hyperparameters for Classification"
   ]
  },
  {
   "cell_type": "markdown",
   "id": "1cc5710c",
   "metadata": {},
   "source": [
    "The Random Forest Model is selected as our final choice. Among many hyperparameters to construct the Random Forest Model, the most important ones are `n_estimators` and `max_depth`, which will respectively affect the model variance and overfitting."
   ]
  },
  {
   "cell_type": "markdown",
   "id": "efc92673",
   "metadata": {},
   "source": [
    "### 3.2.2. Hyperparamters Grid Search"
   ]
  },
  {
   "cell_type": "markdown",
   "id": "7e4a6c8c",
   "metadata": {},
   "source": [
    "The hyperparameters of the whole training process can be concluded as the 2 following ones:\n",
    "- PCA (n_components)\n",
    "- model structure (n_estimators, max_depth)\n",
    "\n",
    "There are 3 hyperparameters in total that can be optimized. Here a grid search based method is applied to perform the optimization.\n",
    "\n",
    "The hyperparameters are orgnized in a list with the following values:"
   ]
  },
  {
   "cell_type": "code",
   "execution_count": 142,
   "id": "b6b58bd2",
   "metadata": {},
   "outputs": [
    {
     "data": {
      "text/plain": [
       "GridSearchCV(cv=5, estimator=RandomForestClassifier(random_state=0),\n",
       "             param_grid=[{'max_depth': [10, 20, 40, 60, 80, 100],\n",
       "                          'n_estimators': [10, 50, 100, 150, 200, 300]}],\n",
       "             return_train_score=True, scoring='f1_macro')"
      ]
     },
     "execution_count": 142,
     "metadata": {},
     "output_type": "execute_result"
    }
   ],
   "source": [
    "from sklearn.model_selection import GridSearchCV\n",
    "\n",
    "param_grid = [\n",
    "    # try 36 combinations of hyperparameters\n",
    "    {'n_estimators': [10, 50, 100, 150, 200, 300], \n",
    "     'max_depth': [5, 20, 40, 60, 80, 100]}]\n",
    "\n",
    "rf_model_search = RandomForestClassifier(random_state=0)\n",
    "# train across 5 folds, that's a total of 49*5=245 rounds of training \n",
    "clf = GridSearchCV(rf_model_search, param_grid, cv=5,\n",
    "                           scoring='f1_macro',\n",
    "                           return_train_score=True)\n",
    "\n",
    "X_search_pca = np.concatenate((X_train_pca,X_valid_pca),axis=0)\n",
    "y_search_pca = np.concatenate((y_train,y_valid),axis=0)\n",
    "clf.fit(X_search_pca, y_search_pca)"
   ]
  },
  {
   "cell_type": "code",
   "execution_count": 180,
   "id": "33c4f144",
   "metadata": {
    "scrolled": false
   },
   "outputs": [
    {
     "name": "stdout",
     "output_type": "stream",
     "text": [
      "The most suitable value can be set as:\n",
      "{'max_depth': 20, 'n_estimators': 100}\n",
      "\n",
      "Hyperparamter for PCA after optimization:\n",
      "'n_components': 5\n"
     ]
    }
   ],
   "source": [
    "best_model = clf.best_estimator_\n",
    "print(\"The most suitable value can be set as:\")\n",
    "print(clf.best_params_)\n",
    "print(\"\\nHyperparamter for PCA after optimization:\\n\\'n_components\\': 5\")"
   ]
  },
  {
   "cell_type": "markdown",
   "id": "e63b2bbc",
   "metadata": {},
   "source": [
    "The most suitable parameter set after grid search is\n",
    "- `max_depth` = 20\n",
    "- `n_estimators` = 100\n",
    "- `n_components` = 5"
   ]
  },
  {
   "cell_type": "markdown",
   "id": "32516843",
   "metadata": {},
   "source": [
    "### 3.2.3. Models Comparison"
   ]
  },
  {
   "cell_type": "markdown",
   "id": "ba629557",
   "metadata": {},
   "source": [
    "After doing grid search on the training set and validation set, the optimal combination of hyperparameters is found. One important thing is that we **do not** use test set here to performe the fine-tuning, which ensures that the following evaluation on the test set is reasonable and fair."
   ]
  },
  {
   "cell_type": "code",
   "execution_count": 213,
   "id": "dc1e6956",
   "metadata": {
    "scrolled": true
   },
   "outputs": [
    {
     "ename": "ValueError",
     "evalue": "Found input variables with inconsistent numbers of samples: [953, 1400]",
     "output_type": "error",
     "traceback": [
      "\u001b[0;31m---------------------------------------------------------------------------\u001b[0m",
      "\u001b[0;31mValueError\u001b[0m                                Traceback (most recent call last)",
      "\u001b[0;32m<ipython-input-213-50987d5f66ad>\u001b[0m in \u001b[0;36m<module>\u001b[0;34m\u001b[0m\n\u001b[1;32m      3\u001b[0m \u001b[0;32mfrom\u001b[0m \u001b[0msklearn\u001b[0m\u001b[0;34m.\u001b[0m\u001b[0mutils\u001b[0m \u001b[0;32mimport\u001b[0m \u001b[0mshuffle\u001b[0m\u001b[0;34m\u001b[0m\u001b[0;34m\u001b[0m\u001b[0m\n\u001b[1;32m      4\u001b[0m \u001b[0;34m\u001b[0m\u001b[0m\n\u001b[0;32m----> 5\u001b[0;31m \u001b[0mobs_gray_shuffled\u001b[0m\u001b[0;34m,\u001b[0m \u001b[0mactions_shuffled\u001b[0m \u001b[0;34m=\u001b[0m \u001b[0mshuffle\u001b[0m\u001b[0;34m(\u001b[0m\u001b[0mobs_gray\u001b[0m\u001b[0;34m,\u001b[0m\u001b[0mactions\u001b[0m\u001b[0;34m,\u001b[0m\u001b[0mrandom_state\u001b[0m\u001b[0;34m=\u001b[0m\u001b[0;36m0\u001b[0m\u001b[0;34m)\u001b[0m\u001b[0;34m\u001b[0m\u001b[0;34m\u001b[0m\u001b[0m\n\u001b[0m\u001b[1;32m      6\u001b[0m \u001b[0;34m\u001b[0m\u001b[0m\n\u001b[1;32m      7\u001b[0m \u001b[0mX_train\u001b[0m\u001b[0;34m,\u001b[0m \u001b[0mX_rem\u001b[0m\u001b[0;34m,\u001b[0m \u001b[0my_train\u001b[0m\u001b[0;34m,\u001b[0m \u001b[0my_rem\u001b[0m \u001b[0;34m=\u001b[0m \u001b[0mtrain_test_split\u001b[0m\u001b[0;34m(\u001b[0m\u001b[0mobs_gray_shuffled\u001b[0m\u001b[0;34m,\u001b[0m\u001b[0mactions_shuffled\u001b[0m\u001b[0;34m,\u001b[0m \u001b[0mtrain_size\u001b[0m\u001b[0;34m=\u001b[0m\u001b[0;36m0.8\u001b[0m\u001b[0;34m)\u001b[0m\u001b[0;34m\u001b[0m\u001b[0;34m\u001b[0m\u001b[0m\n",
      "\u001b[0;32m~/anaconda3/envs/tf2/lib/python3.7/site-packages/sklearn/utils/__init__.py\u001b[0m in \u001b[0;36mshuffle\u001b[0;34m(random_state, n_samples, *arrays)\u001b[0m\n\u001b[1;32m    630\u001b[0m     \"\"\"\n\u001b[1;32m    631\u001b[0m     return resample(*arrays, replace=False, n_samples=n_samples,\n\u001b[0;32m--> 632\u001b[0;31m                     random_state=random_state)\n\u001b[0m\u001b[1;32m    633\u001b[0m \u001b[0;34m\u001b[0m\u001b[0m\n\u001b[1;32m    634\u001b[0m \u001b[0;34m\u001b[0m\u001b[0m\n",
      "\u001b[0;32m~/anaconda3/envs/tf2/lib/python3.7/site-packages/sklearn/utils/__init__.py\u001b[0m in \u001b[0;36mresample\u001b[0;34m(replace, n_samples, random_state, stratify, *arrays)\u001b[0m\n\u001b[1;32m    516\u001b[0m                                                     n_samples))\n\u001b[1;32m    517\u001b[0m \u001b[0;34m\u001b[0m\u001b[0m\n\u001b[0;32m--> 518\u001b[0;31m     \u001b[0mcheck_consistent_length\u001b[0m\u001b[0;34m(\u001b[0m\u001b[0;34m*\u001b[0m\u001b[0marrays\u001b[0m\u001b[0;34m)\u001b[0m\u001b[0;34m\u001b[0m\u001b[0;34m\u001b[0m\u001b[0m\n\u001b[0m\u001b[1;32m    519\u001b[0m \u001b[0;34m\u001b[0m\u001b[0m\n\u001b[1;32m    520\u001b[0m     \u001b[0;32mif\u001b[0m \u001b[0mstratify\u001b[0m \u001b[0;32mis\u001b[0m \u001b[0;32mNone\u001b[0m\u001b[0;34m:\u001b[0m\u001b[0;34m\u001b[0m\u001b[0;34m\u001b[0m\u001b[0m\n",
      "\u001b[0;32m~/anaconda3/envs/tf2/lib/python3.7/site-packages/sklearn/utils/validation.py\u001b[0m in \u001b[0;36mcheck_consistent_length\u001b[0;34m(*arrays)\u001b[0m\n\u001b[1;32m    318\u001b[0m     \u001b[0;32mif\u001b[0m \u001b[0mlen\u001b[0m\u001b[0;34m(\u001b[0m\u001b[0muniques\u001b[0m\u001b[0;34m)\u001b[0m \u001b[0;34m>\u001b[0m \u001b[0;36m1\u001b[0m\u001b[0;34m:\u001b[0m\u001b[0;34m\u001b[0m\u001b[0;34m\u001b[0m\u001b[0m\n\u001b[1;32m    319\u001b[0m         raise ValueError(\"Found input variables with inconsistent numbers of\"\n\u001b[0;32m--> 320\u001b[0;31m                          \" samples: %r\" % [int(l) for l in lengths])\n\u001b[0m\u001b[1;32m    321\u001b[0m \u001b[0;34m\u001b[0m\u001b[0m\n\u001b[1;32m    322\u001b[0m \u001b[0;34m\u001b[0m\u001b[0m\n",
      "\u001b[0;31mValueError\u001b[0m: Found input variables with inconsistent numbers of samples: [953, 1400]"
     ]
    }
   ],
   "source": [
    "# Shuffle and Split \n",
    "from sklearn.model_selection import train_test_split\n",
    "from sklearn.utils import shuffle\n",
    "\n",
    "obs_gray_shuffled, actions_shuffled = shuffle(obs_gray,actions,random_state=0)\n",
    "\n",
    "X_train, X_rem, y_train, y_rem = train_test_split(obs_gray_shuffled,actions_shuffled, train_size=0.8)\n",
    "# Let the valid and test size to be equal (10% each of overall data). \n",
    "X_valid, X_test, y_valid, y_test = train_test_split(X_rem,y_rem, test_size=0.5)\n",
    "\n",
    "# PCA before RF to Mitigate Sparsity\n",
    "# Extract 5 Primary Components as Input Features for Random Forest\n",
    "best_model = RandomForestClassifier(n_components=100, max_depth=5)\n",
    "pca_model = PCA(n_components=100, max_depth=5)\n",
    "pca_model.fit(X_train.reshape(X_train.shape[0],-1))\n",
    "\n",
    "X_train_pca = pca_model.transform(X_train.reshape(X_train.shape[0],-1))\n",
    "X_valid_pca = pca_model.transform(X_valid.reshape(X_valid.shape[0],-1))\n",
    "X_test_pca = pca_model.transform(X_test.reshape(X_test.shape[0],-1))"
   ]
  },
  {
   "cell_type": "code",
   "execution_count": 214,
   "id": "8c41bbed",
   "metadata": {},
   "outputs": [
    {
     "name": "stdout",
     "output_type": "stream",
     "text": [
      "The performance of model_1 is evaluated as follows:\n",
      "\n",
      "Macro-F1 Score on test set:\n",
      "0.5742054893463344\n",
      "\n",
      "Confusion Matrix on test set:\n",
      "[[17  7  3  5]\n",
      " [12  4  1  2]\n",
      " [ 3  0 16  0]\n",
      " [ 7  0  0 19]]\n",
      "\n",
      "----------------------------------\n",
      "\n",
      "The performance of model_2 is evaluated as follows:\n",
      "\n",
      "Macro-F1 Score on test set:\n",
      "0.5319753086419754\n",
      "\n",
      "Confusion Matrix on test set:\n",
      "[[23  2  3  4]\n",
      " [17  0  1  1]\n",
      " [ 3  0 16  0]\n",
      " [ 6  0  1 19]]\n",
      "\n",
      "----------------------------------\n",
      "\n",
      "\n",
      "The performance of model_3 is evaluated as follows:\n",
      "\n",
      "Macro-F1 Score on test set:\n",
      "0.5666223561384851\n",
      "\n",
      "Confusion Matrix on test set:\n",
      "[[16  8  3  5]\n",
      " [12  4  1  2]\n",
      " [ 3  0 16  0]\n",
      " [ 7  0  0 19]]\n",
      "\n",
      "----------------------------------\n",
      "\n"
     ]
    }
   ],
   "source": [
    "rf_model_1 = best_model\n",
    "rf_model_1.fit(X_train_pca,y_train)\n",
    "y_pred = rf_model_1.predict(X_test_pca)\n",
    "rf_macro_f1 = f1_score(y_test, y_pred, average='macro')\n",
    "rf_cm = confusion_matrix(y_test,y_pred)\n",
    "print(\"The performance of model_1 is evaluated as follows:\\n\")\n",
    "print(f\"Macro-F1 Score on test set:\\n{rf_macro_f1}\\n\")\n",
    "print(f\"Confusion Matrix on test set:\\n{rf_cm}\\n\")\n",
    "print(\"----------------------------------\\n\")\n",
    "\n",
    "rf_model_2 = RandomForestClassifier(n_estimators=300, max_depth=5, random_state=0)\n",
    "rf_model_2.fit(X_train_pca,y_train)\n",
    "y_pred = rf_model_2.predict(X_test_pca)\n",
    "rf_macro_f1 = f1_score(y_test, y_pred, average='macro')\n",
    "rf_cm = confusion_matrix(y_test,y_pred)\n",
    "print(\"The performance of model_2 is evaluated as follows:\\n\")\n",
    "print(f\"Macro-F1 Score on test set:\\n{rf_macro_f1}\\n\")\n",
    "print(f\"Confusion Matrix on test set:\\n{rf_cm}\\n\")\n",
    "print(\"----------------------------------\\n\")\n",
    "\n",
    "print(\"\")\n",
    "rf_model_3 = RandomForestClassifier(n_estimators=100, max_depth=50, random_state=0)\n",
    "rf_model_3.fit(X_train_pca,y_train)\n",
    "y_pred = rf_model_3.predict(X_test_pca)\n",
    "rf_macro_f1 = f1_score(y_test, y_pred, average='macro')\n",
    "rf_cm = confusion_matrix(y_test,y_pred)\n",
    "print(\"The performance of model_3 is evaluated as follows:\\n\")\n",
    "print(f\"Macro-F1 Score on test set:\\n{rf_macro_f1}\\n\")\n",
    "print(f\"Confusion Matrix on test set:\\n{rf_cm}\\n\")\n",
    "print(\"----------------------------------\\n\")"
   ]
  },
  {
   "cell_type": "markdown",
   "id": "e2e68adc",
   "metadata": {},
   "source": [
    "From the results compared above, the first model which using the best hyperparameters searched by grid search method outperformed with highest Macro-F1 Scoreamong all. This proved that the result of the grid search is correct."
   ]
  },
  {
   "cell_type": "markdown",
   "id": "cb48b234",
   "metadata": {},
   "source": [
    "### 3.2.4. Final Model Evaluation"
   ]
  },
  {
   "cell_type": "code",
   "execution_count": 218,
   "id": "5fe70624",
   "metadata": {
    "scrolled": false
   },
   "outputs": [
    {
     "data": {
      "text/plain": [
       "RandomForestClassifier(max_depth=20, random_state=0)"
      ]
     },
     "execution_count": 218,
     "metadata": {},
     "output_type": "execute_result"
    }
   ],
   "source": [
    "best_model.fit(X_train_pca,y_train)"
   ]
  },
  {
   "cell_type": "code",
   "execution_count": 219,
   "id": "2daafaf1",
   "metadata": {
    "scrolled": true
   },
   "outputs": [
    {
     "name": "stdout",
     "output_type": "stream",
     "text": [
      "The performance on the test data is evaluated as follows:\n",
      "\n",
      "Macro-F1 Score on test set:\n",
      "0.5742054893463344\n",
      "\n",
      "Confusion Matrix on test set:\n",
      "[[17  7  3  5]\n",
      " [12  4  1  2]\n",
      " [ 3  0 16  0]\n",
      " [ 7  0  0 19]]\n",
      "\n"
     ]
    }
   ],
   "source": [
    "y_pred = best_model.predict(X_test_pca)\n",
    "rf_macro_f1 = f1_score(y_test, y_pred, average='macro')\n",
    "rf_cm = confusion_matrix(y_test,y_pred)\n",
    "\n",
    "print(\"The performance on the test data is evaluated as follows:\")\n",
    "print(\"\")\n",
    "\n",
    "print(\"Macro-F1 Score on test set:\")\n",
    "print(rf_macro_f1)\n",
    "print(\"\")\n",
    "\n",
    "print(\"Confusion Matrix on test set:\")\n",
    "print(rf_cm)\n",
    "print(\"\")"
   ]
  },
  {
   "cell_type": "code",
   "execution_count": 220,
   "id": "ddf17ec8",
   "metadata": {
    "scrolled": false
   },
   "outputs": [
    {
     "data": {
      "image/png": "[encoded data removed]",
      "text/plain": [
       "<Figure size 432x288 with 1 Axes>"
      ]
     },
     "metadata": {
      "needs_background": "light"
     },
     "output_type": "display_data"
    }
   ],
   "source": [
    "plot_learning_curves(best_model, obs_gray_shuffled, actions_shuffled)"
   ]
  },
  {
   "cell_type": "markdown",
   "id": "03f6e793",
   "metadata": {},
   "source": [
    "From the results shown above, three conclusions can be given:\n",
    "- The Macro-F1 score of our best model is greater than the model mannually tuned before.\n",
    "- With a relatively larger training error, the bias of our model is higher than the mannually tuned model.\n",
    "- With smaller gap between training error and validation error, the variance of our model is much lower than the mannually tuned model.\n",
    "\n",
    "This means that our best model have gained a better generalization on the enseen dataset and less sensitive to the data variance."
   ]
  },
  {
   "cell_type": "markdown",
   "id": "b97d69c7",
   "metadata": {},
   "source": [
    "---\n",
    "\n",
    "# 4. Enabling Generalization (20 points)\n",
    "Now we are going to train and test a single model that is suitable for racing on all planets, i.e., a model that can generalize between planets and even to unseen planets, and that is robust to different colors of the background terrain. The idea is to take the final model you developed above as a starting point and to further develop it further for generalization.\n",
    "\n",
    "The simulator provides you access to Neptune. However, this is to be treated as the test set, i.e., you are only allowed to test your model on it as the very final step. I.e., do not tweak your model after running that environment, you would be overfitting to the test data. Performance on the Neptune environment will NOT influence your grade.\n",
    "\n",
    "1. How can the 3 provided datasets be used to train a model that can generalize, and even more importantly how can they be used to evaluate whether a model can generalize? (Hint: Lecture 2)\n",
    "2. Above you designed features for action classification, evaluate whether that feature is indeed suitable for generalization. If necessary adapt the feature extraction.\n",
    "3. Compare how well models trained just on the data from Earth and models trained on data of multiple planets generalize to unseen planets (using the approach from the first bullet, do *not* use Neptune for this comparison). Make sure that this is a fair comparison, e.g., in terms of the amount and quality of the data.\n",
    "4. Discuss at least 2 methods that can be employed to make your model perform better and be robust to the variations we have in this scenario (methods for any step are fine: data collection, data augmentation, pre-processing, model structure, training, etc.)\n",
    "5. Implement at least one of those methods.\n",
    "6. Evaluate the final model (similar to “Shortlist Promising Models” above) for generalization making use only of data from Earth, Mars, and Saturn.\n",
    "7. Test the final model on the Neptune environment and discuss its performance.\n",
    "8. Save the parameters of your best multi scenario model to your hard drive (use pickle for sklearn or built-in save/load for keras), you will need to be able to reload your model without training in the next step. Be sure to include the saved parameters in your zip file so we can evaluate your best model too, even without rerunning the notebook up to here.\n"
   ]
  },
  {
   "cell_type": "markdown",
   "id": "aef68176",
   "metadata": {},
   "source": [
    "## 4.1. Model Generalization"
   ]
  },
  {
   "cell_type": "markdown",
   "id": "51fd0e99",
   "metadata": {},
   "source": [
    "\n",
    "To get a genaralized model, the training data need to contain samples from diverse planets. However, the data should be almost evenly collected from different planets. This will ensure that it satisfies the independently identically distribution as much as possible and does not have too much bias.  \n",
    "\n",
    "In this section, the Neptune will be used as test dataset, so all sampled provided can be used as training set and validation set. After getting a fair enough dataset and finishing training, we can apply K-Fold cross-validation method during training stage to evaluate the generalization. In the cross-validation, samples from different planets are mixed and randomly splited into many folds as validation sets in each training respectively. Through this, the model will be guaranteed to be tested on all planets for every sample. Therefore, a good evaluation result with cross-validation can reveal that the model to be well generalized on all planets.\n"
   ]
  },
  {
   "cell_type": "code",
   "execution_count": 221,
   "id": "7a03ff35",
   "metadata": {},
   "outputs": [
    {
     "name": "stdout",
     "output_type": "stream",
     "text": [
      "Found 14 demonstrations\n",
      "Loaded 1000 samples\n",
      "\n",
      "Doing Planets Balancing...\n",
      "The shape of is observtions is (734, 96, 96, 3)\n",
      "The shape of is actions is (734,)\n",
      "The shape of is planet_ids is (734,)\n",
      "\n",
      "Doing Labels Balancing...\n",
      "The shape of is observtions is (591, 96, 96, 3)\n",
      "The shape of is actions is (591,)\n",
      "The shape of is planet_ids is (591,)\n"
     ]
    }
   ],
   "source": [
    "# Pre-processing Multi Planet Data\n",
    "\n",
    "# demo-[planet_id]-[track_id]-[datetime].pickle\n",
    "DEMO_FILEPATTERN = 'demo-*-*.pickle'       # use ALL available demo files\n",
    "\n",
    "# find the relevant filenames\n",
    "filenames = glob.glob(f'demonstrations/{DEMO_FILEPATTERN}')\n",
    "filenames.sort() # ensure the order is well-defined\n",
    "print(f'Found {len(filenames)} demonstrations')\n",
    "\n",
    "# in a loop, load the found pickle files\n",
    "demonstrations = []\n",
    "for filename in filenames:\n",
    "    with open(filename, 'rb') as fd:\n",
    "        demonstration = pickle.load(fd)\n",
    "        actions = demonstration['actions']\n",
    "        demonstrations.append(demonstration)\n",
    "print(f'Loaded {actions.shape[0]} samples')\n",
    "\n",
    "# we can combine all the observations, actions, planet and track ids\n",
    "observations = np.concatenate([d['observations'] for d in demonstrations])\n",
    "actions = np.concatenate([d['actions'] for d in demonstrations])\n",
    "planet_ids = np.concatenate([d['planets'] for d in demonstrations])\n",
    "track_ids = np.concatenate([d['tracks'] for d in demonstrations])\n",
    "\n",
    "# pre-processing: subsample and only keep every n-th sample for efficiency\n",
    "# this can speed up training\n",
    "ss = 10\n",
    "observations = observations[::ss]\n",
    "actions = actions[::ss]\n",
    "planet_ids = planet_ids[::ss]\n",
    "track_ids = track_ids[::ss]\n",
    "\n",
    "def split_balanced_planets(observations, actions, planet_ids):\n",
    "    print(\"\\nDoing Planets Balancing...\")\n",
    "    obs_0 = observations[planet_ids==0][::3]\n",
    "    obs_1 = observations[planet_ids==1][:]\n",
    "    obs_2 = observations[planet_ids==2][:]\n",
    "    obs_balanced_planets = np.concatenate((obs_0,obs_1,obs_2),axis=0)\n",
    "    print(f\"The shape of is observtions is {obs_balanced_planets.shape}\")\n",
    "    \n",
    "    act_0 = actions[planet_ids==0][::3]\n",
    "    act_1 = actions[planet_ids==1][:]\n",
    "    act_2 = actions[planet_ids==2][:]\n",
    "    act_balanced_planets = np.concatenate((act_0,act_1,act_2),axis=0)\n",
    "    print(f\"The shape of is actions is {act_balanced_planets.shape}\")\n",
    "    \n",
    "    planet_ids_0 = actions[planet_ids==0][::3]\n",
    "    planet_ids_1 = actions[planet_ids==1][:]\n",
    "    planet_ids_2 = actions[planet_ids==2][:]\n",
    "    planet_ids_balanced_planets = np.concatenate((planet_ids_0,planet_ids_1,planet_ids_2),axis=0)\n",
    "    print(f\"The shape of is planet_ids is {planet_ids_balanced_planets.shape}\")\n",
    "    \n",
    "    return obs_balanced_planets, act_balanced_planets, planet_ids_balanced_planets\n",
    "\n",
    "obs_balanced_planets, act_balanced_planets, planet_ids_balanced_planets = split_balanced_planets(\n",
    "                                            observations, actions, planet_ids)\n",
    "\n",
    "def split_balanced_labels(observations, actions, planet_ids):\n",
    "    print(\"\\nDoing Labels Balancing...\")\n",
    "    obs_0 = observations[actions==0][:200]\n",
    "    obs_1 = observations[actions==1][:200]\n",
    "    obs_2 = observations[actions==2][:200]\n",
    "    obs_3 = observations[actions==3][:]\n",
    "    obs_4 = observations[actions==4][:]\n",
    "    obs_balanced_labels = np.concatenate((obs_0,obs_1,obs_2,obs_3,obs_4),axis=0)\n",
    "    print(f\"The shape of is observtions is {obs_balanced_labels.shape}\")\n",
    "\n",
    "    act_0 = actions[actions==0][:200]\n",
    "    act_1 = actions[actions==1][:200]\n",
    "    act_2 = actions[actions==2][:200]\n",
    "    act_3 = actions[actions==3][:]\n",
    "    act_4 = actions[actions==4][:]\n",
    "    act_balanced_labels = np.concatenate((act_0,act_1,act_2,act_3,act_4),axis=0)\n",
    "    print(f\"The shape of is actions is {act_balanced_labels.shape}\")\n",
    "    \n",
    "    planet_ids_0 = actions[actions==0][:200]\n",
    "    planet_ids_1 = actions[actions==1][:200]\n",
    "    planet_ids_2 = actions[actions==2][:200]\n",
    "    planet_ids_3 = actions[actions==3][:]\n",
    "    planet_ids_4 = actions[actions==4][:]\n",
    "    planet_ids_balanced_labels = np.concatenate((planet_ids_0,planet_ids_1,\n",
    "                                          planet_ids_2,planet_ids_3,planet_ids_4),axis=0)\n",
    "    print(f\"The shape of is planet_ids is {planet_ids_balanced_labels.shape}\")\n",
    "    \n",
    "    return obs_balanced_labels, act_balanced_labels, planet_ids_balanced_labels\n",
    "\n",
    "obs_4_2, act_4_2, pid_4_2 = split_balanced_labels(\n",
    "    obs_balanced_planets, act_balanced_planets, planet_ids_balanced_planets)"
   ]
  },
  {
   "cell_type": "markdown",
   "id": "a5abf3f7",
   "metadata": {},
   "source": [
    "## 4.2. Extracted Feature v.s. Unextractd Feature"
   ]
  },
  {
   "cell_type": "markdown",
   "id": "86b1970f",
   "metadata": {},
   "source": [
    "### 4.2.2 Model with Extracted Feature"
   ]
  },
  {
   "cell_type": "code",
   "execution_count": 222,
   "id": "cfd66763",
   "metadata": {},
   "outputs": [
    {
     "name": "stdout",
     "output_type": "stream",
     "text": [
      "Macro-F1 Scores with Cross-Validation:\n",
      "[0.67128427 0.71151685 0.65240385 0.75710379 0.72606408 0.77030353\n",
      " 0.74473636 0.68362403 0.81752463 0.65589456]\n",
      "\n",
      "Mean Macro-F1 Score for Model with Extracted Feature:\n",
      "0.7190455941200778\n",
      "\n",
      "Standard Deviation for Model with Extracted Feature:\n",
      "0.051482895802142395\n"
     ]
    }
   ],
   "source": [
    "# Shuffle\n",
    "obs_4_2_shuffled, act_4_2_shuffled = shuffle(obs_4_2, act_4_2, random_state=0)\n",
    "\n",
    "# Feature Extraction\n",
    "\n",
    "def rgb2gray(obs_rgb):\n",
    "    # RGB -> GrayScale\n",
    "    obs_gray = np.zeros([obs_rgb.shape[0],96*96])\n",
    "    for i in range(obs_rgb.shape[0]):\n",
    "        gray = np.dot(obs_rgb[i,:,:,:], [0.3, 0.6, 0.1]).astype(int)\n",
    "        obs_gray[i,:] = gray.flatten()\n",
    "    obs_gray = obs_gray.astype(int)\n",
    "    obs_gray = obs_gray.reshape(-1,96,96)\n",
    "    return obs_gray\n",
    "\n",
    "obs_gray_4_2_shuffled = rgb2gray(obs_4_2_shuffled)\n",
    "\n",
    "# # GrayScale -> Binary\n",
    "# gray_threshold = 120\n",
    "# obs_gray_4_2_shuffled[obs_gray_4_2>=gray_threshold]=255\n",
    "# obs_gray_4_2_shuffled[obs_gray_4_2<gray_threshold]=0\n",
    "\n",
    "# # Hide the Monitor Bar\n",
    "# obs_gray_4_2[:,80:,:] = 255\n",
    "\n",
    "# PCA before RF to Mitigate Sparsity\n",
    "# Extract 5 Primary Components as Input Features for Random Forest\n",
    "obs_gray_4_2_shuffled_pca, null, null = rf_pca(n_components=5, X_train=obs_gray_4_2_shuffled)\n",
    "\n",
    "# Training and Cross-Validation\n",
    "from sklearn.model_selection import cross_val_score\n",
    "\n",
    "rf_model = RandomForestClassifier(n_estimators=100, max_depth=5, random_state=0)\n",
    "rf_scores = cross_val_score(rf_model, obs_gray_4_2_shuffled_pca, act_4_2_shuffled, scoring=\"f1_macro\", cv=10)\n",
    "\n",
    "print(\"Macro-F1 Scores with Cross-Validation:\")\n",
    "print(rf_scores)\n",
    "print(\"\")\n",
    "print(\"Mean Macro-F1 Score for Model with Extracted Feature:\")\n",
    "print(np.mean(rf_scores))\n",
    "print(\"\")\n",
    "print(\"Standard Deviation for Model with Extracted Feature:\")\n",
    "print(np.std(rf_scores))"
   ]
  },
  {
   "cell_type": "markdown",
   "id": "90cbb381",
   "metadata": {},
   "source": [
    "### 4.2.2 Model with Unextracted Feature"
   ]
  },
  {
   "cell_type": "code",
   "execution_count": 223,
   "id": "014b09cb",
   "metadata": {},
   "outputs": [
    {
     "name": "stdout",
     "output_type": "stream",
     "text": [
      "Macro-F1 Scores with Cross-Validation:\n",
      "[0.73614655 0.753663   0.69848565 0.73053848 0.78043884 0.80381417\n",
      " 0.74723007 0.70134021 0.79982984 0.74139237]\n",
      "\n",
      "Mean Macro-F1 Score for Model with Unextracted Feature:\n",
      "0.749287918929031\n",
      "\n",
      "Standard Deviation for Model with Unextracted Feature:\n",
      "0.0346233795483486\n"
     ]
    }
   ],
   "source": [
    "# Without Feature Extraction\n",
    "obs_rgb_4_2_shuffled, act_4_2_shuffled = obs_4_2_shuffled, act_4_2_shuffled\n",
    "\n",
    "# PCA before RF to Mitigate Sparsity\n",
    "# Extract 5 Primary Components as Input Features for Random Forest\n",
    "obs_rgb_4_2_shuffled_pca, null, null = rf_pca(n_components=5, X_train=obs_rgb_4_2_shuffled)\n",
    "\n",
    "# Training and Cross-Validation\n",
    "rf_model = RandomForestClassifier(n_estimators=100, max_depth=5, oob_score=True, random_state=0)\n",
    "rf_scores = cross_val_score(rf_model, obs_rgb_4_2_shuffled_pca, act_4_2_shuffled, scoring=\"f1_macro\", cv=10)\n",
    "\n",
    "print(\"Macro-F1 Scores with Cross-Validation:\")\n",
    "print(rf_scores)\n",
    "print(\"\")\n",
    "print(\"Mean Macro-F1 Score for Model with Unextracted Feature:\")\n",
    "print(np.mean(rf_scores))\n",
    "print(\"\")\n",
    "print(\"Standard Deviation for Model with Unextracted Feature:\")\n",
    "print(np.std(rf_scores))"
   ]
  },
  {
   "cell_type": "markdown",
   "id": "e5dd852a",
   "metadata": {},
   "source": [
    "Using the mean value and the standard deviation of Macro-F1 Scores with cross-validation as metrics, we experimented on the generalization performances of model with and without feature extraction.  \n",
    "\n",
    "According to experiments, the model with unextracted features outperformed the model with extracted features with 6% more Macro-F1 Scores, although slightly unstable with 3% more standard deviation.\n",
    "\n",
    "The results manifested that the proposed feature extration method is not indeed suitable for increasing generalization of this task. Hence, the following model fill not adapt it."
   ]
  },
  {
   "cell_type": "markdown",
   "id": "21b131bb",
   "metadata": {},
   "source": [
    "## 4.3. Single-Planet Dataset v.s. Multiple-Planet Dataset"
   ]
  },
  {
   "cell_type": "markdown",
   "id": "ed7f153c",
   "metadata": {},
   "source": [
    "To ensure that the comparison is fair enough, the dataset is splited as follows:\n",
    "- Firstly, we have 1000 data in `planet_0`, 200 data in `planet_1`, 200 data in `planet_2`.\n",
    "- Randomly select 200 data from `planet_0`, combined with the 400 data from `planet_1` and `planet_2`, as `multiset`.\n",
    "- Split `multiset` to `train_multi` with 480 data and `valid` with 120 data by `valid_size=0.2`.\n",
    "- Randomly select 480 data from the ramaining 800 data in `planet_0` as `train_single`.\n",
    "- Use `train_single` for the traing of Single-Plant Model, `train_multi` for Multi-Plant Model, `valid` for the validation of both models.\n",
    "\n",
    "With this apporch, the training set of two models and the unique validation set are mutually exclusive. Also, the validation set contains samples from all planets, which can measure the generalization of two models fairly. "
   ]
  },
  {
   "cell_type": "code",
   "execution_count": 224,
   "id": "d01e458e",
   "metadata": {},
   "outputs": [
    {
     "name": "stdout",
     "output_type": "stream",
     "text": [
      "Found 14 demonstrations\n",
      "Loaded 1000 samples\n"
     ]
    }
   ],
   "source": [
    "# Pre-processing Multi Planet Data\n",
    "\n",
    "DEMO_FILEPATTERN = 'demo-*-*.pickle'       # use ALL available demo files\n",
    "\n",
    "# find the relevant filenames\n",
    "filenames = glob.glob(f'demonstrations/{DEMO_FILEPATTERN}')\n",
    "filenames.sort() # ensure the order is well-defined\n",
    "print(f'Found {len(filenames)} demonstrations')\n",
    "# in a loop, load the found pickle files\n",
    "demonstrations = []\n",
    "for filename in filenames:\n",
    "    with open(filename, 'rb') as fd:\n",
    "        demonstration = pickle.load(fd)   \n",
    "        actions = demonstration['actions']\n",
    "        demonstrations.append(demonstration)\n",
    "print(f'Loaded {actions.shape[0]} samples')\n",
    "\n",
    "# we can combine all the observations, actions, planet and track ids\n",
    "observations = np.concatenate([d['observations'] for d in demonstrations])\n",
    "actions = np.concatenate([d['actions'] for d in demonstrations])\n",
    "planet_ids = np.concatenate([d['planets'] for d in demonstrations])\n",
    "track_ids = np.concatenate([d['tracks'] for d in demonstrations])\n",
    "\n",
    "# pre-processing: subsample and only keep every n-th sample for efficiency\n",
    "# this can speed up training\n",
    "ss = 10\n",
    "observations = observations[::ss]\n",
    "actions = actions[::ss]\n",
    "planet_ids = planet_ids[::ss]\n",
    "track_ids = track_ids[::ss]\n",
    "\n",
    "obs_0 = observations[planet_ids==0][::5]\n",
    "obs_1 = observations[planet_ids==1][:]\n",
    "obs_2 = observations[planet_ids==2][:]\n",
    "obs_multi = np.concatenate((obs_0,obs_1,obs_2),axis=0)\n",
    "\n",
    "act_0 = actions[planet_ids==0][::5]\n",
    "act_1 = actions[planet_ids==1][:]\n",
    "act_2 = actions[planet_ids==2][:]\n",
    "act_multi = np.concatenate((act_0,act_1,act_2),axis=0)\n",
    "\n",
    "obs_0 = observations[planet_ids==0][1::5]\n",
    "obs_1 = observations[planet_ids==0][2::5][:80]\n",
    "obs_2 = observations[planet_ids==0][3::5]\n",
    "obs_single = np.concatenate((obs_0,obs_1,obs_2),axis=0)\n",
    "\n",
    "act_0 = actions[planet_ids==0][1::5]\n",
    "act_1 = actions[planet_ids==0][2::5][:80]\n",
    "act_2 = actions[planet_ids==0][3::5]\n",
    "act_single = np.concatenate((act_0,act_1,act_2),axis=0)"
   ]
  },
  {
   "cell_type": "code",
   "execution_count": 225,
   "id": "b5550bed",
   "metadata": {},
   "outputs": [
    {
     "name": "stdout",
     "output_type": "stream",
     "text": [
      "The size of traing set for single planet is 480\n",
      "The size of traing set for multiple planet is 480\n",
      "The size of validation set for both planets is 120\n"
     ]
    }
   ],
   "source": [
    "# Shuffle and Split \n",
    "from sklearn.model_selection import train_test_split\n",
    "from sklearn.utils import shuffle\n",
    "\n",
    "obs_single, act_single = shuffle(obs_single, act_single,random_state=0)\n",
    "obs_multi_shuffled, act_multi_shuffled = shuffle(obs_multi, act_multi,random_state=0)\n",
    "obs_multi, obs_valid, act_multi, act_valid = train_test_split(obs_multi_shuffled, act_multi_shuffled, train_size=0.8)\n",
    "\n",
    "print(f\"The size of traing set for single planet is {obs_single.shape[0]}\")\n",
    "print(f\"The size of traing set for multiple planet is {obs_multi.shape[0]}\")\n",
    "print(f\"The size of validation set for both planets is {obs_valid.shape[0]}\")"
   ]
  },
  {
   "cell_type": "markdown",
   "id": "b36e8ba7",
   "metadata": {},
   "source": [
    "### 4.3.1. Single-Planet Model"
   ]
  },
  {
   "cell_type": "code",
   "execution_count": 226,
   "id": "7b36d605",
   "metadata": {},
   "outputs": [
    {
     "name": "stdout",
     "output_type": "stream",
     "text": [
      "The performance on the validation set is evaluated as follows:\n",
      "\n",
      "Macro-F1 Score on validation set:0.4205713548994022\n",
      "\n",
      "Confusion Matrix on validation set:[[20  0  6 20]\n",
      " [19  1  2 12]\n",
      " [ 1  0 22  4]\n",
      " [ 1  0  0 12]]\n",
      "\n"
     ]
    }
   ],
   "source": [
    "# PCA before RF to Mitigate Sparsity\n",
    "# Extract 5 Primary Components as Input Features for Random Forest\n",
    "X_train_single_pca, X_valid_pca, null = rf_pca(n_components=5, X_train=obs_single, X_valid=obs_valid)\n",
    "\n",
    "# Training and Evaluation\n",
    "rf_model = best_model\n",
    "rf_model.fit(X_train_single_pca, act_single)\n",
    "\n",
    "y_pred = rf_model.predict(X_valid_pca)\n",
    "rf_macro_f1 = f1_score(act_valid, y_pred, average='macro')\n",
    "rf_cm = confusion_matrix(act_valid,y_pred)\n",
    "\n",
    "print(f\"The performance on the validation set is evaluated as follows:\\n\")\n",
    "print(f\"Macro-F1 Score on validation set:{rf_macro_f1}\\n\")\n",
    "print(f\"Confusion Matrix on validation set:{rf_cm}\\n\")"
   ]
  },
  {
   "cell_type": "markdown",
   "id": "42faf2e2",
   "metadata": {},
   "source": [
    "### 4.3.2. Multi-Planet Model"
   ]
  },
  {
   "cell_type": "code",
   "execution_count": 227,
   "id": "e5eb377c",
   "metadata": {},
   "outputs": [
    {
     "name": "stdout",
     "output_type": "stream",
     "text": [
      "The performance on the validation set is evaluated as follows:\n",
      "\n",
      "Macro-F1 Score on validation set:0.5489013848870712\n",
      "\n",
      "Confusion Matrix on validation set:[[32  8  4  2]\n",
      " [26  7  1  0]\n",
      " [ 5  1 21  0]\n",
      " [ 7  0  0  6]]\n",
      "\n"
     ]
    }
   ],
   "source": [
    "# PCA before RF to Mitigate Sparsity\n",
    "# Extract 5 Primary Components as Input Features for Random Forest\n",
    "X_train_multi_pca, X_valid_pca, null = rf_pca(n_components=5, X_train=obs_multi, X_valid=obs_valid)\n",
    "\n",
    "# Training and Evaluation\n",
    "rf_model = best_model\n",
    "rf_model.fit(X_train_multi_pca, act_multi)\n",
    "\n",
    "y_pred = rf_model.predict(X_valid_pca)\n",
    "rf_macro_f1 = f1_score(act_valid, y_pred, average='macro')\n",
    "rf_cm = confusion_matrix(act_valid,y_pred)\n",
    "\n",
    "print(f\"The performance on the validation set is evaluated as follows:\\n\")\n",
    "print(f\"Macro-F1 Score on validation set:{rf_macro_f1}\\n\")\n",
    "print(f\"Confusion Matrix on validation set:{rf_cm}\\n\")"
   ]
  },
  {
   "cell_type": "markdown",
   "id": "83702b2e",
   "metadata": {},
   "source": [
    "Using the splited training sets and validation set for fair comparison, we experimented on the generalization performances of model trained on the single planet and multiple planet.  \n",
    "\n",
    "According to experiments, the model trained on multiple planets performed obviously better than the model trained on the single planet with 15% more Macro-F1 Score.\n",
    "\n",
    "The results manifested that given data from multiple planets, the trained model can achieve better performance in generalization."
   ]
  },
  {
   "cell_type": "markdown",
   "id": "187e95be",
   "metadata": {},
   "source": [
    "## 4.4. Methods for Improvement"
   ]
  },
  {
   "cell_type": "markdown",
   "id": "06bd75a1",
   "metadata": {},
   "source": [
    "Here we propose 5 possible ways to process the data, so that a more robust model can be trained.  \n",
    "\n",
    "- Data Collection: As observed before, the data is seriously imbalanced with more NO-Operation labels. One possible solution is to add more human demenstration to make the dataset more balanced.\n",
    "\n",
    "\n",
    "- Data Augmentation: If more data cannot be collected, it is also feasible to generate more usable data from the data that we already have. To finish this, some operations regarding image processing can be taken, such as, rotation, warping and distortion.\n",
    "\n",
    "\n",
    "- Preprossing:\n",
    "  1. The Gray Scale Image can be further transformed into a Binary Image by finding the threshold of its histgram of gray scale value. This mothod is very helpful to extract the boundary of the road and the field, which can surpress noises and filter the key information for model induction.\n",
    "  2. The edge of the images given is almost useless for this task, a croping operation can be taken to extract the center part of the images.\n",
    "\n",
    "\n",
    "- Moddel Technics: There are also some technics in the training stage of the Random Forest Model. An model called ExtraTreesClassifier can be used with more randomness introduced."
   ]
  },
  {
   "cell_type": "markdown",
   "id": "39bea65a",
   "metadata": {},
   "source": [
    "## 4.5. Using 2 Pre-processing Methods"
   ]
  },
  {
   "cell_type": "code",
   "execution_count": 228,
   "id": "14a8e819",
   "metadata": {},
   "outputs": [],
   "source": [
    "# Shuffle\n",
    "obs_4_5, act_4_5 = obs_4_2, act_4_2\n",
    "obs_4_5_shuffled, act_4_5_shuffled = shuffle(obs_4_5, act_4_5, random_state=0)"
   ]
  },
  {
   "cell_type": "markdown",
   "id": "49d6f892",
   "metadata": {},
   "source": [
    "### 4.5.1. Pre-processing 1: Edge Extraction"
   ]
  },
  {
   "cell_type": "code",
   "execution_count": 229,
   "id": "2dd441bf",
   "metadata": {},
   "outputs": [
    {
     "data": {
      "image/png": "[encoded data removed]",
      "text/plain": [
       "<Figure size 1440x360 with 1 Axes>"
      ]
     },
     "metadata": {
      "needs_background": "light"
     },
     "output_type": "display_data"
    }
   ],
   "source": [
    "from matplotlib.ticker import MultipleLocator\n",
    "\n",
    "obs_gray_4_5_shuffled = rgb2gray(obs_4_5_shuffled)\n",
    "# Histgram of Gray Scale\n",
    "plt.figure(figsize=(20,5))\n",
    "plt.title('Figure 4.1  Distribution of Gray Channel')\n",
    "plt.hist(obs_gray_4_5_shuffled.flatten(),bins=40,rwidth=0.9,)\n",
    "x_major_locator=MultipleLocator(10)\n",
    "ax=plt.gca()\n",
    "ax.xaxis.set_major_locator(x_major_locator)\n",
    "plt.show()"
   ]
  },
  {
   "cell_type": "markdown",
   "id": "a3bdefb1",
   "metadata": {},
   "source": [
    "According to the Disribution of the Gray Scale Value of all samples, a threshold can be determined, which indicates the boundary between the field and the road (with the car). All values below this threshold will be assigned to 0 and all above assigned to 255. This operation will create a psudo-binary image that distinguish the road, the car and the field effectively, which by hypothesis will increase the robustness of our model."
   ]
  },
  {
   "cell_type": "code",
   "execution_count": 230,
   "id": "88285a11",
   "metadata": {},
   "outputs": [
    {
     "data": {
      "text/plain": [
       "<matplotlib.image.AxesImage at 0x7f8d4f709c90>"
      ]
     },
     "execution_count": 230,
     "metadata": {},
     "output_type": "execute_result"
    },
    {
     "data": {
      "image/png": "[encoded data removed]",
      "text/plain": [
       "<Figure size 576x288 with 2 Axes>"
      ]
     },
     "metadata": {
      "needs_background": "light"
     },
     "output_type": "display_data"
    }
   ],
   "source": [
    "# Find the Threshold to transfer the gray channel into binary value\n",
    "\n",
    "gray_threshold=110\n",
    "\n",
    "def gray2bin(obs_gray, gray_threshold=110):\n",
    "    obs_gray[obs_gray>=gray_threshold]=255\n",
    "    obs_gray[obs_gray<gray_threshold]=0\n",
    "    # Set the Gray Scale Value of Monitor Bar at the Bottom of the Image to 255\n",
    "    obs_gray[:,80:,:] = 255\n",
    "    obs_binary = obs_gray\n",
    "    return obs_binary\n",
    "\n",
    "obs_bin_4_5_shuffled = gray2bin(obs_gray_4_5_shuffled, gray_threshold=110)\n",
    "\n",
    "plt.figure(figsize=(8,4))\n",
    "plt.suptitle('Figure 4.2  Demonstration of Pre-processing (Binary Tranformation)')\n",
    "plt.subplot(1,2,1)\n",
    "plt.axis('off')\n",
    "plt.title(\"Original Image\")\n",
    "plt.imshow((obs_4_5_shuffled[200]).astype(int))\n",
    "plt.subplot(1,2,2)\n",
    "plt.axis('off')\n",
    "plt.title(\"Processed Image\")\n",
    "plt.imshow(obs_bin_4_5_shuffled[200],cmap='gray')"
   ]
  },
  {
   "cell_type": "markdown",
   "id": "19b6c21a",
   "metadata": {},
   "source": [
    "The figure above shows the difference before and after pre-processing_1. It is obvious that the boundary of our road is well extracted, enabling the model more robust to the color variation."
   ]
  },
  {
   "cell_type": "markdown",
   "id": "9fa19818",
   "metadata": {},
   "source": [
    "### 4.5.2. Pre-processing 2: Image Cropping"
   ]
  },
  {
   "cell_type": "code",
   "execution_count": 231,
   "id": "2f7c4b94",
   "metadata": {},
   "outputs": [
    {
     "data": {
      "text/plain": [
       "<matplotlib.image.AxesImage at 0x7f8d4f9069d0>"
      ]
     },
     "execution_count": 231,
     "metadata": {},
     "output_type": "execute_result"
    },
    {
     "data": {
      "image/png": "[encoded data removed]",
      "text/plain": [
       "<Figure size 576x288 with 2 Axes>"
      ]
     },
     "metadata": {
      "needs_background": "light"
     },
     "output_type": "display_data"
    }
   ],
   "source": [
    "# 96 x 96 iamges-> 32 x 72 patches in the center\n",
    "def cropping_center(obs_bin):\n",
    "    obs_bin_center = obs_bin[:,10:82,34:66]\n",
    "    return obs_bin_center\n",
    "\n",
    "obs_bin_center_4_5_shuffled = cropping_center(obs_bin_4_5_shuffled)\n",
    "\n",
    "plt.figure(figsize=(8,4))\n",
    "plt.suptitle('Figure 4.3  Demonstration of ')\n",
    "plt.subplot(1,2,1)\n",
    "plt.axis('off')\n",
    "plt.title(\"Original Image\")\n",
    "plt.imshow((obs_bin_4_5_shuffled[200]).astype(int),cmap='gray')\n",
    "plt.subplot(1,2,2)\n",
    "plt.axis('off')\n",
    "plt.title(\"Processed Image\")\n",
    "plt.imshow(obs_bin_center_4_5_shuffled[200],cmap='gray')"
   ]
  },
  {
   "cell_type": "markdown",
   "id": "85c0e13c",
   "metadata": {},
   "source": [
    "The figure above shows the difference before and after pre-processing_2. The cropped image will provide more infomation about the current state of the vehicle. This operation is considered to keep the model from distraction of the malicious road shape."
   ]
  },
  {
   "cell_type": "code",
   "execution_count": 232,
   "id": "c5389d0a",
   "metadata": {},
   "outputs": [],
   "source": [
    "def pre_processing(obs_rgb):\n",
    "    obs_gray = rgb2gray(obs_rgb)\n",
    "    obs_bin = gray2bin(obs_gray)\n",
    "    obs_bin_center = cropping_center(obs_bin)\n",
    "    return obs_bin_center"
   ]
  },
  {
   "cell_type": "markdown",
   "id": "d7d9c3f9",
   "metadata": {},
   "source": [
    "## 4.6. Evaluation for Final Model (with Cross-Validation on 3 Planets)"
   ]
  },
  {
   "cell_type": "code",
   "execution_count": 233,
   "id": "9ffe4639",
   "metadata": {},
   "outputs": [
    {
     "name": "stdout",
     "output_type": "stream",
     "text": [
      "Macro-F1 Scores with Cross-Validation:\n",
      "[0.60972309 0.60389637 0.60675596 0.55983822 0.53261218 0.6633694\n",
      " 0.62900782 0.55029762 0.7638736  0.70568254]\n",
      "\n",
      "Mean Macro-F1 Score for Model with Unextracted Feature:\n",
      "0.6225056811404972\n",
      "\n",
      "Standard Deviation for Model with Unextracted Feature:\n",
      "0.0682606861636767\n",
      "\n"
     ]
    },
    {
     "data": {
      "image/png": "[encoded data removed]",
      "text/plain": [
       "<Figure size 432x288 with 1 Axes>"
      ]
     },
     "metadata": {
      "needs_background": "light"
     },
     "output_type": "display_data"
    }
   ],
   "source": [
    "# Shuffle\n",
    "obs_final, act_final = obs_4_2, act_4_2\n",
    "obs_final_shuffled, act_final_shuffled = shuffle(obs_final, act_final, random_state=0)\n",
    "\n",
    "obs_final_pp_shuffled = pre_processing(obs_final_shuffled)\n",
    "final_pca = PCA(n_components=5)\n",
    "obs_final_pp_shuffled_pca = final_pca.fit_transform(obs_final_pp_shuffled.reshape(obs_final_pp_shuffled.shape[0],-1))\n",
    "final_model = best_model\n",
    "final_scores = cross_val_score(final_model, obs_final_pp_shuffled_pca, act_final_shuffled, scoring=\"f1_macro\", cv=10)\n",
    "\n",
    "print(\"Macro-F1 Scores with Cross-Validation:\")\n",
    "print(final_scores)\n",
    "print(\"\")\n",
    "print(\"Mean Macro-F1 Score for Model with Unextracted Feature:\")\n",
    "print(np.mean(final_scores))\n",
    "print(\"\")\n",
    "print(\"Standard Deviation for Model with Unextracted Feature:\")\n",
    "print(np.std(final_scores))\n",
    "print()\n",
    "\n",
    "plot_learning_curves(final_model, obs_final_pp_shuffled, act_final_shuffled)"
   ]
  },
  {
   "cell_type": "markdown",
   "id": "3689bed8",
   "metadata": {},
   "source": [
    "From the results shown above, three conclusions can be given:\n",
    "- The Macro-F1 score of our final model with pre-processeing is greater than the model without pre-processsing which is evaluated in the last section.\n",
    "- With a larger training error, the bias of our final model is higher than the model without pre-processsing.\n",
    "- With smaller gap between training error and validation error, the variance of our final model is lower than the model without pre-processsing.\n",
    "\n",
    "This means that our final model have performed good generalization on the enseen dataset and less sensitive to the data variance."
   ]
  },
  {
   "cell_type": "markdown",
   "id": "be55ea7e",
   "metadata": {},
   "source": [
    "## 4.7. Testing and Performance on the Neptune"
   ]
  },
  {
   "cell_type": "code",
   "execution_count": 234,
   "id": "63088127",
   "metadata": {},
   "outputs": [
    {
     "data": {
      "text/plain": [
       "RandomForestClassifier(max_depth=20, random_state=0)"
      ]
     },
     "execution_count": 234,
     "metadata": {},
     "output_type": "execute_result"
    }
   ],
   "source": [
    "def policy_final(obs_rgb):\n",
    "    obs_rgb = obs_rgb[np.newaxis, :]\n",
    "    # PreProcessing\n",
    "    obs_bin_center = pre_processing(obs_rgb)\n",
    "    # PCA\n",
    "    obs_bin_center_pca = final_pca.transform(obs_bin_center.reshape(obs_bin_center.shape[0],-1))\n",
    "    # Predict\n",
    "    action = final_model.predict(obs_bin_center_pca)\n",
    "    action = int(action)\n",
    "    return action\n",
    "\n",
    "obs_final_pp_shuffled_pca = final_pca.fit_transform(obs_final_pp_shuffled.reshape(obs_final_pp_shuffled.shape[0],-1))\n",
    "final_model.fit(obs_final_pp_shuffled_pca, act_final_shuffled)"
   ]
  },
  {
   "cell_type": "code",
   "execution_count": 238,
   "id": "577edae6",
   "metadata": {},
   "outputs": [
    {
     "name": "stdout",
     "output_type": "stream",
     "text": [
      "Starting simulation for 500 iterations.\n",
      "*** Press ESC key in popup window to stop the simulation! ***\n",
      "\n",
      "Track generation: 1562..1960 -> 398-tiles track\n"
     ]
    },
    {
     "name": "stderr",
     "output_type": "stream",
     "text": [
      "/home/liangchen/anaconda3/envs/tf2/lib/python3.7/site-packages/gym/logger.py:30: UserWarning: \u001b[33mWARN: Box bound precision lowered by casting to float32\u001b[0m\n",
      "  warnings.warn(colorize('%s: %s'%('WARN', msg % args), 'yellow'))\n"
     ]
    },
    {
     "name": "stdout",
     "output_type": "stream",
     "text": [
      "total reward after 500 iterations: 335.3904282115867\n",
      "average reward: 0.6707808564231734\n",
      "Now testing on the 0th track of Neptune.\n",
      "Starting simulation for 500 iterations.\n",
      "*** Press ESC key in popup window to stop the simulation! ***\n",
      "\n",
      "Track generation: 1376..1698 -> 322-tiles track\n",
      "retry to generate track (normal if there are not many of this messages)\n",
      "Track generation: 1037..1302 -> 265-tiles track\n"
     ]
    },
    {
     "name": "stderr",
     "output_type": "stream",
     "text": [
      "/home/liangchen/anaconda3/envs/tf2/lib/python3.7/site-packages/gym/logger.py:30: UserWarning: \u001b[33mWARN: Box bound precision lowered by casting to float32\u001b[0m\n",
      "  warnings.warn(colorize('%s: %s'%('WARN', msg % args), 'yellow'))\n"
     ]
    },
    {
     "name": "stdout",
     "output_type": "stream",
     "text": [
      "total reward after 500 iterations: 476.515151515149\n",
      "average reward: 0.953030303030298\n",
      "Now testing on the 1th track of Neptune.\n",
      "Starting simulation for 500 iterations.\n",
      "*** Press ESC key in popup window to stop the simulation! ***\n",
      "\n",
      "Track generation: 1156..1447 -> 291-tiles track\n"
     ]
    },
    {
     "name": "stderr",
     "output_type": "stream",
     "text": [
      "/home/liangchen/anaconda3/envs/tf2/lib/python3.7/site-packages/gym/logger.py:30: UserWarning: \u001b[33mWARN: Box bound precision lowered by casting to float32\u001b[0m\n",
      "  warnings.warn(colorize('%s: %s'%('WARN', msg % args), 'yellow'))\n"
     ]
    },
    {
     "name": "stdout",
     "output_type": "stream",
     "text": [
      "total reward after 500 iterations: 394.82758620689367\n",
      "average reward: 0.7896551724137874\n",
      "Now testing on the 2th track of Neptune.\n",
      "Starting simulation for 500 iterations.\n",
      "*** Press ESC key in popup window to stop the simulation! ***\n",
      "\n",
      "Track generation: 1489..1862 -> 373-tiles track\n"
     ]
    },
    {
     "name": "stderr",
     "output_type": "stream",
     "text": [
      "/home/liangchen/anaconda3/envs/tf2/lib/python3.7/site-packages/gym/logger.py:30: UserWarning: \u001b[33mWARN: Box bound precision lowered by casting to float32\u001b[0m\n",
      "  warnings.warn(colorize('%s: %s'%('WARN', msg % args), 'yellow'))\n"
     ]
    },
    {
     "name": "stdout",
     "output_type": "stream",
     "text": [
      "total reward after 500 iterations: 312.9032258064515\n",
      "average reward: 0.6258064516129029\n",
      "Now testing on the 3th track of Neptune.\n",
      "Starting simulation for 500 iterations.\n",
      "*** Press ESC key in popup window to stop the simulation! ***\n",
      "\n",
      "Track generation: 1310..1653 -> 343-tiles track\n"
     ]
    },
    {
     "name": "stderr",
     "output_type": "stream",
     "text": [
      "/home/liangchen/anaconda3/envs/tf2/lib/python3.7/site-packages/gym/logger.py:30: UserWarning: \u001b[33mWARN: Box bound precision lowered by casting to float32\u001b[0m\n",
      "  warnings.warn(colorize('%s: %s'%('WARN', msg % args), 'yellow'))\n"
     ]
    },
    {
     "name": "stdout",
     "output_type": "stream",
     "text": [
      "total reward after 500 iterations: 37.71929824561394\n",
      "average reward: 0.07543859649122789\n",
      "Now testing on the 4th track of Neptune.\n",
      "Starting simulation for 500 iterations.\n",
      "*** Press ESC key in popup window to stop the simulation! ***\n",
      "\n",
      "Track generation: 1268..1595 -> 327-tiles track\n"
     ]
    },
    {
     "name": "stderr",
     "output_type": "stream",
     "text": [
      "/home/liangchen/anaconda3/envs/tf2/lib/python3.7/site-packages/gym/logger.py:30: UserWarning: \u001b[33mWARN: Box bound precision lowered by casting to float32\u001b[0m\n",
      "  warnings.warn(colorize('%s: %s'%('WARN', msg % args), 'yellow'))\n"
     ]
    },
    {
     "name": "stdout",
     "output_type": "stream",
     "text": [
      "total reward after 500 iterations: 419.32515337423115\n",
      "average reward: 0.8386503067484623\n",
      "Now testing on the 5th track of Neptune.\n",
      "Starting simulation for 500 iterations.\n",
      "*** Press ESC key in popup window to stop the simulation! ***\n",
      "\n",
      "Track generation: 826..1152 -> 326-tiles track\n"
     ]
    },
    {
     "name": "stderr",
     "output_type": "stream",
     "text": [
      "/home/liangchen/anaconda3/envs/tf2/lib/python3.7/site-packages/gym/logger.py:30: UserWarning: \u001b[33mWARN: Box bound precision lowered by casting to float32\u001b[0m\n",
      "  warnings.warn(colorize('%s: %s'%('WARN', msg % args), 'yellow'))\n"
     ]
    },
    {
     "name": "stdout",
     "output_type": "stream",
     "text": [
      "total reward after 500 iterations: 17.692307692307722\n",
      "average reward: 0.035384615384615445\n",
      "Now testing on the 6th track of Neptune.\n",
      "Starting simulation for 500 iterations.\n",
      "*** Press ESC key in popup window to stop the simulation! ***\n",
      "\n",
      "Track generation: 1287..1618 -> 331-tiles track\n"
     ]
    },
    {
     "name": "stderr",
     "output_type": "stream",
     "text": [
      "/home/liangchen/anaconda3/envs/tf2/lib/python3.7/site-packages/gym/logger.py:30: UserWarning: \u001b[33mWARN: Box bound precision lowered by casting to float32\u001b[0m\n",
      "  warnings.warn(colorize('%s: %s'%('WARN', msg % args), 'yellow'))\n"
     ]
    },
    {
     "name": "stdout",
     "output_type": "stream",
     "text": [
      "total reward after 500 iterations: 407.5757575757534\n",
      "average reward: 0.8151515151515069\n",
      "Now testing on the 7th track of Neptune.\n",
      "Starting simulation for 500 iterations.\n",
      "*** Press ESC key in popup window to stop the simulation! ***\n",
      "\n",
      "Track generation: 1360..1702 -> 342-tiles track\n"
     ]
    },
    {
     "name": "stderr",
     "output_type": "stream",
     "text": [
      "/home/liangchen/anaconda3/envs/tf2/lib/python3.7/site-packages/gym/logger.py:30: UserWarning: \u001b[33mWARN: Box bound precision lowered by casting to float32\u001b[0m\n",
      "  warnings.warn(colorize('%s: %s'%('WARN', msg % args), 'yellow'))\n"
     ]
    },
    {
     "name": "stdout",
     "output_type": "stream",
     "text": [
      "total reward after 500 iterations: 419.2082111436926\n",
      "average reward: 0.8384164222873852\n",
      "Now testing on the 8th track of Neptune.\n",
      "Starting simulation for 500 iterations.\n",
      "*** Press ESC key in popup window to stop the simulation! ***\n",
      "\n",
      "Track generation: 1265..1583 -> 318-tiles track\n"
     ]
    },
    {
     "name": "stderr",
     "output_type": "stream",
     "text": [
      "/home/liangchen/anaconda3/envs/tf2/lib/python3.7/site-packages/gym/logger.py:30: UserWarning: \u001b[33mWARN: Box bound precision lowered by casting to float32\u001b[0m\n",
      "  warnings.warn(colorize('%s: %s'%('WARN', msg % args), 'yellow'))\n"
     ]
    },
    {
     "name": "stdout",
     "output_type": "stream",
     "text": [
      "total reward after 500 iterations: 445.2681388012567\n",
      "average reward: 0.8905362776025134\n",
      "Now testing on the 9th track of Neptune.\n",
      "Starting simulation for 500 iterations.\n",
      "*** Press ESC key in popup window to stop the simulation! ***\n",
      "\n",
      "Track generation: 1376..1714 -> 338-tiles track\n"
     ]
    },
    {
     "name": "stderr",
     "output_type": "stream",
     "text": [
      "/home/liangchen/anaconda3/envs/tf2/lib/python3.7/site-packages/gym/logger.py:30: UserWarning: \u001b[33mWARN: Box bound precision lowered by casting to float32\u001b[0m\n",
      "  warnings.warn(colorize('%s: %s'%('WARN', msg % args), 'yellow'))\n"
     ]
    },
    {
     "name": "stdout",
     "output_type": "stream",
     "text": [
      "total reward after 500 iterations: 261.572700296734\n",
      "average reward: 0.523145400593468\n",
      "Now testing on the 10th track of Neptune.\n",
      "Starting simulation for 500 iterations.\n",
      "*** Press ESC key in popup window to stop the simulation! ***\n",
      "\n",
      "Track generation: 1282..1617 -> 335-tiles track\n"
     ]
    },
    {
     "name": "stderr",
     "output_type": "stream",
     "text": [
      "/home/liangchen/anaconda3/envs/tf2/lib/python3.7/site-packages/gym/logger.py:30: UserWarning: \u001b[33mWARN: Box bound precision lowered by casting to float32\u001b[0m\n",
      "  warnings.warn(colorize('%s: %s'%('WARN', msg % args), 'yellow'))\n"
     ]
    },
    {
     "name": "stdout",
     "output_type": "stream",
     "text": [
      "total reward after 500 iterations: 354.19161676646553\n",
      "average reward: 0.7083832335329311\n",
      "Now testing on the 11th track of Neptune.\n",
      "Starting simulation for 500 iterations.\n",
      "*** Press ESC key in popup window to stop the simulation! ***\n",
      "\n",
      "Track generation: 1215..1521 -> 306-tiles track\n"
     ]
    },
    {
     "name": "stderr",
     "output_type": "stream",
     "text": [
      "/home/liangchen/anaconda3/envs/tf2/lib/python3.7/site-packages/gym/logger.py:30: UserWarning: \u001b[33mWARN: Box bound precision lowered by casting to float32\u001b[0m\n",
      "  warnings.warn(colorize('%s: %s'%('WARN', msg % args), 'yellow'))\n"
     ]
    },
    {
     "name": "stdout",
     "output_type": "stream",
     "text": [
      "total reward after 500 iterations: 445.08196721311157\n",
      "average reward: 0.8901639344262231\n",
      "Now testing on the 12th track of Neptune.\n",
      "Starting simulation for 500 iterations.\n",
      "*** Press ESC key in popup window to stop the simulation! ***\n",
      "\n",
      "Track generation: 1191..1487 -> 296-tiles track\n"
     ]
    },
    {
     "name": "stderr",
     "output_type": "stream",
     "text": [
      "/home/liangchen/anaconda3/envs/tf2/lib/python3.7/site-packages/gym/logger.py:30: UserWarning: \u001b[33mWARN: Box bound precision lowered by casting to float32\u001b[0m\n",
      "  warnings.warn(colorize('%s: %s'%('WARN', msg % args), 'yellow'))\n"
     ]
    },
    {
     "name": "stdout",
     "output_type": "stream",
     "text": [
      "total reward after 500 iterations: 472.0338983050809\n",
      "average reward: 0.9440677966101618\n",
      "Now testing on the 13th track of Neptune.\n",
      "Starting simulation for 500 iterations.\n",
      "*** Press ESC key in popup window to stop the simulation! ***\n",
      "\n",
      "Track generation: 1562..1960 -> 398-tiles track\n"
     ]
    },
    {
     "name": "stderr",
     "output_type": "stream",
     "text": [
      "/home/liangchen/anaconda3/envs/tf2/lib/python3.7/site-packages/gym/logger.py:30: UserWarning: \u001b[33mWARN: Box bound precision lowered by casting to float32\u001b[0m\n",
      "  warnings.warn(colorize('%s: %s'%('WARN', msg % args), 'yellow'))\n"
     ]
    },
    {
     "name": "stdout",
     "output_type": "stream",
     "text": [
      "total reward after 500 iterations: 335.3904282115867\n",
      "average reward: 0.6707808564231734\n"
     ]
    }
   ],
   "source": [
    "run_simulation(policy_final, render=1, planet_id=3, track_id=i)\n",
    "\n",
    "rwd_final = []\n",
    "act_final = []\n",
    "for i in range(14):\n",
    "    print(f\"Now testing on the {i}th track of Neptune.\")\n",
    "    rwd_rf, obs_rf, act_rf = run_simulation(policy_final, render=0, \\\n",
    "                                            record_data=1, planet_id=3, track_id=i)\n",
    "    rwd_final.append(rwd_rf)\n",
    "    act_final.append(act_rf)"
   ]
  },
  {
   "cell_type": "markdown",
   "id": "7c5b4118",
   "metadata": {},
   "source": [
    "Here an list of rewards on the 14 tracks of Neptune with 500 iterations is collected. The mean value and the standard deviation are calculated as measurements for the performance on Neptune."
   ]
  },
  {
   "cell_type": "code",
   "execution_count": 235,
   "id": "a5683ea0",
   "metadata": {
    "scrolled": false
   },
   "outputs": [
    {
     "name": "stdout",
     "output_type": "stream",
     "text": [
      "The average reward on 14 tracks of Neptune is 0.5300011406299479\n",
      "The standard deviation of rewards on 14 tracks of Neptune is 1.2700183968457237\n"
     ]
    }
   ],
   "source": [
    "print(f\"The average reward on 14 tracks of Neptune is {np.mean(rwd_final)}\")\n",
    "print(f\"The standard deviation of rewards on 14 tracks of Neptune is {np.std(rwd_final)}\")"
   ]
  },
  {
   "cell_type": "markdown",
   "id": "368dea8d",
   "metadata": {},
   "source": [
    "## 4.8. Parameters Saving"
   ]
  },
  {
   "cell_type": "code",
   "execution_count": 236,
   "id": "aaa16b75",
   "metadata": {},
   "outputs": [],
   "source": [
    "pickle_models=(final_pca, final_model)\n",
    "with open('model.zip', 'wb') as file:\n",
    "    pickle.dump(pickle_models, file)"
   ]
  },
  {
   "cell_type": "markdown",
   "id": "4274e06b",
   "metadata": {},
   "source": [
    "The Random Forest Model and the PCA Model are stored in a list named `pickle_models`.\n",
    "\n",
    "It is recommended to seperate these two models by index, like `final_pca=pickle_models[0]` and `final_model=pickle_models[1]`"
   ]
  },
  {
   "cell_type": "markdown",
   "id": "4571cf66",
   "metadata": {},
   "source": [
    "---\n",
    "\n",
    "# 5. Present Your Solution (5 points)\n",
    "1. Summarize your main decisions and insights\n",
    "2. Create a stand-alone demo. I.e., a block of cells that can be run on its own. For that you will need to load your pre-trained best model you saved in the previous section and run it on a Neptune track.\n"
   ]
  },
  {
   "cell_type": "markdown",
   "id": "721607b0",
   "metadata": {},
   "source": [
    "## 5.1. Summary"
   ]
  },
  {
   "cell_type": "markdown",
   "id": "dc12927f",
   "metadata": {},
   "source": [
    "The whole process and the decisions and insights within can be summarized as the following parts:\n",
    "\n",
    "1. Data Selection\n",
    "- Adjust Data Distribution: Ensure the samples are i.i.d..\n",
    "- Undersampling: Mitigate the affection of class imbalance.\n",
    "\n",
    "2. Feature Extraction\n",
    "- RGB to Gray Scale: Suppress the influence of color channel, draw more attention to the texture of images.\n",
    "\n",
    "3. Data Pre-Processing\n",
    "- Gray Scale to Psudo Binary: Extract the edge of the road.\n",
    "- Cropping towards Center: Make the model focus on the current state of the vehicle.\n",
    "\n",
    "4. Modeling\n",
    "- Ensemble Method, Random Forest: Get a strong learner with lower variance while not increasing its bias.\n",
    "- Neural Network Method, CNN: Explore the latent representation of the image texture.\n",
    "\n",
    "5. Model Evaluation\n",
    "- Macro-F1: A more comprehensive and more suitable metric for imbalanced multi-class than accuracy.\n",
    "- Learning Curve: Dynamicly analyze the bias and the variance of model.\n",
    "\n",
    "6. Model Selection\n",
    "- Random Forest: Less training time, less test time, high performance with potentials to achieve online learning for real-time mission like car-racing.\n",
    "\n",
    "7. Fine-Tuning\n",
    "- Grid Search: Optimize the hyperparameters by searching.\n",
    "\n",
    "8. Generalization\n",
    "- Data Selection: Randomly select the data with i.i.d. and balanced class.\n",
    "- Cross-Validation: Use K-Folds of properly sampled data to evaluate its generalization to the full dataset.\n",
    "\n",
    "9. Testing\n",
    "- Calculate the mean value and the standard variance of the reward."
   ]
  },
  {
   "cell_type": "markdown",
   "id": "a0795eb3",
   "metadata": {},
   "source": [
    "## 5.2. Demo"
   ]
  },
  {
   "cell_type": "code",
   "execution_count": 242,
   "id": "838eafa3",
   "metadata": {},
   "outputs": [
    {
     "name": "stdout",
     "output_type": "stream",
     "text": [
      "Found 14 demonstrations\n",
      "Loaded 1000 samples\n",
      "\n",
      "\n",
      "Doing Planets Balancing...\n",
      "The shape of is observtions is (734, 96, 96, 3)\n",
      "The shape of is actions is (734,)\n",
      "The shape of is planet_ids is (734,)\n",
      "\n",
      "Doing Labels Balancing...\n",
      "The shape of is observtions is (591, 96, 96, 3)\n",
      "The shape of is actions is (591,)\n",
      "The shape of is planet_ids is (591,)\n",
      "Starting simulation for 500 iterations.\n",
      "*** Press ESC key in popup window to stop the simulation! ***\n",
      "\n",
      "Track generation: 1191..1487 -> 296-tiles track\n"
     ]
    },
    {
     "name": "stderr",
     "output_type": "stream",
     "text": [
      "/home/liangchen/anaconda3/envs/tf2/lib/python3.7/site-packages/gym/logger.py:30: UserWarning: \u001b[33mWARN: Box bound precision lowered by casting to float32\u001b[0m\n",
      "  warnings.warn(colorize('%s: %s'%('WARN', msg % args), 'yellow'))\n"
     ]
    },
    {
     "name": "stdout",
     "output_type": "stream",
     "text": [
      "total reward after 500 iterations: 472.0338983050809\n",
      "average reward: 0.9440677966101618\n"
     ]
    }
   ],
   "source": [
    "# Pre-processing Multi Planet Data\n",
    "\n",
    "# demo-[planet_id]-[track_id]-[datetime].pickle\n",
    "DEMO_FILEPATTERN = 'demo-*-*.pickle'       # use ALL available demo files\n",
    "\n",
    "# find the relevant filenames\n",
    "filenames = glob.glob(f'demonstrations/{DEMO_FILEPATTERN}')\n",
    "filenames.sort() # ensure the order is well-defined\n",
    "print(f'Found {len(filenames)} demonstrations')\n",
    "\n",
    "# in a loop, load the found pickle files\n",
    "demonstrations = []\n",
    "for filename in filenames:\n",
    "    with open(filename, 'rb') as fd:\n",
    "        demonstration = pickle.load(fd)\n",
    "        actions = demonstration['actions']\n",
    "        demonstrations.append(demonstration)\n",
    "print(f'Loaded {actions.shape[0]} samples')\n",
    "print(\"\")\n",
    "\n",
    "# we can combine all the observations, actions, planet and track ids\n",
    "observations = np.concatenate([d['observations'] for d in demonstrations])\n",
    "actions = np.concatenate([d['actions'] for d in demonstrations])\n",
    "planet_ids = np.concatenate([d['planets'] for d in demonstrations])\n",
    "track_ids = np.concatenate([d['tracks'] for d in demonstrations])\n",
    "\n",
    "# pre-processing: subsample and only keep every n-th sample for efficiency\n",
    "# this can speed up training\n",
    "ss = 10\n",
    "observations = observations[::ss]\n",
    "actions = actions[::ss]\n",
    "planet_ids = planet_ids[::ss]\n",
    "track_ids = track_ids[::ss]\n",
    "\n",
    "obs_balanced_planets, act_balanced_planets, planet_ids_balanced_planets = split_balanced_planets(\n",
    "                                            observations, actions, planet_ids)\n",
    "obs_final, act_final, null = split_balanced_labels(\n",
    "    obs_balanced_planets, act_balanced_planets, planet_ids_balanced_planets)\n",
    "\n",
    "# Shuffle\n",
    "obs_final_shuffled, act_final_shuffled = shuffle(obs_final, act_final, random_state=0)\n",
    "\n",
    "# Pre-processing\n",
    "obs_final_pp_shuffled = pre_processing(obs_final_shuffled)\n",
    "\n",
    "# Loading Models\n",
    "\n",
    "with open('model.zip', 'rb') as file:\n",
    "    get_pickle_models = pickle.load(file)\n",
    "    \n",
    "final_pca = get_pickle_models[0]\n",
    "obs_final_pp_shuffled_pca = final_pca.fit_transform(obs_final_pp_shuffled.reshape(obs_final_pp_shuffled.shape[0],-1))\n",
    "final_model = get_pickle_models[1]\n",
    "final_model.fit(obs_final_pp_shuffled_pca, act_final_shuffled)\n",
    "\n",
    "rwd_final = run_simulation(policy_final, iterations=500, planet_id=3, track_id=12, render=1)"
   ]
  },
  {
   "cell_type": "code",
   "execution_count": null,
   "id": "788c822b",
   "metadata": {},
   "outputs": [],
   "source": []
  }
 ],
 "metadata": {
  "celltoolbar": "无",
  "kernelspec": {
   "display_name": "Python 3",
   "language": "python",
   "name": "python3"
  },
  "language_info": {
   "codemirror_mode": {
    "name": "ipython",
    "version": 3
   },
   "file_extension": ".py",
   "mimetype": "text/x-python",
   "name": "python",
   "nbconvert_exporter": "python",
   "pygments_lexer": "ipython3",
   "version": "3.7.10"
  },
  "toc": {
   "base_numbering": 1,
   "nav_menu": {},
   "number_sections": false,
   "sideBar": true,
   "skip_h1_title": false,
   "title_cell": "Table of Contents",
   "title_sidebar": "Contents",
   "toc_cell": false,
   "toc_position": {
    "height": "calc(100% - 180px)",
    "left": "10px",
    "top": "150px",
    "width": "445.325px"
   },
   "toc_section_display": true,
   "toc_window_display": true
  },
  "varInspector": {
   "cols": {
    "lenName": 16,
    "lenType": 16,
    "lenVar": 40
   },
   "kernels_config": {
    "python": {
     "delete_cmd_postfix": "",
     "delete_cmd_prefix": "del ",
     "library": "var_list.py",
     "varRefreshCmd": "print(var_dic_list())"
    },
    "r": {
     "delete_cmd_postfix": ") ",
     "delete_cmd_prefix": "rm(",
     "library": "var_list.r",
     "varRefreshCmd": "cat(var_dic_list()) "
    }
   },
   "types_to_exclude": [
    "module",
    "function",
    "builtin_function_or_method",
    "instance",
    "_Feature"
   ],
   "window_display": false
  }
 },
 "nbformat": 4,
 "nbformat_minor": 5
}
