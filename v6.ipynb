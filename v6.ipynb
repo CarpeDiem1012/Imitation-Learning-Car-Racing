{
 "cells": [
  {
   "cell_type": "markdown",
   "id": "d5955546",
   "metadata": {},
   "source": [
    "# Final Assignment RO47002 - Machine Learning for Robotics 2021/2022\n",
    "\n",
    "Before you start, fill in the cell below your lab group's number and the names of both lab partners.\n",
    "It is also suggested that you carefully read through all provided content before you start adding things.\n",
    "\n",
    "*Note*: as always, basic plagiarism and ethical guidelines apply:\n",
    "* By submitting this notebook, **you both claim that the solution is yours and yours only.**\n",
    "* You are not allowed to share your work with others.\n",
    "* Even after the deadline has passed, do *not* share or upload your solution anywhere (e.g. do not put it on github)."
   ]
  },
  {
   "cell_type": "code",
   "execution_count": 1,
   "id": "b3ab9a3d",
   "metadata": {},
   "outputs": [],
   "source": [
    "GROUP_NUMBER = \"6\"\n",
    "STUDENT_NAME1 = \"Weihao Xuan\"\n",
    "STUDENT_NUMBER1 = \"5360862\"\n",
    "STUDENT_NAME2 = \"Siyuan Wu\"\n",
    "STUDENT_NUMBER2 = \"5488362\""
   ]
  },
  {
   "cell_type": "code",
   "execution_count": 2,
   "id": "d8f97ea6",
   "metadata": {},
   "outputs": [],
   "source": [
    "# Note: this block is a check that you have filled in the above information.\n",
    "# It will throw an AssertionError until all fields are filled\n",
    "assert(GROUP_NUMBER != \"\")\n",
    "assert(STUDENT_NAME1 != \"\")\n",
    "assert(STUDENT_NUMBER1 != \"\")\n",
    "assert(STUDENT_NAME2 != \"\")\n",
    "assert(STUDENT_NUMBER2 != \"\")"
   ]
  },
  {
   "cell_type": "markdown",
   "id": "7c7a819d",
   "metadata": {},
   "source": [
    "---\n",
    "\n",
    "## Introduction\n",
    "We are in the year 2121. The newest sport sensation is solar robot racing. Similar to Formula 1, the races are held on different tracks, however times have changed and those are no longer in different countries but on different planets. The Earth track is well-known for its lush green surroundings, the Mars track for its bright red environment, the Saturn track is instantly recognizable for the brownish soil, and a new race track is currently being built on Neptune, promising a soothing blue background.\n",
    "\n",
    "Like in good old fashioned car racing, no modifications of the car are allowed between races, and in particular the AI cannot be changed. That means we need to develop one single machine learning model that is able to drive on all planets. From past competitions we have data from Earth, Mars, and Saturn (i.e., the 3 datasets provided) but we do not have any data from Neptune yet (i.e., this is a hidden test set), making this season extra challenging. However, we have the possibility to collect more data on 3 planets and can also use test tracks on planets not participating in the competition (i.e., the provided code that allows to collect more data and to change some properties of the environment).\n",
    "\n",
    "As you are just starting out as a solar robot racing AI engineer, you first get the familiarization assignment to train a model solely for Earth before moving on to designing a competition-grade AI.\n",
    "\n",
    "## Robot car AI\n",
    "\n",
    "In this competition, the robot car's actions need to be determined based on only the robot car's last observation (i.e. sensor measurements). More technically: the goal is to create a function $f(observation) \\rightarrow action$, which the robot can continuously apply in a loop on its sensor measurements to determine its next action. This type of function is often called a *policy*.\n",
    "\n",
    "In this assignment, the input and output of the policy function $f$ are defined as:\n",
    "- the input `observation` will be an RGB image (a numpy array) containing a top-down view of the robot's surroundings, including the road ahead.\n",
    "- the output `action` should be an integer out of one of the possible actions (an integer between 0 and 4):\n",
    "    0. Do nothing\n",
    "    1. Accelerate\n",
    "    2. Turn steer left\n",
    "    3. Turn steer right\n",
    "    4. Brake\n",
    "\n",
    "More details will be provided later in the section \"0. Code to get you started\" below.\n",
    "\n",
    "Note that the policy function will completely determine the behavior of the robot.\n",
    "You can think of the robot executing the policy in a never-ending loop (in pseudo-code):\n",
    "```python\n",
    "# Pseudo robot main loop with policy f\n",
    "while True:\n",
    "    observation = read_sensor_measurement()\n",
    "    action = f(observation) # apply the policy\n",
    "    execute_action(action)\n",
    "```\n",
    "In fact, the behavior is already implemented for you in a **simulator**. This means you can test a policy function $f$ by plugging it in the simulator and seeing how your robot car behaves!\n",
    "The simulator also allows us to quantify how well your robot behaved by returning a 'reward' value for each simulation step (a higher reward is better). More details on the rewards will be explained below in Section 0.\n",
    "\n",
    "## Task description: imitation learning\n",
    "\n",
    "These type of tasks, where a robot's policy needs to be optimized to achieve a high expected reward for operating in some environment, is often addressed through *reinforcement learning*. However, in this assigment we will *not* use reinforcement learning techniques, but mainly treat the problem as a **supervised classification task**.\n",
    "The training input (observations) and output (action labels) data will be obtained through demonstrations of humans *manually* controlling the robot car. By training your machine learning models on these demonstrations, you will create an AI which \"imitates\" how a human would drive. This type of supervised machine learning is therefore called *imitation learning*.\n",
    "\n",
    "There are some coding challenges and design choices that you have to solve to use human driving demonstrations as labeled data to create your machine learning models. As before, you will have to think about feature extraction, hyperparemeter optimization, evaluation metrics, comparing models, etc.\n",
    "\n",
    "Once you have trained a classification model, you could define a new policy function which uses your trained model, and test this policy in the simulator. Does your most succesful model also accumulate the most reward in the simulation? Can you make an AI which succesfully drives on known and unknown planets?"
   ]
  },
  {
   "cell_type": "markdown",
   "id": "ef10e769",
   "metadata": {},
   "source": [
    "## Deliverables\n",
    "The deadline is **Sunday October 24th, 2021 at 23:59**. Late submission is –1 grade point per day.\n",
    "\n",
    "* The main deliverable is this Jupyter Notebook, integrating the report (markdown cells) and the code.\n",
    "* Submission is again in the form of a single ZIP file that *includes your notebook, and all files required to run the notebook and reproduce the results*. This includes all used data/demonstrations (including the ones that were provided), any loadable parameter files, any auxiliary scripts, etc.\n",
    "* Name the ZIP file \"**GroupNumber_final_assignment.zip**\", e.g., if you are in group 456, the name would be \"456_final_assignment.zip\".\n",
    "* Unlike previous lab assignments, there are no autograded cells or asserts, but we will grade the notebook manually. Therefore, you are free to add cells as you see fit, as long as the required sections are still present in the notebook.\n",
    "* Make sure that the notebook runs correctly. That is, clear all outputs, restart the kernel and run the notebook from top to bottom. \n",
    "* The notebook needs to be able to run within 20 minutes on a high-end PC, performing all steps (also including training, the only exception is hyperparameter optimization which can be commented out).\n",
    "* In contrast to the practica, please submit the notebook *including* the output (i.e., do not clear the outputs before zipping it up). \n",
    "\n",
    "\n",
    "## Grading Criteria\n",
    "Below you will find an outline of the sections that the notebook needs to contain and what we expect for each part. More specific requirements are listed there as well. The indicated number of points, out of a total of 100, should give you a rough indication of how much effort to put into each part.\n",
    "\n",
    "In general, we will not focus as much on the performance of the method you design, but rather the _level of understanding and argumentation about your design choices_. So, we are not only interested in WHAT you did, but will put a strong emphasis on your reasoning about the WHY. Try to synthesize rather than describing what you did step by step.\n",
    "\n",
    "### Quality of the report (20 points)\n",
    "- Structure & Readability\n",
    " - Logical flow\n",
    " - Connection between parts\n",
    "- Academic English\n",
    " - Do not use short forms, like \"isn't\", \"wouldn't\".\n",
    " - Do not use colloquial style, like \"a couple of\".\n",
    " - Spell check and proofread your report.\n",
    "- Level of detail\n",
    " - Strive for elegant, concise text - longer reports do not necessarily yield higher grades.\n",
    " - There is no need to re-explain theory. Assume that the target audience of the report has followed the course.\n",
    "- Figures & Tables\n",
    " - Choose figures/plots/tables carefully. Only include those that add to the story of the report. Do not put the burden on the reviewer to figure out which results you basing your conclusions on, but specifically refer (parts of) the specific table/plot/figure when needed.\n",
    " - When comparing two or more signals display them in one plot. Explain the colors / line types. The scale of the plots must be carefully chosen in order to clearly convey the information intended. Label the axes in graphs properly (variables and units).\n",
    "- Citations\n",
    " - If you use images, theory and methods beyond what was covered in the course, etc., always reference sources.\n",
    "\n",
    "\n",
    "### Your implementations and answers (80 points)\n",
    "\n",
    "The remainder of this notebook follows the following structure:\n",
    "\n",
    "0. Code to get you starte (0 points, *nothing for you to do here*)\n",
    "1. Explore & Inspect the Data (5 points)\n",
    "2. Prepare the Data and Evaluate Features (15 points)\n",
    "3. Single Planet Action Classification  (35 points)\n",
    "4. Enabling Generalization (20 points)\n",
    "\n",
    "Apart from section 0, you will have to implement and answer questions for all of the other 4 sections to earn points. *For each of these 4 sections, we have various questions or implementation tasks that your submission should address. These are listed in the cells at the end of this notebook.*\n",
    "\n",
    "Note that there is not one best answer to these questions, and the task could be addressed in different ways. We want to know *your* motivation for *your* selected approach."
   ]
  },
  {
   "cell_type": "markdown",
   "id": "7bf01613",
   "metadata": {},
   "source": [
    "---\n",
    "\n",
    "# 0. Code to get you started\n",
    "\n",
    "Note, you will not have to implement anything in this section, but you are free to play around with what is provided here, or copy parts to new cells in your solutions."
   ]
  },
  {
   "cell_type": "code",
   "execution_count": 3,
   "id": "192dd7ba",
   "metadata": {},
   "outputs": [],
   "source": [
    "import pickle\n",
    "import numpy as np\n",
    "import matplotlib.pyplot as plt\n",
    "\n",
    "import cv2 # you are allowed to use functions from cv2\n",
    "import glob\n",
    "\n",
    "# import the simualtion environment\n",
    "import car_racing_ro47002 as cr"
   ]
  },
  {
   "cell_type": "markdown",
   "id": "d1127d2d",
   "metadata": {},
   "source": [
    "First, we explore the available planets. The code below generates an image from the 3 planets. You do not need to understand how this code works, but it should help you understand the context of what we are doing.\n",
    "Note that the images also include your robot car, and the road ahead."
   ]
  },
  {
   "cell_type": "code",
   "execution_count": 4,
   "id": "d2a595ae",
   "metadata": {},
   "outputs": [
    {
     "data": {
      "application/vnd.jupyter.widget-view+json": {
       "model_id": "c8687550926049c09d2040549b09b2e0",
       "version_major": 2,
       "version_minor": 0
      },
      "text/plain": [
       "interactive(children=(IntSlider(value=1, description='planet_id', max=2), Output()), _dom_classes=('widget-int…"
      ]
     },
     "metadata": {},
     "output_type": "display_data"
    }
   ],
   "source": [
    "import ipywidgets\n",
    "from IPython.display import display\n",
    "\n",
    "# Show screenshot of a sampled environment\n",
    "def plot_planet_example(planet_id):\n",
    "    planet = cr.PLANETS[planet_id]\n",
    "    env = cr.CarRacing(planet)\n",
    "    env.seed(10)\n",
    "    env.reset()\n",
    "    plt.imshow(env.render(mode='rgb_array'))\n",
    "    plt.title(f'Planet {planet_id}')\n",
    "    env.close()\n",
    "\n",
    "ipywidgets.interactive(plot_planet_example, planet_id=(0,2))"
   ]
  },
  {
   "cell_type": "markdown",
   "id": "7ed13a94",
   "metadata": {},
   "source": [
    "## Loading pre-recorded human demonstrations\n",
    "\n",
    "You are provided several pre-recorded demonstrations of a human *manually controlling* the robot car on several tracks on several planets.\n",
    "**You can use this data to train a classifier that you can use to implement one or more better policies, which should (ideally) perform similar to how a human would control the robot car.**\n",
    "\n",
    "Each provided demonstration ...\n",
    "* ... contains a sequence of 1000 (observation, action) pairs ...\n",
    "* ... recorded at a specic planet and track, ...\n",
    "* ... for convenience, also contains (1000 dimensional) arrays containing the fixed planet's and track's id of these input/output pair.\n",
    "\n",
    "A demonstration is stored as a python pickle file.\n",
    "The code below shows how to load the saved demonstrations, and to do some simple pre-processing."
   ]
  },
  {
   "cell_type": "code",
   "execution_count": 5,
   "id": "e11bb94b",
   "metadata": {
    "scrolled": true
   },
   "outputs": [
    {
     "name": "stdout",
     "output_type": "stream",
     "text": [
      "Found 14 demonstrations\n",
      "Loaded 1000 samples from demonstrations\\demo-0-0-20211012_155840.pickle ...\n",
      "Loaded 1000 samples from demonstrations\\demo-0-1-20211012_160607.pickle ...\n",
      "Loaded 1000 samples from demonstrations\\demo-0-2-20211012_161107.pickle ...\n",
      "Loaded 1000 samples from demonstrations\\demo-0-3-20211012_161203.pickle ...\n",
      "Loaded 1000 samples from demonstrations\\demo-0-4-20211012_161237.pickle ...\n",
      "Loaded 1000 samples from demonstrations\\demo-0-5-20211012_161457.pickle ...\n",
      "Loaded 1000 samples from demonstrations\\demo-0-6-20211012_161843.pickle ...\n",
      "Loaded 1000 samples from demonstrations\\demo-0-7-20211012_161923.pickle ...\n",
      "Loaded 1000 samples from demonstrations\\demo-0-8-20211012_162117.pickle ...\n",
      "Loaded 1000 samples from demonstrations\\demo-0-9-20211012_162157.pickle ...\n",
      "Loaded 1000 samples from demonstrations\\demo-1-10-20211012_170226.pickle ...\n",
      "Loaded 1000 samples from demonstrations\\demo-1-11-20211012_171117.pickle ...\n",
      "Loaded 1000 samples from demonstrations\\demo-2-12-20211012_171400.pickle ...\n",
      "Loaded 1000 samples from demonstrations\\demo-2-13-20211012_171617.pickle ...\n"
     ]
    }
   ],
   "source": [
    "# Look for all the demonstration pickle files in the demonstrations/ directory.\n",
    "#  The originally provided demo files are called: demo-[planet_id]-[track_id]-[datetime].pickle\n",
    "#  Any demo files you record yourself are called: demostud-[planet_id]-[track_id]-[datetime].pickle\n",
    "\n",
    "# CHANGE THIS IF NEEDED: select the pickle file pattern to match ...\n",
    "\n",
    "#DEMO_FILEPATTERN = 'demo-*-*.pickle'      # only use ORIGINALLY provided demo files\n",
    "#DEMO_FILEPATTERN = 'demostud-*-*.pickle'  # only use YOUR own collected demo files\n",
    "DEMO_FILEPATTERN = 'demo*-*.pickle'       # use ALL available demo files\n",
    "\n",
    "# find the relevant filenames\n",
    "filenames = glob.glob(f'demonstrations/{DEMO_FILEPATTERN}')\n",
    "filenames.sort() # ensure the order is well-defined\n",
    "print(f'Found {len(filenames)} demonstrations')\n",
    "\n",
    "# in a loop, load the found pickle files\n",
    "demonstrations = []\n",
    "for filename in filenames:\n",
    "    with open(filename, 'rb') as fd:\n",
    "        demonstration = pickle.load(fd)\n",
    "        \n",
    "        actions = demonstration['actions']\n",
    "        print(f'Loaded {actions.shape[0]} samples from {filename} ...')\n",
    "        \n",
    "        demonstrations.append(demonstration)"
   ]
  },
  {
   "cell_type": "code",
   "execution_count": 6,
   "id": "388fd5e8",
   "metadata": {},
   "outputs": [],
   "source": [
    "# we can combine all the observations, actions, planet and track ids\n",
    "observations = np.concatenate([d['observations'] for d in demonstrations])\n",
    "actions = np.concatenate([d['actions'] for d in demonstrations])\n",
    "planet_ids = np.concatenate([d['planets'] for d in demonstrations])\n",
    "track_ids = np.concatenate([d['tracks'] for d in demonstrations])\n",
    "\n",
    "# pre-processing: subsample and only keep every n-th sample for efficiency\n",
    "# this can speed up training\n",
    "ss = 10\n",
    "observations = observations[::ss]\n",
    "actions = actions[::ss]\n",
    "planet_ids = planet_ids[::ss]\n",
    "track_ids = track_ids[::ss]"
   ]
  },
  {
   "cell_type": "markdown",
   "id": "bb5c823a",
   "metadata": {},
   "source": [
    "## Understanding the data\n",
    "\n",
    "We here take a closer look at format of the demonstration data. The observations (input) are RGB images. The actions (target class labels) are integers."
   ]
  },
  {
   "cell_type": "code",
   "execution_count": 7,
   "id": "656bccb6",
   "metadata": {},
   "outputs": [
    {
     "name": "stdout",
     "output_type": "stream",
     "text": [
      "The data consists of 1400 (observation, action) pairs:\n",
      "- observations : a (1400, 96, 96, 3) numpy int8 array, i-th entry contains RGB image of sample i\n",
      "- actions      : a (1400,) numpy int array, i-th entry contains action (class) label of sample i\n",
      "- planet_ids   : a (1400,) numpy int array, i-th entry contains the planet_id of sample i\n",
      "- track_ids    : a (1400,) numpy int array, i-th entry contains the track_id of sample i\n"
     ]
    }
   ],
   "source": [
    "# count the total number of observations\n",
    "N = observations.shape[0]\n",
    "\n",
    "print(f'The data consists of {N} (observation, action) pairs:')\n",
    "print(f'- observations : a {observations.shape} numpy int8 array, i-th entry contains RGB image of sample i')\n",
    "print(f'- actions      : a {actions.shape} numpy int array, i-th entry contains action (class) label of sample i')\n",
    "print(f'- planet_ids   : a {planet_ids.shape} numpy int array, i-th entry contains the planet_id of sample i')\n",
    "print(f'- track_ids    : a {track_ids.shape} numpy int array, i-th entry contains the track_id of sample i')"
   ]
  },
  {
   "cell_type": "markdown",
   "id": "f121026e",
   "metadata": {},
   "source": [
    "We can inspect inspect a single sample in the recorded data:"
   ]
  },
  {
   "cell_type": "code",
   "execution_count": 8,
   "id": "db3a2b2e",
   "metadata": {
    "scrolled": false
   },
   "outputs": [
    {
     "name": "stdout",
     "output_type": "stream",
     "text": [
      "Action of sample 0:                     1\n",
      "Planet id where sample 0 was recorded:  0\n",
      "Track id where sample 0 was recorded:   0\n"
     ]
    },
    {
     "data": {
      "image/png": "[encoded data removed]",
      "text/plain": [
       "<Figure size 432x288 with 1 Axes>"
      ]
     },
     "metadata": {
      "needs_background": "light"
     },
     "output_type": "display_data"
    }
   ],
   "source": [
    "idx = 0 # sample index, should be in range [0, N-1]\n",
    "\n",
    "print(f'Action of sample {idx}:                    ', actions[idx])\n",
    "print(f'Planet id where sample {idx} was recorded: ', planet_ids[idx])\n",
    "print(f'Track id where sample {idx} was recorded:  ', track_ids[idx])\n",
    "\n",
    "plt.imshow(observations[idx])\n",
    "plt.title(f'Observation of sample {idx}');"
   ]
  },
  {
   "cell_type": "markdown",
   "id": "eff18b10",
   "metadata": {},
   "source": [
    "Note that the observation is just a low-resolution image of the simulated environment.\n",
    "\n",
    "An action (label) is simply an integer. The five possible action values are:"
   ]
  },
  {
   "cell_type": "code",
   "execution_count": 9,
   "id": "3021679b",
   "metadata": {},
   "outputs": [],
   "source": [
    "ACTION_NOOP = 0  # NO-OPeration, i.e. do not steer, accelerate or brake\n",
    "ACTION_ACCEL = 1 # Accelerate\n",
    "ACTION_LEFT = 2  # Steer left\n",
    "ACTION_RIGHT = 3 # Steer right\n",
    "ACTION_BRAKE = 4 # Brake, deaccelerate"
   ]
  },
  {
   "cell_type": "markdown",
   "id": "82908e5a",
   "metadata": {},
   "source": [
    "You can use the demonstration data to train and validate your machine learning methods.\n",
    "Of course, you would first need to define some feature extraction procedure(s) to convert the observations into some suitable feature vectors for your machine learning techniques."
   ]
  },
  {
   "cell_type": "markdown",
   "id": "a9eb2415",
   "metadata": {},
   "source": [
    "## Testing your model in  the simulator\n",
    "\n",
    "\n",
    "At some point, *after you have trained and evaluated your classifier*, you might want to check how well your classification method can actually control the robot car. For this, you will need to wrap your trained classifier into a policy function that the simulator can use.\n",
    "\n",
    "This section will go over the details of\n",
    "* how to start the simulator;\n",
    "* how to implement a policy $f$;\n",
    "* how to analyse the rewards.\n",
    "\n",
    "\n",
    "### Running a simulation\n",
    "\n",
    "The function `run_simulation` below will setup a simulation of your robot on a given planet (`planet_id`) and track (`track_id`), and will use the policy `f` you provide to control the robot, for a maximum of `iterations` simulation steps. The simulation function can also show you the simulation in a popup-window (set `render=True`), or record all the (observation, actions) pairs (`record_data=True`).\n",
    "\n",
    "The function signature of run_simulation is:\n",
    "```\n",
    "rewards = run_simulation(f, iterations=500, planet_id=0, track_id=0, verbose=False, render=False, record_data=False, delay=0.0)\n",
    "    Run robot car simulation\n",
    "    Input arguments:\n",
    "    - f             # [function] the robot's policy function\n",
    "    - record_data   # [True/False] if true, return all (observation, action) pairs from the simulation \n",
    "    - planet_id     # [int] select the target planet (0=Earth, 1=Mars, 2=Saturn, 3=Neptune)\n",
    "    - track_id      # [int] select the target track on that planet (0, 1, 2, etc.)\n",
    "    - iterations    # [int] the maximum number of iterations N to run the simulation\n",
    "    - render        # [True/False] show the scene in a popup window (can be a bit slower)\n",
    "    - delay         # [float] a time delay that can be added to make the simulation run a bit slower\n",
    "    \n",
    "    Returns:\n",
    "    - rewards       # [numpy array of floats] all N rewards accumulated during the simulation\n",
    "    - observations  # [numpy array N x H x W x 3] N observations, each observation being a WxH 3-channel image\n",
    "    - actions       # [numpy array of ints] all N actions outputted by the given policy f\n",
    "    \n",
    "    Note: `observations` and `actions` are only returned if record_data=True\n",
    "```\n"
   ]
  },
  {
   "cell_type": "code",
   "execution_count": 10,
   "id": "23f56f40",
   "metadata": {},
   "outputs": [],
   "source": [
    "# user key input handler\n",
    "from pyglet.window import key\n",
    "import time\n",
    "\n",
    "# keep track if which keys have been pressed in the popup window\n",
    "# (will be used later for the human driver)\n",
    "KEY_PRESSED = {key.LEFT: False, key.RIGHT: False, key.UP: False, key.DOWN: False}\n",
    "\n",
    "def key_press(k, mod):\n",
    "    global STOP_SIMULATION, KEY_PRESSED\n",
    "    if k==key.ESCAPE: STOP_SIMULATION = True # set 'quit' flag if ESCAPE key is pressed\n",
    "    KEY_PRESSED[k] = True\n",
    "\n",
    "def key_release(k, mod):\n",
    "    global KEY_PRESSED\n",
    "    KEY_PRESSED[k] = False\n",
    "\n",
    "# define the set of all actions    \n",
    "ACTIONS = [0, 1, 2, 3, 4]\n",
    "ACTION_NAMES = ['noop', 'accel', 'left', 'right', 'brake']\n",
    "NUM_ACTIONS = 5 # number of distinct actions\n",
    "\n",
    "# A lookup table to convert the action class to an actual control input for the simulator (steer, accel, brake)\n",
    "ACTIONS_TO_CONTROL_INPUT = np.array([\n",
    "    [ 0,  0,  0   ], # 0 = do nothing\n",
    "    [ 0,  1,  0   ], # 1 = accelerate\n",
    "    [-1,  0,  0   ], # 2 = steer left\n",
    "    [ 1,  0,  0   ], # 3 = steer right\n",
    "    [ 0,  0,  0.25], # 4 = brake\n",
    "])\n",
    "\n",
    "def run_simulation(f, iterations=500, planet_id=0, track_id=0, verbose=False, render=False, record_data=False, delay=0.0):\n",
    "    \"\"\" Run robot car simulation\n",
    "    Input arguments:\n",
    "    - f             # [function] the robot's policy function\n",
    "    - record_data   # [True/False] if true, return all (observation, action) pairs from the simulation\n",
    "    - planet_id     # [int] select the target planet (0=Earth, 1=Mars, 2=Saturn, 3=Neptune)\n",
    "    - track_id      # [int] select the target track on that planet (0, 1, 2, etc.)\n",
    "    - iterations    # [int] the maximum number of iterations N to run the simulation\n",
    "    - render        # [True/False] show the scene in a popup window (can be a bit slower)\n",
    "    - delay         # [float] a time delay that can be added to make the simulation run a bit slower\n",
    "    \n",
    "    Returns:\n",
    "    - rewards       # [numpy array of floats] all N rewards accumulated during the simulation\n",
    "    - observations  # [numpy array N x H x W x 3] N observations, each observation being a WxH 3-channel image\n",
    "    - actions       # [numpy array of ints] all N actions outputted by the given policy f\n",
    "    \n",
    "    Note: `observations` and `actions` are only returned if record_data=True\n",
    "    \"\"\"\n",
    "    \n",
    "    print(f'Starting simulation for {iterations} iterations.')\n",
    "    print('*** Press ESC key in popup window to stop the simulation! ***')\n",
    "    print()\n",
    "\n",
    "    # create a simulation environment on the given planet\n",
    "    planet = cr.PLANETS[planet_id]\n",
    "    env = cr.CarRacing(planet)\n",
    "    env.seed(track_id+planet_id*1455312) # set environment track generation seed based on planet_id and track_id\n",
    "\n",
    "    rewards = [] # will store the accumulated rewards\n",
    "    observations = [] # will store the accumulated observations (only if record_data==True)\n",
    "    actions = [] # will store the accumulated actions outputted by policy f (only if record_data==True)\n",
    "    \n",
    "    # reset KEY_PRESSED state at start of simulation\n",
    "    global KEY_PRESSED\n",
    "    KEY_PRESSED = {key.LEFT: False, key.RIGHT: False, key.UP: False, key.DOWN: False}\n",
    "    \n",
    "    # the STOP_SIMULATION flag will be set to True if user wants to interrupt the simulation\n",
    "    global STOP_SIMULATION\n",
    "    STOP_SIMULATION = False\n",
    "    completed_iterations = 0\n",
    "    \n",
    "    try:\n",
    "        # reset the simulation, and get the initial observation (robot \"sensor measurement\")\n",
    "        observation = env.reset()\n",
    "        \n",
    "        # ensure we can listen to user input in the popup window (e.g. to quit when pressing ESCAPE)\n",
    "        env.viewer.window.on_key_press = key_press\n",
    "        env.viewer.window.on_key_release = key_release\n",
    "        \n",
    "        # main simulation loop\n",
    "        for itr in range(iterations):\n",
    "            time.sleep(delay)\n",
    "            if STOP_SIMULATION: break\n",
    "                \n",
    "            # ** APPLYING YOUR POLICY **\n",
    "            # execute the given policy on the observation to determine the robot's action\n",
    "            action = f(observation)\n",
    "            \n",
    "            # sanity check: is the policy implemented correctly?\n",
    "            assert (isinstance(action, (int, np.integer))) # returned action should be a builtin or numpy integer\n",
    "            assert (action in ACTIONS) # action should be an integer 0, 1, 2, 3 or 4\n",
    "\n",
    "            # hard coded that for the first few iterations, the robot will always accelerate,\n",
    "            #   to avoid a poor policy from not moving the robot at all\n",
    "            if itr < 4: action = 1 # action 1 is accelerate\n",
    "            \n",
    "            if verbose:\n",
    "                print(f'iteration {itr}: action = {ACTION_NAMES[action]}')\n",
    "\n",
    "            if record_data:\n",
    "                # only store all the observation and action pairs during the simulation\n",
    "                #   if the record_data argument is set to True\n",
    "                observations.append(observation)\n",
    "                actions.append(action)\n",
    "            \n",
    "            # ** EXECUTE ACTION ON ROBOT & GET OBSERVATION FOR NEXT TIME STEP **\n",
    "            ctrl_input = ACTIONS_TO_CONTROL_INPUT[action] \n",
    "\n",
    "            # execute simulation step with the given control input\n",
    "            observation, reward, environment_done, info = env.step(ctrl_input)\n",
    "            completed_iterations += 1\n",
    "            \n",
    "            if verbose:\n",
    "                print(f'iteration {itr}: reward = {reward}')\n",
    "\n",
    "            if render:\n",
    "                # update pop-window visualization\n",
    "                env.render()\n",
    "\n",
    "            # collect all rewards in a list\n",
    "            rewards.append(reward)\n",
    "    finally:\n",
    "        # make sure we always close the pop-up window,\n",
    "        # even if some exception is thrown during the main loop\n",
    "        env.close()\n",
    "        \n",
    "    rewards = np.array(rewards)\n",
    "    total_reward = np.sum(rewards)\n",
    "    \n",
    "    print(f'total reward after {completed_iterations} iterations: {total_reward}')\n",
    "    print(f'average reward: {total_reward/completed_iterations}')\n",
    "    \n",
    "    if record_data:\n",
    "        return rewards, np.array(observations), np.array(actions, dtype=int)\n",
    "        \n",
    "    # by default, only return the rewards\n",
    "\n",
    "    return rewards"
   ]
  },
  {
   "cell_type": "markdown",
   "id": "239132f0",
   "metadata": {},
   "source": [
    "### Implementing a policy\n",
    "\n",
    "For the simulator, a policy $f(observation) \\rightarrow action$ should be implemented as a plain python function which takes a numpy array as input (the observation) and returns an integer (the action).\n",
    "So generally, a policy implementation would look like this:\n",
    "\n",
    "```python\n",
    "\n",
    "def f(observation):    \n",
    "    # Input: observation, a H x W x 3 numpy array containing an RGB image of the surroundings\n",
    "    # Output: action,     an integer representing the action (0 = NOOP, ... 5 = Brake)\n",
    "    # N.B.: actions is just an int, NOT a numpy array\n",
    "    \n",
    "    # YOUR CODE\n",
    "    #   convert observation to feature vector\n",
    "    #   predict action class given the feature vector using some ML technique\n",
    "    \n",
    "    return action\n",
    "```\n",
    "*Of course, don't name you policy just `f`, but give it some more descriptive name!*\n",
    "\n",
    "To illustrate, here is a dummy policy which just picks a random actions (without actually looking at the observation)."
   ]
  },
  {
   "cell_type": "code",
   "execution_count": 11,
   "id": "91446514",
   "metadata": {},
   "outputs": [],
   "source": [
    "# a dummy policy\n",
    "def f_dummy(observation):\n",
    "    \"\"\" Dummy policy function, which just returns random action. \"\"\"\n",
    "    \n",
    "    # in this dummy policy, we ignore the observation and just select a random action\n",
    "    action = np.random.randint(0, NUM_ACTIONS)\n",
    "    \n",
    "    print(f'Received observation: {observation.shape} numpy array of type {observation.dtype}, returning action {action}')\n",
    "    return action"
   ]
  },
  {
   "cell_type": "markdown",
   "id": "4667f5a1",
   "metadata": {},
   "source": [
    "We can confirm that the policy returns a valid action label:"
   ]
  },
  {
   "cell_type": "code",
   "execution_count": 12,
   "id": "ad47b72f",
   "metadata": {},
   "outputs": [
    {
     "name": "stdout",
     "output_type": "stream",
     "text": [
      "Received observation: (96, 96, 3) numpy array of type uint8, returning action 2\n"
     ]
    }
   ],
   "source": [
    "action = f_dummy(observations[0])\n",
    "\n",
    "# returned action should be a builtin int or a numpy integer (NOT a numpy array) in the range [0, 4]\n",
    "assert (isinstance(action, (int, np.integer)))\n",
    "assert (action in ACTIONS) # ACTIONS is the set of possible action labels, [0,1,2,3,4]"
   ]
  },
  {
   "cell_type": "markdown",
   "id": "92ab36b3",
   "metadata": {},
   "source": [
    "### Reward\n",
    "\n",
    "To quantify how well a policy is working, the simulator will return the *rewards* that the robot car collected at each simulation step. The rewards determine how well you are doing in a race, and are based on the number of  segments of the track that the robot racer passes:\n",
    "\n",
    "* Everytime a new segments of the track is touched by your robot car, your robot receives a positive reward. You can see this in the visualization when a road segments's color changes to a lighter gray.\n",
    "* The robot car also get a tiny *negative* reward in each time step, as a penalty for spending time.\n",
    "* When the robot car goes off the track, it will not touch any new track segments and thus only collects negative rewards, but also the friction changes which makes the robot car more difficult to control.\n",
    "\n",
    "Overall, the goal is to cover as much of the race track as possible in the given number of simulation iterations. So, your robot car should go as fast as possible while staying on the track!"
   ]
  },
  {
   "cell_type": "markdown",
   "id": "f908609e",
   "metadata": {},
   "source": [
    "### Illustration of running the simulator with the dummy policy\n",
    "\n",
    "Let's try to run the simulation with the dummy policy, and render the output in the popup-window for the default number of iterations."
   ]
  },
  {
   "cell_type": "code",
   "execution_count": 13,
   "id": "20d825fb",
   "metadata": {
    "scrolled": true
   },
   "outputs": [
    {
     "name": "stdout",
     "output_type": "stream",
     "text": [
      "Starting simulation for 500 iterations.\n",
      "*** Press ESC key in popup window to stop the simulation! ***\n",
      "\n",
      "Track generation: 1383..1731 -> 348-tiles track\n",
      "Received observation: (96, 96, 3) numpy array of type uint8, returning action 1\n",
      "Received observation: (96, 96, 3) numpy array of type uint8, returning action 2\n",
      "Received observation: (96, 96, 3) numpy array of type uint8, returning action 4\n",
      "Received observation: (96, 96, 3) numpy array of type uint8, returning action 0\n",
      "Received observation: (96, 96, 3) numpy array of type uint8, returning action 0\n",
      "Received observation: (96, 96, 3) numpy array of type uint8, returning action 4\n",
      "Received observation: (96, 96, 3) numpy array of type uint8, returning action 1\n",
      "Received observation: (96, 96, 3) numpy array of type uint8, returning action 1\n",
      "Received observation: (96, 96, 3) numpy array of type uint8, returning action 3\n",
      "Received observation: (96, 96, 3) numpy array of type uint8, returning action 1\n",
      "Received observation: (96, 96, 3) numpy array of type uint8, returning action 0\n",
      "Received observation: (96, 96, 3) numpy array of type uint8, returning action 4\n",
      "Received observation: (96, 96, 3) numpy array of type uint8, returning action 0\n",
      "Received observation: (96, 96, 3) numpy array of type uint8, returning action 0\n",
      "Received observation: (96, 96, 3) numpy array of type uint8, returning action 3\n",
      "Received observation: (96, 96, 3) numpy array of type uint8, returning action 1\n",
      "Received observation: (96, 96, 3) numpy array of type uint8, returning action 0\n",
      "Received observation: (96, 96, 3) numpy array of type uint8, returning action 3\n",
      "Received observation: (96, 96, 3) numpy array of type uint8, returning action 2\n",
      "Received observation: (96, 96, 3) numpy array of type uint8, returning action 4\n",
      "Received observation: (96, 96, 3) numpy array of type uint8, returning action 2\n",
      "Received observation: (96, 96, 3) numpy array of type uint8, returning action 3\n",
      "Received observation: (96, 96, 3) numpy array of type uint8, returning action 4\n",
      "Received observation: (96, 96, 3) numpy array of type uint8, returning action 4\n",
      "Received observation: (96, 96, 3) numpy array of type uint8, returning action 1\n",
      "Received observation: (96, 96, 3) numpy array of type uint8, returning action 4\n",
      "Received observation: (96, 96, 3) numpy array of type uint8, returning action 3\n",
      "Received observation: (96, 96, 3) numpy array of type uint8, returning action 2\n",
      "Received observation: (96, 96, 3) numpy array of type uint8, returning action 3\n",
      "Received observation: (96, 96, 3) numpy array of type uint8, returning action 1\n",
      "Received observation: (96, 96, 3) numpy array of type uint8, returning action 4\n",
      "Received observation: (96, 96, 3) numpy array of type uint8, returning action 4\n",
      "Received observation: (96, 96, 3) numpy array of type uint8, returning action 4\n",
      "Received observation: (96, 96, 3) numpy array of type uint8, returning action 4\n",
      "Received observation: (96, 96, 3) numpy array of type uint8, returning action 4\n",
      "Received observation: (96, 96, 3) numpy array of type uint8, returning action 0\n",
      "Received observation: (96, 96, 3) numpy array of type uint8, returning action 0\n",
      "Received observation: (96, 96, 3) numpy array of type uint8, returning action 3\n",
      "Received observation: (96, 96, 3) numpy array of type uint8, returning action 0\n",
      "Received observation: (96, 96, 3) numpy array of type uint8, returning action 2\n",
      "Received observation: (96, 96, 3) numpy array of type uint8, returning action 3\n",
      "Received observation: (96, 96, 3) numpy array of type uint8, returning action 2\n",
      "Received observation: (96, 96, 3) numpy array of type uint8, returning action 4\n",
      "Received observation: (96, 96, 3) numpy array of type uint8, returning action 4\n",
      "Received observation: (96, 96, 3) numpy array of type uint8, returning action 4\n",
      "Received observation: (96, 96, 3) numpy array of type uint8, returning action 0\n",
      "Received observation: (96, 96, 3) numpy array of type uint8, returning action 3\n",
      "Received observation: (96, 96, 3) numpy array of type uint8, returning action 4\n",
      "Received observation: (96, 96, 3) numpy array of type uint8, returning action 3\n",
      "Received observation: (96, 96, 3) numpy array of type uint8, returning action 2\n",
      "Received observation: (96, 96, 3) numpy array of type uint8, returning action 3\n",
      "Received observation: (96, 96, 3) numpy array of type uint8, returning action 3\n",
      "Received observation: (96, 96, 3) numpy array of type uint8, returning action 3\n",
      "Received observation: (96, 96, 3) numpy array of type uint8, returning action 0\n",
      "Received observation: (96, 96, 3) numpy array of type uint8, returning action 0\n",
      "Received observation: (96, 96, 3) numpy array of type uint8, returning action 1\n",
      "Received observation: (96, 96, 3) numpy array of type uint8, returning action 2\n",
      "Received observation: (96, 96, 3) numpy array of type uint8, returning action 1\n",
      "Received observation: (96, 96, 3) numpy array of type uint8, returning action 1\n",
      "Received observation: (96, 96, 3) numpy array of type uint8, returning action 3\n",
      "Received observation: (96, 96, 3) numpy array of type uint8, returning action 3\n",
      "Received observation: (96, 96, 3) numpy array of type uint8, returning action 0\n",
      "Received observation: (96, 96, 3) numpy array of type uint8, returning action 2\n",
      "Received observation: (96, 96, 3) numpy array of type uint8, returning action 1\n",
      "Received observation: (96, 96, 3) numpy array of type uint8, returning action 2\n",
      "Received observation: (96, 96, 3) numpy array of type uint8, returning action 0\n",
      "Received observation: (96, 96, 3) numpy array of type uint8, returning action 4\n",
      "Received observation: (96, 96, 3) numpy array of type uint8, returning action 1\n",
      "Received observation: (96, 96, 3) numpy array of type uint8, returning action 4\n",
      "Received observation: (96, 96, 3) numpy array of type uint8, returning action 2\n",
      "Received observation: (96, 96, 3) numpy array of type uint8, returning action 3\n",
      "Received observation: (96, 96, 3) numpy array of type uint8, returning action 4\n",
      "Received observation: (96, 96, 3) numpy array of type uint8, returning action 1\n",
      "Received observation: (96, 96, 3) numpy array of type uint8, returning action 0\n",
      "Received observation: (96, 96, 3) numpy array of type uint8, returning action 4\n",
      "Received observation: (96, 96, 3) numpy array of type uint8, returning action 3\n",
      "Received observation: (96, 96, 3) numpy array of type uint8, returning action 2\n",
      "Received observation: (96, 96, 3) numpy array of type uint8, returning action 3\n",
      "Received observation: (96, 96, 3) numpy array of type uint8, returning action 4\n",
      "Received observation: (96, 96, 3) numpy array of type uint8, returning action 1\n",
      "Received observation: (96, 96, 3) numpy array of type uint8, returning action 4\n",
      "Received observation: (96, 96, 3) numpy array of type uint8, returning action 1\n",
      "Received observation: (96, 96, 3) numpy array of type uint8, returning action 0\n",
      "Received observation: (96, 96, 3) numpy array of type uint8, returning action 1\n",
      "Received observation: (96, 96, 3) numpy array of type uint8, returning action 3\n",
      "Received observation: (96, 96, 3) numpy array of type uint8, returning action 1\n",
      "Received observation: (96, 96, 3) numpy array of type uint8, returning action 3\n",
      "Received observation: (96, 96, 3) numpy array of type uint8, returning action 3\n",
      "Received observation: (96, 96, 3) numpy array of type uint8, returning action 1\n",
      "Received observation: (96, 96, 3) numpy array of type uint8, returning action 0\n",
      "Received observation: (96, 96, 3) numpy array of type uint8, returning action 4\n",
      "Received observation: (96, 96, 3) numpy array of type uint8, returning action 1\n",
      "Received observation: (96, 96, 3) numpy array of type uint8, returning action 3\n",
      "Received observation: (96, 96, 3) numpy array of type uint8, returning action 1\n",
      "Received observation: (96, 96, 3) numpy array of type uint8, returning action 4\n",
      "Received observation: (96, 96, 3) numpy array of type uint8, returning action 2\n",
      "Received observation: (96, 96, 3) numpy array of type uint8, returning action 3\n",
      "Received observation: (96, 96, 3) numpy array of type uint8, returning action 1\n",
      "Received observation: (96, 96, 3) numpy array of type uint8, returning action 0\n",
      "Received observation: (96, 96, 3) numpy array of type uint8, returning action 0\n",
      "Received observation: (96, 96, 3) numpy array of type uint8, returning action 2\n"
     ]
    },
    {
     "name": "stdout",
     "output_type": "stream",
     "text": [
      "Received observation: (96, 96, 3) numpy array of type uint8, returning action 3\n",
      "Received observation: (96, 96, 3) numpy array of type uint8, returning action 1\n",
      "Received observation: (96, 96, 3) numpy array of type uint8, returning action 3\n",
      "Received observation: (96, 96, 3) numpy array of type uint8, returning action 3\n",
      "Received observation: (96, 96, 3) numpy array of type uint8, returning action 1\n",
      "Received observation: (96, 96, 3) numpy array of type uint8, returning action 2\n",
      "Received observation: (96, 96, 3) numpy array of type uint8, returning action 1\n",
      "Received observation: (96, 96, 3) numpy array of type uint8, returning action 3\n",
      "Received observation: (96, 96, 3) numpy array of type uint8, returning action 0\n",
      "Received observation: (96, 96, 3) numpy array of type uint8, returning action 0\n",
      "Received observation: (96, 96, 3) numpy array of type uint8, returning action 2\n",
      "Received observation: (96, 96, 3) numpy array of type uint8, returning action 4\n",
      "Received observation: (96, 96, 3) numpy array of type uint8, returning action 1\n",
      "Received observation: (96, 96, 3) numpy array of type uint8, returning action 4\n",
      "Received observation: (96, 96, 3) numpy array of type uint8, returning action 4\n",
      "Received observation: (96, 96, 3) numpy array of type uint8, returning action 4\n",
      "Received observation: (96, 96, 3) numpy array of type uint8, returning action 3\n",
      "Received observation: (96, 96, 3) numpy array of type uint8, returning action 0\n",
      "Received observation: (96, 96, 3) numpy array of type uint8, returning action 3\n",
      "Received observation: (96, 96, 3) numpy array of type uint8, returning action 3\n",
      "Received observation: (96, 96, 3) numpy array of type uint8, returning action 4\n",
      "Received observation: (96, 96, 3) numpy array of type uint8, returning action 2\n",
      "Received observation: (96, 96, 3) numpy array of type uint8, returning action 2\n",
      "Received observation: (96, 96, 3) numpy array of type uint8, returning action 1\n",
      "Received observation: (96, 96, 3) numpy array of type uint8, returning action 3\n",
      "Received observation: (96, 96, 3) numpy array of type uint8, returning action 1\n",
      "Received observation: (96, 96, 3) numpy array of type uint8, returning action 4\n",
      "Received observation: (96, 96, 3) numpy array of type uint8, returning action 1\n",
      "Received observation: (96, 96, 3) numpy array of type uint8, returning action 2\n",
      "Received observation: (96, 96, 3) numpy array of type uint8, returning action 4\n",
      "Received observation: (96, 96, 3) numpy array of type uint8, returning action 3\n",
      "Received observation: (96, 96, 3) numpy array of type uint8, returning action 3\n",
      "Received observation: (96, 96, 3) numpy array of type uint8, returning action 2\n",
      "Received observation: (96, 96, 3) numpy array of type uint8, returning action 0\n",
      "Received observation: (96, 96, 3) numpy array of type uint8, returning action 3\n",
      "Received observation: (96, 96, 3) numpy array of type uint8, returning action 2\n",
      "Received observation: (96, 96, 3) numpy array of type uint8, returning action 4\n",
      "Received observation: (96, 96, 3) numpy array of type uint8, returning action 4\n",
      "Received observation: (96, 96, 3) numpy array of type uint8, returning action 0\n",
      "Received observation: (96, 96, 3) numpy array of type uint8, returning action 4\n",
      "Received observation: (96, 96, 3) numpy array of type uint8, returning action 4\n",
      "Received observation: (96, 96, 3) numpy array of type uint8, returning action 2\n",
      "Received observation: (96, 96, 3) numpy array of type uint8, returning action 0\n",
      "Received observation: (96, 96, 3) numpy array of type uint8, returning action 0\n",
      "Received observation: (96, 96, 3) numpy array of type uint8, returning action 3\n",
      "Received observation: (96, 96, 3) numpy array of type uint8, returning action 3\n",
      "Received observation: (96, 96, 3) numpy array of type uint8, returning action 4\n",
      "Received observation: (96, 96, 3) numpy array of type uint8, returning action 2\n",
      "Received observation: (96, 96, 3) numpy array of type uint8, returning action 0\n",
      "Received observation: (96, 96, 3) numpy array of type uint8, returning action 0\n",
      "Received observation: (96, 96, 3) numpy array of type uint8, returning action 3\n",
      "Received observation: (96, 96, 3) numpy array of type uint8, returning action 2\n",
      "Received observation: (96, 96, 3) numpy array of type uint8, returning action 2\n",
      "Received observation: (96, 96, 3) numpy array of type uint8, returning action 2\n",
      "Received observation: (96, 96, 3) numpy array of type uint8, returning action 2\n",
      "Received observation: (96, 96, 3) numpy array of type uint8, returning action 3\n",
      "Received observation: (96, 96, 3) numpy array of type uint8, returning action 1\n",
      "Received observation: (96, 96, 3) numpy array of type uint8, returning action 3\n",
      "Received observation: (96, 96, 3) numpy array of type uint8, returning action 1\n",
      "Received observation: (96, 96, 3) numpy array of type uint8, returning action 0\n",
      "Received observation: (96, 96, 3) numpy array of type uint8, returning action 1\n",
      "Received observation: (96, 96, 3) numpy array of type uint8, returning action 1\n",
      "Received observation: (96, 96, 3) numpy array of type uint8, returning action 1\n",
      "Received observation: (96, 96, 3) numpy array of type uint8, returning action 3\n",
      "Received observation: (96, 96, 3) numpy array of type uint8, returning action 2\n",
      "Received observation: (96, 96, 3) numpy array of type uint8, returning action 1\n",
      "Received observation: (96, 96, 3) numpy array of type uint8, returning action 4\n",
      "Received observation: (96, 96, 3) numpy array of type uint8, returning action 0\n",
      "Received observation: (96, 96, 3) numpy array of type uint8, returning action 0\n",
      "Received observation: (96, 96, 3) numpy array of type uint8, returning action 3\n",
      "Received observation: (96, 96, 3) numpy array of type uint8, returning action 1\n",
      "Received observation: (96, 96, 3) numpy array of type uint8, returning action 0\n",
      "Received observation: (96, 96, 3) numpy array of type uint8, returning action 4\n",
      "Received observation: (96, 96, 3) numpy array of type uint8, returning action 0\n",
      "Received observation: (96, 96, 3) numpy array of type uint8, returning action 3\n",
      "Received observation: (96, 96, 3) numpy array of type uint8, returning action 1\n",
      "Received observation: (96, 96, 3) numpy array of type uint8, returning action 4\n",
      "Received observation: (96, 96, 3) numpy array of type uint8, returning action 0\n",
      "Received observation: (96, 96, 3) numpy array of type uint8, returning action 1\n",
      "Received observation: (96, 96, 3) numpy array of type uint8, returning action 4\n",
      "Received observation: (96, 96, 3) numpy array of type uint8, returning action 2\n",
      "Received observation: (96, 96, 3) numpy array of type uint8, returning action 4\n",
      "Received observation: (96, 96, 3) numpy array of type uint8, returning action 3\n",
      "Received observation: (96, 96, 3) numpy array of type uint8, returning action 4\n",
      "Received observation: (96, 96, 3) numpy array of type uint8, returning action 0\n",
      "Received observation: (96, 96, 3) numpy array of type uint8, returning action 1\n",
      "Received observation: (96, 96, 3) numpy array of type uint8, returning action 3\n",
      "Received observation: (96, 96, 3) numpy array of type uint8, returning action 4\n",
      "Received observation: (96, 96, 3) numpy array of type uint8, returning action 3\n",
      "Received observation: (96, 96, 3) numpy array of type uint8, returning action 1\n",
      "Received observation: (96, 96, 3) numpy array of type uint8, returning action 3\n",
      "Received observation: (96, 96, 3) numpy array of type uint8, returning action 4\n",
      "Received observation: (96, 96, 3) numpy array of type uint8, returning action 2\n",
      "Received observation: (96, 96, 3) numpy array of type uint8, returning action 4\n",
      "Received observation: (96, 96, 3) numpy array of type uint8, returning action 0\n",
      "Received observation: (96, 96, 3) numpy array of type uint8, returning action 2\n",
      "Received observation: (96, 96, 3) numpy array of type uint8, returning action 2\n",
      "Received observation: (96, 96, 3) numpy array of type uint8, returning action 0\n",
      "Received observation: (96, 96, 3) numpy array of type uint8, returning action 2\n",
      "Received observation: (96, 96, 3) numpy array of type uint8, returning action 2\n",
      "Received observation: (96, 96, 3) numpy array of type uint8, returning action 3\n",
      "Received observation: (96, 96, 3) numpy array of type uint8, returning action 3\n",
      "Received observation: (96, 96, 3) numpy array of type uint8, returning action 3\n",
      "Received observation: (96, 96, 3) numpy array of type uint8, returning action 3\n",
      "Received observation: (96, 96, 3) numpy array of type uint8, returning action 1\n"
     ]
    },
    {
     "name": "stdout",
     "output_type": "stream",
     "text": [
      "Received observation: (96, 96, 3) numpy array of type uint8, returning action 3\n",
      "Received observation: (96, 96, 3) numpy array of type uint8, returning action 4\n",
      "Received observation: (96, 96, 3) numpy array of type uint8, returning action 0\n",
      "Received observation: (96, 96, 3) numpy array of type uint8, returning action 3\n",
      "Received observation: (96, 96, 3) numpy array of type uint8, returning action 2\n",
      "Received observation: (96, 96, 3) numpy array of type uint8, returning action 0\n",
      "Received observation: (96, 96, 3) numpy array of type uint8, returning action 0\n",
      "Received observation: (96, 96, 3) numpy array of type uint8, returning action 0\n",
      "Received observation: (96, 96, 3) numpy array of type uint8, returning action 3\n",
      "Received observation: (96, 96, 3) numpy array of type uint8, returning action 1\n",
      "Received observation: (96, 96, 3) numpy array of type uint8, returning action 3\n",
      "Received observation: (96, 96, 3) numpy array of type uint8, returning action 0\n",
      "Received observation: (96, 96, 3) numpy array of type uint8, returning action 1\n",
      "Received observation: (96, 96, 3) numpy array of type uint8, returning action 4\n",
      "Received observation: (96, 96, 3) numpy array of type uint8, returning action 4\n",
      "Received observation: (96, 96, 3) numpy array of type uint8, returning action 3\n",
      "Received observation: (96, 96, 3) numpy array of type uint8, returning action 0\n",
      "Received observation: (96, 96, 3) numpy array of type uint8, returning action 3\n",
      "Received observation: (96, 96, 3) numpy array of type uint8, returning action 3\n",
      "Received observation: (96, 96, 3) numpy array of type uint8, returning action 2\n",
      "Received observation: (96, 96, 3) numpy array of type uint8, returning action 1\n",
      "Received observation: (96, 96, 3) numpy array of type uint8, returning action 4\n",
      "Received observation: (96, 96, 3) numpy array of type uint8, returning action 1\n",
      "Received observation: (96, 96, 3) numpy array of type uint8, returning action 1\n",
      "Received observation: (96, 96, 3) numpy array of type uint8, returning action 3\n",
      "Received observation: (96, 96, 3) numpy array of type uint8, returning action 2\n",
      "Received observation: (96, 96, 3) numpy array of type uint8, returning action 3\n",
      "Received observation: (96, 96, 3) numpy array of type uint8, returning action 2\n",
      "Received observation: (96, 96, 3) numpy array of type uint8, returning action 1\n",
      "Received observation: (96, 96, 3) numpy array of type uint8, returning action 4\n",
      "Received observation: (96, 96, 3) numpy array of type uint8, returning action 2\n",
      "Received observation: (96, 96, 3) numpy array of type uint8, returning action 4\n",
      "Received observation: (96, 96, 3) numpy array of type uint8, returning action 1\n",
      "Received observation: (96, 96, 3) numpy array of type uint8, returning action 3\n",
      "Received observation: (96, 96, 3) numpy array of type uint8, returning action 0\n",
      "Received observation: (96, 96, 3) numpy array of type uint8, returning action 1\n",
      "Received observation: (96, 96, 3) numpy array of type uint8, returning action 0\n",
      "Received observation: (96, 96, 3) numpy array of type uint8, returning action 1\n",
      "Received observation: (96, 96, 3) numpy array of type uint8, returning action 0\n",
      "Received observation: (96, 96, 3) numpy array of type uint8, returning action 3\n",
      "Received observation: (96, 96, 3) numpy array of type uint8, returning action 3\n",
      "Received observation: (96, 96, 3) numpy array of type uint8, returning action 0\n",
      "Received observation: (96, 96, 3) numpy array of type uint8, returning action 1\n",
      "Received observation: (96, 96, 3) numpy array of type uint8, returning action 1\n",
      "Received observation: (96, 96, 3) numpy array of type uint8, returning action 2\n",
      "Received observation: (96, 96, 3) numpy array of type uint8, returning action 4\n",
      "Received observation: (96, 96, 3) numpy array of type uint8, returning action 0\n",
      "Received observation: (96, 96, 3) numpy array of type uint8, returning action 4\n",
      "Received observation: (96, 96, 3) numpy array of type uint8, returning action 4\n",
      "Received observation: (96, 96, 3) numpy array of type uint8, returning action 3\n",
      "Received observation: (96, 96, 3) numpy array of type uint8, returning action 0\n",
      "Received observation: (96, 96, 3) numpy array of type uint8, returning action 2\n",
      "Received observation: (96, 96, 3) numpy array of type uint8, returning action 2\n",
      "Received observation: (96, 96, 3) numpy array of type uint8, returning action 4\n",
      "Received observation: (96, 96, 3) numpy array of type uint8, returning action 2\n",
      "Received observation: (96, 96, 3) numpy array of type uint8, returning action 3\n",
      "Received observation: (96, 96, 3) numpy array of type uint8, returning action 3\n",
      "Received observation: (96, 96, 3) numpy array of type uint8, returning action 0\n",
      "Received observation: (96, 96, 3) numpy array of type uint8, returning action 0\n",
      "Received observation: (96, 96, 3) numpy array of type uint8, returning action 4\n",
      "Received observation: (96, 96, 3) numpy array of type uint8, returning action 1\n",
      "Received observation: (96, 96, 3) numpy array of type uint8, returning action 1\n",
      "Received observation: (96, 96, 3) numpy array of type uint8, returning action 1\n",
      "Received observation: (96, 96, 3) numpy array of type uint8, returning action 0\n",
      "Received observation: (96, 96, 3) numpy array of type uint8, returning action 1\n",
      "Received observation: (96, 96, 3) numpy array of type uint8, returning action 4\n",
      "Received observation: (96, 96, 3) numpy array of type uint8, returning action 2\n",
      "Received observation: (96, 96, 3) numpy array of type uint8, returning action 2\n",
      "Received observation: (96, 96, 3) numpy array of type uint8, returning action 3\n",
      "Received observation: (96, 96, 3) numpy array of type uint8, returning action 3\n",
      "Received observation: (96, 96, 3) numpy array of type uint8, returning action 0\n",
      "Received observation: (96, 96, 3) numpy array of type uint8, returning action 4\n",
      "Received observation: (96, 96, 3) numpy array of type uint8, returning action 2\n",
      "Received observation: (96, 96, 3) numpy array of type uint8, returning action 3\n",
      "Received observation: (96, 96, 3) numpy array of type uint8, returning action 2\n",
      "Received observation: (96, 96, 3) numpy array of type uint8, returning action 1\n",
      "Received observation: (96, 96, 3) numpy array of type uint8, returning action 2\n",
      "Received observation: (96, 96, 3) numpy array of type uint8, returning action 1\n",
      "Received observation: (96, 96, 3) numpy array of type uint8, returning action 1\n",
      "Received observation: (96, 96, 3) numpy array of type uint8, returning action 0\n",
      "Received observation: (96, 96, 3) numpy array of type uint8, returning action 0\n",
      "Received observation: (96, 96, 3) numpy array of type uint8, returning action 0\n",
      "Received observation: (96, 96, 3) numpy array of type uint8, returning action 3\n",
      "Received observation: (96, 96, 3) numpy array of type uint8, returning action 4\n",
      "Received observation: (96, 96, 3) numpy array of type uint8, returning action 2\n",
      "Received observation: (96, 96, 3) numpy array of type uint8, returning action 3\n",
      "Received observation: (96, 96, 3) numpy array of type uint8, returning action 2\n",
      "Received observation: (96, 96, 3) numpy array of type uint8, returning action 2\n",
      "Received observation: (96, 96, 3) numpy array of type uint8, returning action 3\n",
      "Received observation: (96, 96, 3) numpy array of type uint8, returning action 4\n",
      "Received observation: (96, 96, 3) numpy array of type uint8, returning action 3\n",
      "Received observation: (96, 96, 3) numpy array of type uint8, returning action 0\n",
      "Received observation: (96, 96, 3) numpy array of type uint8, returning action 0\n",
      "Received observation: (96, 96, 3) numpy array of type uint8, returning action 4\n",
      "Received observation: (96, 96, 3) numpy array of type uint8, returning action 0\n",
      "Received observation: (96, 96, 3) numpy array of type uint8, returning action 1\n",
      "Received observation: (96, 96, 3) numpy array of type uint8, returning action 3\n",
      "Received observation: (96, 96, 3) numpy array of type uint8, returning action 4\n",
      "Received observation: (96, 96, 3) numpy array of type uint8, returning action 2\n",
      "Received observation: (96, 96, 3) numpy array of type uint8, returning action 1\n",
      "Received observation: (96, 96, 3) numpy array of type uint8, returning action 3\n",
      "Received observation: (96, 96, 3) numpy array of type uint8, returning action 0\n",
      "Received observation: (96, 96, 3) numpy array of type uint8, returning action 0\n",
      "Received observation: (96, 96, 3) numpy array of type uint8, returning action 0\n"
     ]
    },
    {
     "name": "stdout",
     "output_type": "stream",
     "text": [
      "Received observation: (96, 96, 3) numpy array of type uint8, returning action 1\n",
      "Received observation: (96, 96, 3) numpy array of type uint8, returning action 1\n",
      "Received observation: (96, 96, 3) numpy array of type uint8, returning action 2\n",
      "Received observation: (96, 96, 3) numpy array of type uint8, returning action 1\n",
      "Received observation: (96, 96, 3) numpy array of type uint8, returning action 0\n",
      "Received observation: (96, 96, 3) numpy array of type uint8, returning action 4\n",
      "Received observation: (96, 96, 3) numpy array of type uint8, returning action 0\n",
      "Received observation: (96, 96, 3) numpy array of type uint8, returning action 0\n",
      "Received observation: (96, 96, 3) numpy array of type uint8, returning action 1\n",
      "Received observation: (96, 96, 3) numpy array of type uint8, returning action 0\n",
      "Received observation: (96, 96, 3) numpy array of type uint8, returning action 1\n",
      "Received observation: (96, 96, 3) numpy array of type uint8, returning action 1\n",
      "Received observation: (96, 96, 3) numpy array of type uint8, returning action 1\n",
      "Received observation: (96, 96, 3) numpy array of type uint8, returning action 0\n",
      "Received observation: (96, 96, 3) numpy array of type uint8, returning action 1\n",
      "Received observation: (96, 96, 3) numpy array of type uint8, returning action 2\n",
      "Received observation: (96, 96, 3) numpy array of type uint8, returning action 1\n",
      "Received observation: (96, 96, 3) numpy array of type uint8, returning action 1\n",
      "Received observation: (96, 96, 3) numpy array of type uint8, returning action 2\n",
      "Received observation: (96, 96, 3) numpy array of type uint8, returning action 0\n",
      "Received observation: (96, 96, 3) numpy array of type uint8, returning action 1\n",
      "Received observation: (96, 96, 3) numpy array of type uint8, returning action 0\n",
      "Received observation: (96, 96, 3) numpy array of type uint8, returning action 1\n",
      "Received observation: (96, 96, 3) numpy array of type uint8, returning action 2\n",
      "Received observation: (96, 96, 3) numpy array of type uint8, returning action 3\n",
      "Received observation: (96, 96, 3) numpy array of type uint8, returning action 3\n",
      "Received observation: (96, 96, 3) numpy array of type uint8, returning action 1\n",
      "Received observation: (96, 96, 3) numpy array of type uint8, returning action 0\n",
      "Received observation: (96, 96, 3) numpy array of type uint8, returning action 3\n",
      "Received observation: (96, 96, 3) numpy array of type uint8, returning action 4\n",
      "Received observation: (96, 96, 3) numpy array of type uint8, returning action 1\n",
      "Received observation: (96, 96, 3) numpy array of type uint8, returning action 2\n",
      "Received observation: (96, 96, 3) numpy array of type uint8, returning action 4\n",
      "Received observation: (96, 96, 3) numpy array of type uint8, returning action 4\n",
      "Received observation: (96, 96, 3) numpy array of type uint8, returning action 3\n",
      "Received observation: (96, 96, 3) numpy array of type uint8, returning action 3\n",
      "Received observation: (96, 96, 3) numpy array of type uint8, returning action 4\n",
      "Received observation: (96, 96, 3) numpy array of type uint8, returning action 4\n",
      "Received observation: (96, 96, 3) numpy array of type uint8, returning action 3\n",
      "Received observation: (96, 96, 3) numpy array of type uint8, returning action 1\n",
      "Received observation: (96, 96, 3) numpy array of type uint8, returning action 4\n",
      "Received observation: (96, 96, 3) numpy array of type uint8, returning action 3\n",
      "Received observation: (96, 96, 3) numpy array of type uint8, returning action 1\n",
      "Received observation: (96, 96, 3) numpy array of type uint8, returning action 2\n",
      "Received observation: (96, 96, 3) numpy array of type uint8, returning action 2\n",
      "Received observation: (96, 96, 3) numpy array of type uint8, returning action 4\n",
      "Received observation: (96, 96, 3) numpy array of type uint8, returning action 4\n",
      "Received observation: (96, 96, 3) numpy array of type uint8, returning action 2\n",
      "Received observation: (96, 96, 3) numpy array of type uint8, returning action 2\n",
      "Received observation: (96, 96, 3) numpy array of type uint8, returning action 2\n",
      "Received observation: (96, 96, 3) numpy array of type uint8, returning action 3\n",
      "Received observation: (96, 96, 3) numpy array of type uint8, returning action 1\n",
      "Received observation: (96, 96, 3) numpy array of type uint8, returning action 3\n",
      "Received observation: (96, 96, 3) numpy array of type uint8, returning action 2\n",
      "Received observation: (96, 96, 3) numpy array of type uint8, returning action 3\n",
      "Received observation: (96, 96, 3) numpy array of type uint8, returning action 0\n",
      "Received observation: (96, 96, 3) numpy array of type uint8, returning action 0\n",
      "Received observation: (96, 96, 3) numpy array of type uint8, returning action 2\n",
      "Received observation: (96, 96, 3) numpy array of type uint8, returning action 0\n",
      "Received observation: (96, 96, 3) numpy array of type uint8, returning action 2\n",
      "Received observation: (96, 96, 3) numpy array of type uint8, returning action 3\n",
      "Received observation: (96, 96, 3) numpy array of type uint8, returning action 2\n",
      "Received observation: (96, 96, 3) numpy array of type uint8, returning action 3\n",
      "Received observation: (96, 96, 3) numpy array of type uint8, returning action 1\n",
      "Received observation: (96, 96, 3) numpy array of type uint8, returning action 0\n",
      "Received observation: (96, 96, 3) numpy array of type uint8, returning action 4\n",
      "Received observation: (96, 96, 3) numpy array of type uint8, returning action 4\n",
      "Received observation: (96, 96, 3) numpy array of type uint8, returning action 2\n",
      "Received observation: (96, 96, 3) numpy array of type uint8, returning action 3\n",
      "Received observation: (96, 96, 3) numpy array of type uint8, returning action 0\n",
      "Received observation: (96, 96, 3) numpy array of type uint8, returning action 2\n",
      "Received observation: (96, 96, 3) numpy array of type uint8, returning action 4\n",
      "Received observation: (96, 96, 3) numpy array of type uint8, returning action 1\n",
      "Received observation: (96, 96, 3) numpy array of type uint8, returning action 2\n",
      "Received observation: (96, 96, 3) numpy array of type uint8, returning action 1\n",
      "Received observation: (96, 96, 3) numpy array of type uint8, returning action 4\n",
      "Received observation: (96, 96, 3) numpy array of type uint8, returning action 4\n",
      "Received observation: (96, 96, 3) numpy array of type uint8, returning action 3\n",
      "Received observation: (96, 96, 3) numpy array of type uint8, returning action 3\n",
      "Received observation: (96, 96, 3) numpy array of type uint8, returning action 2\n",
      "Received observation: (96, 96, 3) numpy array of type uint8, returning action 3\n",
      "Received observation: (96, 96, 3) numpy array of type uint8, returning action 1\n",
      "Received observation: (96, 96, 3) numpy array of type uint8, returning action 0\n",
      "Received observation: (96, 96, 3) numpy array of type uint8, returning action 1\n",
      "Received observation: (96, 96, 3) numpy array of type uint8, returning action 2\n",
      "Received observation: (96, 96, 3) numpy array of type uint8, returning action 3\n",
      "Received observation: (96, 96, 3) numpy array of type uint8, returning action 1\n",
      "Received observation: (96, 96, 3) numpy array of type uint8, returning action 4\n",
      "Received observation: (96, 96, 3) numpy array of type uint8, returning action 2\n",
      "Received observation: (96, 96, 3) numpy array of type uint8, returning action 0\n",
      "Received observation: (96, 96, 3) numpy array of type uint8, returning action 1\n",
      "Received observation: (96, 96, 3) numpy array of type uint8, returning action 1\n",
      "Received observation: (96, 96, 3) numpy array of type uint8, returning action 3\n",
      "Received observation: (96, 96, 3) numpy array of type uint8, returning action 0\n",
      "Received observation: (96, 96, 3) numpy array of type uint8, returning action 2\n",
      "Received observation: (96, 96, 3) numpy array of type uint8, returning action 4\n",
      "Received observation: (96, 96, 3) numpy array of type uint8, returning action 4\n",
      "Received observation: (96, 96, 3) numpy array of type uint8, returning action 2\n",
      "Received observation: (96, 96, 3) numpy array of type uint8, returning action 4\n",
      "Received observation: (96, 96, 3) numpy array of type uint8, returning action 4\n",
      "Received observation: (96, 96, 3) numpy array of type uint8, returning action 1\n",
      "Received observation: (96, 96, 3) numpy array of type uint8, returning action 2\n",
      "Received observation: (96, 96, 3) numpy array of type uint8, returning action 0\n",
      "Received observation: (96, 96, 3) numpy array of type uint8, returning action 2\n",
      "Received observation: (96, 96, 3) numpy array of type uint8, returning action 4\n"
     ]
    },
    {
     "name": "stdout",
     "output_type": "stream",
     "text": [
      "Received observation: (96, 96, 3) numpy array of type uint8, returning action 0\n",
      "Received observation: (96, 96, 3) numpy array of type uint8, returning action 3\n",
      "Received observation: (96, 96, 3) numpy array of type uint8, returning action 3\n",
      "Received observation: (96, 96, 3) numpy array of type uint8, returning action 0\n",
      "Received observation: (96, 96, 3) numpy array of type uint8, returning action 0\n",
      "Received observation: (96, 96, 3) numpy array of type uint8, returning action 3\n",
      "Received observation: (96, 96, 3) numpy array of type uint8, returning action 1\n",
      "Received observation: (96, 96, 3) numpy array of type uint8, returning action 2\n",
      "Received observation: (96, 96, 3) numpy array of type uint8, returning action 4\n",
      "Received observation: (96, 96, 3) numpy array of type uint8, returning action 4\n",
      "Received observation: (96, 96, 3) numpy array of type uint8, returning action 0\n",
      "Received observation: (96, 96, 3) numpy array of type uint8, returning action 3\n",
      "Received observation: (96, 96, 3) numpy array of type uint8, returning action 4\n",
      "Received observation: (96, 96, 3) numpy array of type uint8, returning action 1\n",
      "Received observation: (96, 96, 3) numpy array of type uint8, returning action 2\n",
      "Received observation: (96, 96, 3) numpy array of type uint8, returning action 4\n",
      "Received observation: (96, 96, 3) numpy array of type uint8, returning action 1\n",
      "Received observation: (96, 96, 3) numpy array of type uint8, returning action 3\n",
      "Received observation: (96, 96, 3) numpy array of type uint8, returning action 4\n",
      "Received observation: (96, 96, 3) numpy array of type uint8, returning action 3\n",
      "Received observation: (96, 96, 3) numpy array of type uint8, returning action 3\n",
      "Received observation: (96, 96, 3) numpy array of type uint8, returning action 0\n",
      "Received observation: (96, 96, 3) numpy array of type uint8, returning action 3\n",
      "Received observation: (96, 96, 3) numpy array of type uint8, returning action 4\n",
      "Received observation: (96, 96, 3) numpy array of type uint8, returning action 3\n",
      "Received observation: (96, 96, 3) numpy array of type uint8, returning action 4\n",
      "Received observation: (96, 96, 3) numpy array of type uint8, returning action 2\n",
      "Received observation: (96, 96, 3) numpy array of type uint8, returning action 4\n",
      "Received observation: (96, 96, 3) numpy array of type uint8, returning action 4\n",
      "Received observation: (96, 96, 3) numpy array of type uint8, returning action 1\n",
      "Received observation: (96, 96, 3) numpy array of type uint8, returning action 0\n",
      "Received observation: (96, 96, 3) numpy array of type uint8, returning action 4\n",
      "Received observation: (96, 96, 3) numpy array of type uint8, returning action 4\n",
      "Received observation: (96, 96, 3) numpy array of type uint8, returning action 4\n",
      "Received observation: (96, 96, 3) numpy array of type uint8, returning action 2\n",
      "Received observation: (96, 96, 3) numpy array of type uint8, returning action 1\n",
      "Received observation: (96, 96, 3) numpy array of type uint8, returning action 1\n",
      "Received observation: (96, 96, 3) numpy array of type uint8, returning action 2\n",
      "Received observation: (96, 96, 3) numpy array of type uint8, returning action 3\n",
      "Received observation: (96, 96, 3) numpy array of type uint8, returning action 1\n",
      "Received observation: (96, 96, 3) numpy array of type uint8, returning action 0\n",
      "Received observation: (96, 96, 3) numpy array of type uint8, returning action 2\n",
      "Received observation: (96, 96, 3) numpy array of type uint8, returning action 4\n",
      "Received observation: (96, 96, 3) numpy array of type uint8, returning action 2\n",
      "Received observation: (96, 96, 3) numpy array of type uint8, returning action 4\n",
      "Received observation: (96, 96, 3) numpy array of type uint8, returning action 3\n",
      "Received observation: (96, 96, 3) numpy array of type uint8, returning action 1\n",
      "Received observation: (96, 96, 3) numpy array of type uint8, returning action 4\n",
      "Received observation: (96, 96, 3) numpy array of type uint8, returning action 1\n",
      "Received observation: (96, 96, 3) numpy array of type uint8, returning action 4\n",
      "Received observation: (96, 96, 3) numpy array of type uint8, returning action 4\n",
      "Received observation: (96, 96, 3) numpy array of type uint8, returning action 3\n",
      "Received observation: (96, 96, 3) numpy array of type uint8, returning action 2\n",
      "Received observation: (96, 96, 3) numpy array of type uint8, returning action 2\n",
      "Received observation: (96, 96, 3) numpy array of type uint8, returning action 2\n",
      "Received observation: (96, 96, 3) numpy array of type uint8, returning action 1\n",
      "Received observation: (96, 96, 3) numpy array of type uint8, returning action 2\n",
      "Received observation: (96, 96, 3) numpy array of type uint8, returning action 2\n",
      "Received observation: (96, 96, 3) numpy array of type uint8, returning action 3\n",
      "Received observation: (96, 96, 3) numpy array of type uint8, returning action 2\n",
      "Received observation: (96, 96, 3) numpy array of type uint8, returning action 3\n",
      "Received observation: (96, 96, 3) numpy array of type uint8, returning action 4\n",
      "Received observation: (96, 96, 3) numpy array of type uint8, returning action 4\n",
      "Received observation: (96, 96, 3) numpy array of type uint8, returning action 1\n",
      "Received observation: (96, 96, 3) numpy array of type uint8, returning action 3\n",
      "Received observation: (96, 96, 3) numpy array of type uint8, returning action 3\n",
      "Received observation: (96, 96, 3) numpy array of type uint8, returning action 1\n",
      "Received observation: (96, 96, 3) numpy array of type uint8, returning action 4\n",
      "Received observation: (96, 96, 3) numpy array of type uint8, returning action 2\n",
      "Received observation: (96, 96, 3) numpy array of type uint8, returning action 3\n",
      "Received observation: (96, 96, 3) numpy array of type uint8, returning action 2\n",
      "Received observation: (96, 96, 3) numpy array of type uint8, returning action 3\n",
      "Received observation: (96, 96, 3) numpy array of type uint8, returning action 4\n",
      "Received observation: (96, 96, 3) numpy array of type uint8, returning action 3\n",
      "Received observation: (96, 96, 3) numpy array of type uint8, returning action 2\n",
      "Received observation: (96, 96, 3) numpy array of type uint8, returning action 1\n",
      "Received observation: (96, 96, 3) numpy array of type uint8, returning action 1\n",
      "Received observation: (96, 96, 3) numpy array of type uint8, returning action 4\n",
      "Received observation: (96, 96, 3) numpy array of type uint8, returning action 0\n",
      "Received observation: (96, 96, 3) numpy array of type uint8, returning action 0\n",
      "Received observation: (96, 96, 3) numpy array of type uint8, returning action 3\n",
      "Received observation: (96, 96, 3) numpy array of type uint8, returning action 3\n",
      "Received observation: (96, 96, 3) numpy array of type uint8, returning action 3\n",
      "Received observation: (96, 96, 3) numpy array of type uint8, returning action 2\n",
      "Received observation: (96, 96, 3) numpy array of type uint8, returning action 0\n",
      "total reward after 500 iterations: -21.18155619596539\n",
      "average reward: -0.042363112391930774\n"
     ]
    }
   ],
   "source": [
    "# running the simulation with the dummy policy\n",
    "rs = run_simulation(f_dummy, render=1, planet_id=0, track_id=0)"
   ]
  },
  {
   "cell_type": "markdown",
   "id": "0918c2c8",
   "metadata": {},
   "source": [
    "Clearly, this policy doesn't do anything particularly useful, and should make the robot car just slowly move forward. This policy will touch only few road segments, and therefore collect little positive reward.\n",
    "Let's visulize the rewards that the robot collected during the simulation.\n",
    "\n",
    "The first plot below shows when new parts of the track are reached and a large reward is collected. The second plot shows the total/cumulative reward."
   ]
  },
  {
   "cell_type": "code",
   "execution_count": 14,
   "id": "760569cd",
   "metadata": {
    "scrolled": true
   },
   "outputs": [
    {
     "name": "stdout",
     "output_type": "stream",
     "text": [
      "Average reward: -0.042363112391930774\n"
     ]
    },
    {
     "data": {
      "image/png": "[encoded data removed]",
      "text/plain": [
       "<Figure size 720x288 with 2 Axes>"
      ]
     },
     "metadata": {
      "needs_background": "light"
     },
     "output_type": "display_data"
    }
   ],
   "source": [
    "plt.figure(figsize=(10,4)) # create a wide figure (size 10) which is not so tall (size 4)\n",
    "plt.subplot(1,2,1) # create subplot of 1 row, 2 columns, enable plotting in first cell\n",
    "plt.plot(rs)\n",
    "plt.xlabel('iteration')\n",
    "plt.ylabel('reward')\n",
    "plt.title('Reward per iteration')\n",
    "plt.grid()\n",
    "\n",
    "plt.subplot(1,2,2) # create subplot of 1 row, 2 columns, enable plotting in first cell\n",
    "plt.plot(np.cumsum(rs)) # Cumulative sum of rewards\n",
    "plt.xlabel('iteration')\n",
    "plt.ylabel('total reward')\n",
    "plt.title('Cumulative reward')\n",
    "plt.grid()\n",
    "\n",
    "\n",
    "print('Average reward:', np.mean(rs))"
   ]
  },
  {
   "cell_type": "markdown",
   "id": "c4e125f0",
   "metadata": {},
   "source": [
    "For comparing and evaluating classifiers, measure the performance of the classifiers themselves, i.e., the macro-F1 score.\n",
    "\n",
    "Still, the simulation and rewards can help you assess in what situations your robot AI is performing well, and when it is failing."
   ]
  },
  {
   "cell_type": "markdown",
   "id": "474c9f70",
   "metadata": {},
   "source": [
    "# Collecting new demonstrations\n",
    "\n",
    "At some point, you might want to collect more human demonstration data to make your method even beter.\n",
    "You can do this by:\n",
    "\n",
    "- manually controlling the robot car in the simulation yourself to generate new demonstrations\n",
    "- recording the resulting (observation, action) pairs during these demonstrations\n",
    "- saving the good demonstrations to disk to increase your example dataset\n",
    "\n",
    "The code below demonstrates how to do this. The idea is simple: just use the regular `run_simulation()` function, but use a special `f_human()` policy which simply returns the action based on the keyboard input!"
   ]
  },
  {
   "cell_type": "code",
   "execution_count": 15,
   "id": "b00df200",
   "metadata": {},
   "outputs": [],
   "source": [
    "# a human driver\n",
    "def f_human(observation):\n",
    "    # Get the action obtained by the key_press/key_release callbacks from the popup window.\n",
    "    # Note that the human driver (you!) will of course see the environment image in the popup window,\n",
    "    # and ignore the 'observation' input of this function.\n",
    "    # This 'human policy' will therefore return your 'action' response to the visual input by checking\n",
    "    # which keyboard arrows you pressed.\n",
    "    \n",
    "    global KEY_PRESSED\n",
    "    \n",
    "    action = ACTION_NOOP\n",
    "    if KEY_PRESSED[key.LEFT]: action = ACTION_LEFT\n",
    "    elif KEY_PRESSED[key.RIGHT]: action = ACTION_RIGHT\n",
    "    elif KEY_PRESSED[key.UP]: action = ACTION_ACCEL\n",
    "    elif KEY_PRESSED[key.DOWN]: action = ACTION_BRAKE\n",
    "    \n",
    "    return action"
   ]
  },
  {
   "cell_type": "markdown",
   "id": "3f5f9349",
   "metadata": {},
   "source": [
    "When we use this policy, ensure that the simulator stores and return all the (observation, action) pairs by setting the `record_data` argument of run_simulation to `True`.\n",
    "You can adjust the `planet_id` and `track_id` to get human driving responses on a variety of tracks in your training planet environments."
   ]
  },
  {
   "cell_type": "code",
   "execution_count": 16,
   "id": "cc7cf477",
   "metadata": {},
   "outputs": [
    {
     "name": "stdout",
     "output_type": "stream",
     "text": [
      "Starting simulation for 1000 iterations.\n",
      "*** Press ESC key in popup window to stop the simulation! ***\n",
      "\n",
      "Track generation: 1383..1731 -> 348-tiles track\n"
     ]
    },
    {
     "name": "stderr",
     "output_type": "stream",
     "text": [
      "D:\\Software\\Anaconda\\envs\\tf2\\lib\\site-packages\\gym\\logger.py:30: UserWarning: \u001b[33mWARN: Box bound precision lowered by casting to float32\u001b[0m\n",
      "  warnings.warn(colorize('%s: %s'%('WARN', msg % args), 'yellow'))\n"
     ]
    },
    {
     "ename": "KeyboardInterrupt",
     "evalue": "",
     "output_type": "error",
     "traceback": [
      "\u001b[1;31m---------------------------------------------------------------------------\u001b[0m",
      "\u001b[1;31mKeyboardInterrupt\u001b[0m                         Traceback (most recent call last)",
      "\u001b[1;32m<ipython-input-16-75c5282d266e>\u001b[0m in \u001b[0;36m<module>\u001b[1;34m\u001b[0m\n\u001b[0;32m      9\u001b[0m     \u001b[0miterations\u001b[0m\u001b[1;33m=\u001b[0m\u001b[1;36m1000\u001b[0m\u001b[1;33m,\u001b[0m       \u001b[1;31m# maximum number of iterations to run the simulation\u001b[0m\u001b[1;33m\u001b[0m\u001b[1;33m\u001b[0m\u001b[0m\n\u001b[0;32m     10\u001b[0m     \u001b[0mrender\u001b[0m\u001b[1;33m=\u001b[0m\u001b[1;32mTrue\u001b[0m\u001b[1;33m,\u001b[0m           \u001b[1;31m# when controling the car manually, it makes sense to render the scene\u001b[0m\u001b[1;33m\u001b[0m\u001b[1;33m\u001b[0m\u001b[0m\n\u001b[1;32m---> 11\u001b[1;33m     \u001b[0mdelay\u001b[0m\u001b[1;33m=\u001b[0m\u001b[1;36m0.01\u001b[0m             \u001b[1;31m# adding a small delay will help you control the robot car\u001b[0m\u001b[1;33m\u001b[0m\u001b[1;33m\u001b[0m\u001b[0m\n\u001b[0m\u001b[0;32m     12\u001b[0m )\n\u001b[0;32m     13\u001b[0m \u001b[1;31m# Note: with delay=0.01 the simulation runs a bit slower, which makes it easier to give demonstrations\u001b[0m\u001b[1;33m\u001b[0m\u001b[1;33m\u001b[0m\u001b[1;33m\u001b[0m\u001b[0m\n",
      "\u001b[1;32m<ipython-input-10-602b31a43d1b>\u001b[0m in \u001b[0;36mrun_simulation\u001b[1;34m(f, iterations, planet_id, track_id, verbose, render, record_data, delay)\u001b[0m\n\u001b[0;32m     81\u001b[0m         \u001b[1;31m# main simulation loop\u001b[0m\u001b[1;33m\u001b[0m\u001b[1;33m\u001b[0m\u001b[1;33m\u001b[0m\u001b[0m\n\u001b[0;32m     82\u001b[0m         \u001b[1;32mfor\u001b[0m \u001b[0mitr\u001b[0m \u001b[1;32min\u001b[0m \u001b[0mrange\u001b[0m\u001b[1;33m(\u001b[0m\u001b[0miterations\u001b[0m\u001b[1;33m)\u001b[0m\u001b[1;33m:\u001b[0m\u001b[1;33m\u001b[0m\u001b[1;33m\u001b[0m\u001b[0m\n\u001b[1;32m---> 83\u001b[1;33m             \u001b[0mtime\u001b[0m\u001b[1;33m.\u001b[0m\u001b[0msleep\u001b[0m\u001b[1;33m(\u001b[0m\u001b[0mdelay\u001b[0m\u001b[1;33m)\u001b[0m\u001b[1;33m\u001b[0m\u001b[1;33m\u001b[0m\u001b[0m\n\u001b[0m\u001b[0;32m     84\u001b[0m             \u001b[1;32mif\u001b[0m \u001b[0mSTOP_SIMULATION\u001b[0m\u001b[1;33m:\u001b[0m \u001b[1;32mbreak\u001b[0m\u001b[1;33m\u001b[0m\u001b[1;33m\u001b[0m\u001b[0m\n\u001b[0;32m     85\u001b[0m \u001b[1;33m\u001b[0m\u001b[0m\n",
      "\u001b[1;31mKeyboardInterrupt\u001b[0m: "
     ]
    }
   ],
   "source": [
    "planet_id=0 # <-- CHANGE THIS to select the planet; can be 0, 1, 2\n",
    "track_id=0  # <-- CHANGE THIS to select the track; can be any positive integer\n",
    "\n",
    "rs, rec_obs, rec_actions = run_simulation(\n",
    "    f_human,               # by using the 'human' policy, YOU determine the robot's actions based on what you see\n",
    "    record_data=True,      # record and return all (observation, action) pairs from the simulation \n",
    "    planet_id=planet_id,   # select the target planet\n",
    "    track_id=track_id,     # select the target track on that planet (0, 1, 2, etc.)\n",
    "    iterations=1000,       # maximum number of iterations to run the simulation\n",
    "    render=True,           # when controling the car manually, it makes sense to render the scene\n",
    "    delay=0.01             # adding a small delay will help you control the robot car\n",
    ")\n",
    "# Note: with delay=0.01 the simulation runs a bit slower, which makes it easier to give demonstrations"
   ]
  },
  {
   "cell_type": "markdown",
   "id": "b759d7a7",
   "metadata": {},
   "source": [
    "Explore the just collected samples in your latest recoding using an interactive slider"
   ]
  },
  {
   "cell_type": "code",
   "execution_count": null,
   "id": "8083ec27",
   "metadata": {},
   "outputs": [],
   "source": [
    "def plot_sample(idx, observations, actions):\n",
    "    observation = observations[idx]\n",
    "    action = actions[idx]\n",
    "    plt.clf()\n",
    "    plt.imshow(observation)\n",
    "    plt.title(f'{idx}: {action}');\n",
    "    \n",
    "ipywidgets.interactive(lambda idx: plot_sample(idx, rec_obs, rec_actions), idx=(0,rec_obs.shape[0]-1))"
   ]
  },
  {
   "cell_type": "markdown",
   "id": "0c8cf8de",
   "metadata": {},
   "source": [
    "If you are unhappy with the the demonstration you gave, you can just execute the `run_simulation()` cell above again, until you are satisfied.\n",
    "\n",
    "To save the demonstration to disk, execute the cell below after setting `SAVE_DEMO` to True.\n",
    "\n",
    "**After you have saved the demonstration, don't forget to aftewards IMMEDIATELY set `SAVE_DEMO` back to False to avoid accidentally saving new demonstrations every time you rerun the notebook!!!**\n",
    "\n",
    "Note that the pickle filenames of your recordings will start with `demostud-`, while the originally provided demonstrations start with `demo-`. This makes it easy to load only the original, your, or both types of recordings."
   ]
  },
  {
   "cell_type": "code",
   "execution_count": null,
   "id": "ce4e67b4",
   "metadata": {},
   "outputs": [],
   "source": [
    "SAVE_DEMO = False # <-- CHANGE THIS to 'True' to SAVE the last recording to disk!\n",
    "\n",
    "if SAVE_DEMO: \n",
    "    rec_N = rec_obs.shape[0]\n",
    "\n",
    "    demonstration = {\n",
    "        'observations': rec_obs,\n",
    "        'actions': rec_actions,\n",
    "        'planets': planet_id * np.ones(rec_N, dtype=int),\n",
    "        'tracks': track_id * np.ones(rec_N, dtype=int),\n",
    "    }\n",
    "    \n",
    "    # include date+time to filename in YYYYMMDD_HHMMSS format\n",
    "    import datetime\n",
    "    now = datetime.datetime.now()\n",
    "    dt_str = now.strftime('%Y%m%d_%H%M%S')\n",
    "\n",
    "    # Save to disk\n",
    "    save_filename = f'demonstrations/demostud-{planet_id}-{track_id}-{dt_str}.pickle'\n",
    "    print(f'Saving demonstation of planet {planet_id}, track {track_id} to {save_filename} ...')\n",
    "    with open(save_filename, 'wb') as fd:\n",
    "        pickle.dump(demonstration, fd)"
   ]
  },
  {
   "cell_type": "markdown",
   "id": "b67f75fe",
   "metadata": {},
   "source": [
    "Ok, that completes the example code.\n",
    "Now it is your turn! Implement your solution to the final assignment below. For full points, make sure you address *all* the numbered items for each section, either by implementing something in code cells, or by providing text in Markdown cells. You are free to add as many code and markdown cells as required. Be sure to first read through all sections before you start, so you know what should go where. We are *not* using nbgrader for this final assignment.\n",
    "\n",
    "**When you are done, double check the \"Deliverables\" section at the start of this notebook on how to prepare your final submission!**\n",
    "\n",
    "Good luck!\n"
   ]
  },
  {
   "cell_type": "markdown",
   "id": "c1edc05e",
   "metadata": {},
   "source": [
    "---\n",
    "\n",
    "# 1. Explore & Inspect the Data (5 points)\n",
    "Add code and markdown cells to address all of the following points:\n",
    "\n",
    "1. Create a visualization that shows three samples from each planet for which you have demonstrations\n",
    "2. Explain in words what you observe: how do the observations from the planets vary?\n",
    "3. Are the samples i.i.d.? What does that imply for splitting your data?\n",
    "4. Is there a class imbalance? If yes, what are procedures to deal with that?\n",
    "5. Do we have a high risk of conflicting labels for observations? What problems can this cause?\n",
    "6. The data was collected from human demonstrations. What are potential issues with this way of collecting data?\n",
    "\n",
    " "
   ]
  },
  {
   "cell_type": "code",
   "execution_count": 17,
   "id": "7ef75732",
   "metadata": {},
   "outputs": [],
   "source": [
    "# Add code and markdown cells"
   ]
  },
  {
   "cell_type": "markdown",
   "id": "825e927c",
   "metadata": {},
   "source": [
    "## 1.1\n",
    "Vistualization is shown as follows."
   ]
  },
  {
   "cell_type": "code",
   "execution_count": 18,
   "id": "68001750",
   "metadata": {},
   "outputs": [
    {
     "data": {
      "image/png": "[encoded data removed]",
      "text/plain": [
       "<Figure size 1296x432 with 3 Axes>"
      ]
     },
     "metadata": {
      "needs_background": "light"
     },
     "output_type": "display_data"
    }
   ],
   "source": [
    "def vis_samples(idx, actions, observations, planet_ids):\n",
    "    fig = plt.figure(figsize=(18, 6))\n",
    "    fig.add_subplot(1,3,1)\n",
    "    plt.imshow(observations[planet_ids==0][idx])\n",
    "    plt.title('Green planet')\n",
    "    \n",
    "    fig.add_subplot(1,3,2)\n",
    "    plt.imshow(observations[planet_ids==1][idx])\n",
    "    plt.title('Red planet')\n",
    "    \n",
    "    fig.add_subplot(1,3,3)\n",
    "    plt.imshow(observations[planet_ids==2][idx])\n",
    "    plt.title('Brown planet')\n",
    "    \n",
    "vis_samples(150,actions,observations,planet_ids)       "
   ]
  },
  {
   "cell_type": "markdown",
   "id": "fde0d566",
   "metadata": {},
   "source": [
    "## 1.2 \n",
    "The variance between planets is the color of background. All samples are divided into planets with three different colors, green, blue and brown. "
   ]
  },
  {
   "cell_type": "markdown",
   "id": "4011e0fc",
   "metadata": {},
   "source": [
    "## 1.3 \n",
    "\n",
    "The samples of this dataset are not independent and identical distributed (i.i.d) . Because this dataset is sampled from several sequences of human demonstrations, which means adjecent frames in the sequence are not independent. This fact implies that we should shuffle our data before splitting."
   ]
  },
  {
   "cell_type": "markdown",
   "id": "40ea6d21",
   "metadata": {},
   "source": [
    "## 1.4\n",
    "\n",
    "There is a class imbalance. Since the number of samples in green planet is 1000, which is more than the number of samples in red (200 samples) and brown (200 samples) planets. \n",
    "\n",
    "Meanwhile, there are 681 samples of no action, 276 samples of accelerating, 271 samples of turning left and 172 samples of turning right. \n",
    "\n",
    "This class imbalance can be eliminated by using the same number of samples each class."
   ]
  },
  {
   "cell_type": "code",
   "execution_count": 19,
   "id": "4fa55983",
   "metadata": {},
   "outputs": [
    {
     "name": "stdout",
     "output_type": "stream",
     "text": [
      "ACTION_NOOP\t 681\n",
      "ACTION_ACCEL\t 276\n",
      "ACTION_LEFT\t 271\n",
      "ACTION_RIGHT\t 172\n",
      "ACTION_BRAKE\t 0\n"
     ]
    }
   ],
   "source": [
    "# num_noop = 0\n",
    "# num_accel = 0\n",
    "# num_left = 0\n",
    "# num_right = 0\n",
    "# num_brake = 0\n",
    "# print(num_noop, num_accel, num_left, num_right, num_brake)\n",
    "print(\"ACTION_NOOP\\t\", len(actions[actions == ACTION_NOOP]))\n",
    "print(\"ACTION_ACCEL\\t\", len(actions[actions == ACTION_ACCEL]))\n",
    "print(\"ACTION_LEFT\\t\", len(actions[actions == ACTION_LEFT]))\n",
    "print(\"ACTION_RIGHT\\t\", len(actions[actions == ACTION_RIGHT]))\n",
    "print(\"ACTION_BRAKE\\t\", len(actions[actions == ACTION_BRAKE]))"
   ]
  },
  {
   "cell_type": "markdown",
   "id": "30a1bee5",
   "metadata": {},
   "source": [
    "## 1.5 \n",
    "\n",
    "I think we have a high risk of conflicting labels for observations. Accroding to the demonstrations, sometimes human push left or right because he want to move car from the edge of lane to the center of the lane instead of turning left or turing right.\n",
    "\n",
    "This can cause oscillation and randomness in the data."
   ]
  },
  {
   "cell_type": "markdown",
   "id": "7bdc94c4",
   "metadata": {},
   "source": [
    "## 1.6\n",
    "\n",
    "First, it may collect the noisy data because human always make mistakes. \n",
    "\n",
    "Second, the expense of human demonstrations is much more expensive comparing with the automatically generated data.\n",
    "\n"
   ]
  },
  {
   "cell_type": "markdown",
   "id": "51089e1a",
   "metadata": {},
   "source": []
  },
  {
   "cell_type": "markdown",
   "id": "dce1a0f4",
   "metadata": {},
   "source": [
    "---\n",
    "\n",
    "# 2. Prepare the Data and Evaluate Features (15 points)\n",
    "\n",
    "In this section you should pre-process the data, e.g., down-sample, and extract features to create your training data matrix \"X\".\n",
    "\n",
    "\n",
    "## 2.1. Clustering observations from planets\n",
    "\n",
    "Before we turn towards the main task of action classification (section 2.2), let us first try a small unsupervised clustering task. Pretend that we only have the observations, but did not record the planet_ids of these observations. The goal is to cluster the observations into k=3 clusters such that 1 cluster (approximately) corresponds to 1 planet. For this task, you can ignore the actions and track_id information.\n",
    "\n",
    "1. Propose a feature extraction method `feat_extract_clust` which can be used to CLUSTER the samples and (approximately) recover the planet_ids. Motivate what you use in your feature extraction method.\n",
    "2. Perform clustering based on the features obtained with `feat_extract_clust`, and compare the results to the true planet_id labels. For this you will need to select a statistical measure to compare cluster labels to planet_ids.\n",
    "3. Explain what measure you use for comparing the features and why.\n",
    "4. Can you recuperate the planet_ids by clustering? Motivate your answer with your results."
   ]
  },
  {
   "cell_type": "code",
   "execution_count": 20,
   "id": "0231ab05",
   "metadata": {},
   "outputs": [],
   "source": [
    "# Add code and markdown cells"
   ]
  },
  {
   "cell_type": "markdown",
   "id": "b2378f1d",
   "metadata": {},
   "source": [
    "### 2.1.1\n",
    "\n",
    "We average the 3 channel value among pixels because it can be interpreted as the average color of the image. "
   ]
  },
  {
   "cell_type": "code",
   "execution_count": 21,
   "id": "0e6afb81",
   "metadata": {},
   "outputs": [
    {
     "data": {
      "text/plain": [
       "array([ 93.39659288, 168.03732639,  92.7546658 ])"
      ]
     },
     "execution_count": 21,
     "metadata": {},
     "output_type": "execute_result"
    }
   ],
   "source": [
    "def feat_extract_clust(obs):\n",
    "  \"\"\"\n",
    "  obs: [N, W, H, C] or [W, H, C]\n",
    "  \"\"\"\n",
    "\n",
    "  if (len(obs.shape) == 4):  # [N, W, H, C]\n",
    "    return np.mean(np.mean(obs, axis=1), axis=1)\n",
    "  if (len(obs.shape) == 3):  # [W, H, C]\n",
    "    return np.mean(np.mean(obs, axis=1), axis=0)\n",
    "\n",
    "feat_extract_clust(observations[1])"
   ]
  },
  {
   "cell_type": "markdown",
   "id": "99e38401",
   "metadata": {},
   "source": [
    "### 2.1.2\n",
    "\n",
    "First, we apply feature extrator above to all observations"
   ]
  },
  {
   "cell_type": "code",
   "execution_count": 22,
   "id": "a55d1c85",
   "metadata": {},
   "outputs": [
    {
     "data": {
      "text/plain": [
       "(1400, 3)"
      ]
     },
     "execution_count": 22,
     "metadata": {},
     "output_type": "execute_result"
    }
   ],
   "source": [
    "# extract features\n",
    "obs_cls = feat_extract_clust(observations)\n",
    "obs_cls.shape"
   ]
  },
  {
   "cell_type": "markdown",
   "id": "7ef4de50",
   "metadata": {},
   "source": [
    "It is necessary to visualize extracted data in the 3-dimensional space to have a clear understanding of data distribution. "
   ]
  },
  {
   "cell_type": "code",
   "execution_count": 23,
   "id": "0f18fc04",
   "metadata": {},
   "outputs": [
    {
     "name": "stdout",
     "output_type": "stream",
     "text": [
      "(3, 1400)\n"
     ]
    },
    {
     "data": {
      "application/vnd.jupyter.widget-view+json": {
       "model_id": "067b06e84cff4c36b58df394863eed73",
       "version_major": 2,
       "version_minor": 0
      },
      "text/plain": [
       "interactive(children=(IntSlider(value=45, description='view_angle1', max=90), IntSlider(value=180, description…"
      ]
     },
     "metadata": {},
     "output_type": "display_data"
    }
   ],
   "source": [
    "from mpl_toolkits.mplot3d import axes3d\n",
    "\n",
    "color_labels = np.stack([planet_ids == 0, planet_ids == 1, planet_ids == 2])\n",
    "print(color_labels.shape)\n",
    "\n",
    "def make_3d_plot_axes_equal(ax):\n",
    "    \"\"\" Utility function to make axes equally scaled for 3D plots in matplotlib.\n",
    "        Note that for 2D plots we can simply use ax.axes('equal'),\n",
    "        but unfortunately this doesn't work for 3D plots, so we use this utility function.\n",
    "        \n",
    "        Inspired by: https://stackoverflow.com/a/31364297\n",
    "    \"\"\" \n",
    "    \n",
    "    ax_limits = np.array([ax.get_xlim3d(), ax.get_ylim3d(), ax.get_zlim3d()]).T\n",
    "    \n",
    "    m = ax_limits.mean(axis=0)\n",
    "    max_range = (ax_limits - m).max();\n",
    "    \n",
    "    ax.set_xlim(m[0] - max_range, m[0] + max_range)\n",
    "    ax.set_ylim(m[1] - max_range, m[1] + max_range)\n",
    "    ax.set_zlim(m[2] - max_range, m[2] + max_range)\n",
    "    \n",
    "\n",
    "def plot_3d_features(X, lbs, view_angle1, view_angle2, label_name='dim'):\n",
    "    fig = plt.figure(figsize=(10,6))\n",
    "    ax = fig.add_subplot(111, projection='3d')\n",
    "\n",
    "    ax.view_init(view_angle1, view_angle2)\n",
    "    \n",
    "    ax.scatter(X[lbs[0,:],0], X[lbs[0,:],1], X[lbs[0,:],2], s=5., alpha=0.7, c='#2ca02c')\n",
    "    ax.scatter(X[lbs[1,:],0], X[lbs[1,:],1], X[lbs[1,:],2], s=5., alpha=0.7, c='#d62728')\n",
    "    ax.scatter(X[lbs[2,:],0], X[lbs[2,:],1], X[lbs[2,:],2], s=5., alpha=0.7, c='#ff7f0e')\n",
    "\n",
    "    plt.xlabel(label_name+' 0')\n",
    "    plt.ylabel(label_name+' 1')\n",
    "    ax.zaxis.set_label_text(label_name+' 2') # no plt.zlabel() :-/\n",
    "\n",
    "    # ensure 3D plot has equally scaled axes\n",
    "    make_3d_plot_axes_equal(ax)\n",
    "\n",
    "    plt.show()\n",
    "\n",
    "# make rotatable 3D plot with standard plotting tools\n",
    "ipywidgets.interactive(\n",
    "    lambda view_angle1, view_angle2: plot_3d_features(obs_cls, color_labels, view_angle1, view_angle2, label_name='feature'),\n",
    "    view_angle1=(0, 90),\n",
    "    view_angle2=(0, 360)\n",
    ")"
   ]
  },
  {
   "cell_type": "markdown",
   "id": "a93abcb0",
   "metadata": {},
   "source": [
    "In the above graph, green, red and orange color indicates data are collected from Earth, Mars and Saturn"
   ]
  },
  {
   "cell_type": "markdown",
   "id": "1bb913b7",
   "metadata": {},
   "source": [
    "We use K-Means to classify these data because it is fast and scalable. Due to its keenly relies on selecting good initial centroids, we apply K-Means++ in our K-Meas model for better initialization, "
   ]
  },
  {
   "cell_type": "code",
   "execution_count": 24,
   "id": "1725277c",
   "metadata": {},
   "outputs": [
    {
     "data": {
      "text/plain": [
       "KMeans(n_clusters=3, random_state=8)"
      ]
     },
     "execution_count": 24,
     "metadata": {},
     "output_type": "execute_result"
    }
   ],
   "source": [
    "from sklearn.cluster import KMeans\n",
    "from sklearn.preprocessing import MinMaxScaler\n",
    "from sklearn.utils import shuffle\n",
    "from sklearn.metrics import accuracy_score, confusion_matrix, f1_score\n",
    "\n",
    "X_shuffled, y_shuffled = shuffle(obs_cls, planet_ids, random_state=0)\n",
    "\n",
    "scaler = MinMaxScaler()\n",
    "X_scaled = scaler.fit_transform(X_shuffled)\n",
    "\n",
    "model = KMeans(init=\"k-means++\", n_clusters=3, random_state=8)\n",
    "model.fit(X_scaled)"
   ]
  },
  {
   "cell_type": "markdown",
   "id": "78afd65d",
   "metadata": {},
   "source": [
    "After training this unsupervised learning model, we can use \"accuracy\" and \"confusion matrix\" to compare cluster labels and planet_ids."
   ]
  },
  {
   "cell_type": "code",
   "execution_count": 25,
   "id": "0d41532e",
   "metadata": {},
   "outputs": [
    {
     "name": "stdout",
     "output_type": "stream",
     "text": [
      "accuracy 0.9985714285714286\n",
      "conf matrix\n",
      " [[1000    0    0]\n",
      " [   0  198    2]\n",
      " [   0    0  200]]\n",
      "F1 score\n",
      " 0.9966665833312499\n"
     ]
    }
   ],
   "source": [
    "cls_pred = model.predict(X_scaled)\n",
    "accs = accuracy_score(y_shuffled, cls_pred)\n",
    "print(\"accuracy\", accs)\n",
    "conf_mat = confusion_matrix(y_shuffled, cls_pred)\n",
    "print(\"conf matrix\\n\", conf_mat)\n",
    "f1 = f1_score(y_shuffled, cls_pred, average='macro')\n",
    "print(\"F1 score\\n\", f1)"
   ]
  },
  {
   "cell_type": "markdown",
   "id": "1beb8111",
   "metadata": {},
   "source": [
    "### 2.1.3"
   ]
  },
  {
   "cell_type": "markdown",
   "id": "9a5cb673",
   "metadata": {},
   "source": [
    "### 2.1.4\n",
    "\n",
    "We cannot recuperate the planet_ids by clustering. Due to labels of clusters from KMeans are keenly relied on initialization, different initialization methods will create different labels."
   ]
  },
  {
   "cell_type": "markdown",
   "id": "699bbe97",
   "metadata": {},
   "source": []
  },
  {
   "cell_type": "markdown",
   "id": "40add1f2",
   "metadata": {},
   "source": []
  },
  {
   "cell_type": "markdown",
   "id": "144d5957",
   "metadata": {},
   "source": [
    "## 2.2. Features for action classification\n",
    "\n",
    "Now we turn to feature exration for the main classification task, which you can reuse also in the later sections of this notebook.\n",
    "\n",
    "1. Explain: Will you use the same extractor as in step 1; Why (not)?\n",
    "2. Propose a feature extraction method `feat_extract` which you will use in the subsequent sections to classify *action*, rather than planet_ids.\n",
    "3. Explain: Are there any important hyperparameters in your feature extractor?\n",
    "4. Explain: How will you decide on the values for these hyperparameters? What is the trade-off if this hyperparameter is either (too) low or (too) high?\n",
    "5. Explain: What is the dimensionality of your feature space?\n",
    "6. Apply your `feat_extract` to all observations to create the data that you will use in the subsequent sections."
   ]
  },
  {
   "cell_type": "code",
   "execution_count": 26,
   "id": "f5e08ad5",
   "metadata": {},
   "outputs": [],
   "source": [
    "# Add code and markdown cells"
   ]
  },
  {
   "cell_type": "markdown",
   "id": "072998a0",
   "metadata": {},
   "source": []
  },
  {
   "cell_type": "markdown",
   "id": "9fe1be4d",
   "metadata": {},
   "source": [
    "### 2.2.1\n",
    "\n",
    "We will not use the same extractor as in previous step. This is because previous extractor averages color values among pixels and loses spatial information. It only keeps information related to the color of background of planets."
   ]
  },
  {
   "cell_type": "markdown",
   "id": "968573c9",
   "metadata": {},
   "source": [
    "### 2.2.2\n",
    "\n",
    "To classify actions, we need to know the curvature and the locations of boundaries of the road. The best way to obtain these information from the image is to segment and extract roads from the backgrounds. We can achieve because they have different colors."
   ]
  },
  {
   "cell_type": "code",
   "execution_count": 27,
   "id": "b7cf0bb7",
   "metadata": {},
   "outputs": [],
   "source": [
    "# EXTRACT FEATURES\n",
    "\n",
    "def road_extract(img, thres=10):\n",
    "  img_ = img[:84, :96, :]\n",
    "  array = np.resize(img, [img.shape[0]*img.shape[1], 3])\n",
    "\n",
    "  p = np.array([1,1,1])\n",
    "  q = np.array([0,0,0])\n",
    "  x = p - q\n",
    "  no_bg = np.linalg.norm(np.outer(np.dot(array - q, x) / np.dot(x, x), x) + q - array, axis=1) > thres\n",
    "  img_ = np.resize(no_bg, [84, 96, 1])\n",
    "  return img_ * 1.0\n",
    "\n",
    "def feat_extract(obs, thres=10):\n",
    "  if len(obs.shape) == 3:\n",
    "    return road_extract(obs)\n",
    "  if len(obs.shape) == 4:\n",
    "    l = [road_extract(x) for x in obs]\n",
    "    return np.stack(l)"
   ]
  },
  {
   "cell_type": "markdown",
   "id": "a8520fd3",
   "metadata": {},
   "source": [
    "\n",
    "\n",
    "As we already know, the color of the road on all the planets is grey-like. For these colors, the R, G, B intensities are equal to each other. These grey-like color can be represented as a straight line in 3-dimentional color space. (Grey dots in the following graph.) The vector representing this line is $[1, 1, 1]$ . Then we can compute the distance to the straight line for all pixels and decide if it belongs to road or backgrounds. \n"
   ]
  },
  {
   "cell_type": "code",
   "execution_count": 28,
   "id": "05d1ba94",
   "metadata": {},
   "outputs": [
    {
     "data": {
      "application/vnd.jupyter.widget-view+json": {
       "model_id": "9a5677673434481984ed134d6b3716ac",
       "version_major": 2,
       "version_minor": 0
      },
      "text/plain": [
       "interactive(children=(IntSlider(value=45, description='view_angle1', max=90), IntSlider(value=180, description…"
      ]
     },
     "metadata": {},
     "output_type": "display_data"
    }
   ],
   "source": [
    "img = observations[[2, 250, 450, 650, 850, 1050, 1250, 1350], :84, :, :]\n",
    "msk = feat_extract(img).squeeze()\n",
    "road = (img[msk == 1]).reshape(-1, 3)\n",
    "background = (img[msk == 0]).reshape(-1, 3)\n",
    "pixels = np.concatenate([road, background])\n",
    "color_labels = np.concatenate([np.ones(len(road)), np.zeros(len(background))])\n",
    "label = np.stack([color_labels == 0, color_labels == 1])\n",
    "\n",
    "def plot_pixels_color_space(X, lbs, view_angle1, view_angle2, label_name='dim'):\n",
    "    fig = plt.figure(figsize=(10,6))\n",
    "    ax = fig.add_subplot(111, projection='3d')\n",
    "\n",
    "    ax.view_init(view_angle1, view_angle2)\n",
    "    \n",
    "    # ax.scatter(X[:,0], X[:,1], X[:,2], s=5., alpha=0.7, c='#595e5a')\n",
    "\n",
    "    ax.scatter(X[lbs[0,:],0], X[lbs[0,:],1], X[lbs[0,:],2], s=5., alpha=0.7, c='#595e5a')\n",
    "    ax.scatter(X[lbs[1,:],0], X[lbs[1,:],1], X[lbs[1,:],2], s=5., alpha=0.7, c='#d62728')\n",
    "    # ax.scatter(X[lbs[2,:],0], X[lbs[2,:],1], X[lbs[2,:],2], s=5., alpha=0.7, c='#ff7f0e')\n",
    "\n",
    "    plt.xlabel(label_name+' 0')\n",
    "    plt.ylabel(label_name+' 1')\n",
    "    ax.zaxis.set_label_text(label_name+' 2') # no plt.zlabel() :-/\n",
    "\n",
    "    # ensure 3D plot has equally scaled axes\n",
    "    make_3d_plot_axes_equal(ax)\n",
    "\n",
    "    plt.show()\n",
    "\n",
    "# make rotatable 3D plot with standard plotting tools\n",
    "ipywidgets.interactive(\n",
    "    lambda view_angle1, view_angle2: plot_pixels_color_space(pixels, label, view_angle1, view_angle2, label_name='feature'),\n",
    "    view_angle1=(0, 90),\n",
    "    view_angle2=(0, 360)\n",
    ")"
   ]
  },
  {
   "cell_type": "code",
   "execution_count": 29,
   "id": "bd9d49dc",
   "metadata": {},
   "outputs": [],
   "source": [
    "del img, msk, road, background, pixels, color_labels, label\n"
   ]
  },
  {
   "cell_type": "markdown",
   "id": "59faa6c8",
   "metadata": {},
   "source": [
    "Let's visualize how this feature extractor works. It is obvious that road (white) and background (black) have successfully segmented. "
   ]
  },
  {
   "cell_type": "code",
   "execution_count": 30,
   "id": "c4c401e4",
   "metadata": {},
   "outputs": [
    {
     "data": {
      "application/vnd.jupyter.widget-view+json": {
       "model_id": "8f4c771187ca410dbdf09e80387c7340",
       "version_major": 2,
       "version_minor": 0
      },
      "text/plain": [
       "interactive(children=(IntSlider(value=699, description='i', max=1399), Output()), _dom_classes=('widget-intera…"
      ]
     },
     "metadata": {},
     "output_type": "display_data"
    },
    {
     "data": {
      "text/plain": [
       "<function __main__.display_feat_extract(i)>"
      ]
     },
     "execution_count": 30,
     "metadata": {},
     "output_type": "execute_result"
    }
   ],
   "source": [
    "def display_feat_extract(i):\n",
    "  plt.imshow(feat_extract(observations[i]), cmap=\"binary\")\n",
    "ipywidgets.interact(display_feat_extract, i=(0, 1399))"
   ]
  },
  {
   "cell_type": "markdown",
   "id": "50e96252",
   "metadata": {},
   "source": [
    "### 2.2.3\n",
    "\n",
    "`thres` is a threshold to classify lane and background. This is most important hyperparameter in our feature extractor."
   ]
  },
  {
   "cell_type": "markdown",
   "id": "776bab69",
   "metadata": {},
   "source": [
    "### 2.2.4\n",
    "\n",
    "We assume the color of roads is closed to grey, which should be distributed near the \"grey-line\" in color space. We use a threshold of 5 for segmentation which can provides tolerance to grey-like colors.  \n",
    "\n",
    "If this threshold is too high, pixels belong to background will be classified as road. "
   ]
  },
  {
   "cell_type": "code",
   "execution_count": 31,
   "id": "238847c6",
   "metadata": {},
   "outputs": [
    {
     "data": {
      "application/vnd.jupyter.widget-view+json": {
       "model_id": "b2def54525b3417b89de172a854e35d8",
       "version_major": 2,
       "version_minor": 0
      },
      "text/plain": [
       "interactive(children=(IntSlider(value=699, description='i', max=1399), Output()), _dom_classes=('widget-intera…"
      ]
     },
     "metadata": {},
     "output_type": "display_data"
    },
    {
     "data": {
      "text/plain": [
       "<function __main__.display_feat_extract_thes_too_high(i)>"
      ]
     },
     "execution_count": 31,
     "metadata": {},
     "output_type": "execute_result"
    }
   ],
   "source": [
    "def display_feat_extract_thes_too_high(i):\n",
    "  plt.imshow(feat_extract(observations[i], 125), cmap=\"binary\")\n",
    "ipywidgets.interact(display_feat_extract_thes_too_high, i=(0, 1399))"
   ]
  },
  {
   "cell_type": "markdown",
   "id": "e66dad78",
   "metadata": {},
   "source": [
    "Likewise, if it's too low, pixels belong to road will be regard as background. In some cases (e.g. 229, 354, 637, 734), lanes are crumbling in the edge."
   ]
  },
  {
   "cell_type": "code",
   "execution_count": 32,
   "id": "f62c9119",
   "metadata": {},
   "outputs": [
    {
     "data": {
      "application/vnd.jupyter.widget-view+json": {
       "model_id": "af798998bdcf432f838bdc8bb9afb6dd",
       "version_major": 2,
       "version_minor": 0
      },
      "text/plain": [
       "interactive(children=(IntSlider(value=699, description='i', max=1399), Output()), _dom_classes=('widget-intera…"
      ]
     },
     "metadata": {},
     "output_type": "display_data"
    },
    {
     "data": {
      "text/plain": [
       "<function __main__.display_feat_extract_thes_too_low(i)>"
      ]
     },
     "execution_count": 32,
     "metadata": {},
     "output_type": "execute_result"
    }
   ],
   "source": [
    "def display_feat_extract_thes_too_low(i):\n",
    "  plt.imshow(feat_extract(observations[i], 1), cmap=\"binary\")\n",
    "ipywidgets.interact(display_feat_extract_thes_too_low, i=(0, 1399))"
   ]
  },
  {
   "cell_type": "markdown",
   "id": "ffdc4861",
   "metadata": {},
   "source": [
    "### 2.2.5\n",
    "\n",
    "Our feature space is a binary image after cutting off boundaries. It has 8064 features."
   ]
  },
  {
   "cell_type": "code",
   "execution_count": 33,
   "id": "02412a52",
   "metadata": {},
   "outputs": [
    {
     "name": "stdout",
     "output_type": "stream",
     "text": [
      "8064\n"
     ]
    }
   ],
   "source": [
    "img = feat_extract(observations[5])\n",
    "DIMENSIONALITY = img.shape[0] * img.shape[1]\n",
    "print(DIMENSIONALITY)"
   ]
  },
  {
   "cell_type": "markdown",
   "id": "533b6a6a",
   "metadata": {},
   "source": [
    "### 2.2.6\n",
    "\n",
    "Apply our feature extractor on all training data"
   ]
  },
  {
   "cell_type": "code",
   "execution_count": 34,
   "id": "ca092ecd",
   "metadata": {},
   "outputs": [
    {
     "name": "stdout",
     "output_type": "stream",
     "text": [
      "New dataset after feature extraction has shape:  (1400, 84, 96, 1)\n"
     ]
    }
   ],
   "source": [
    "obs_extracted = []\n",
    "for i in range(observations.shape[0]):\n",
    "  a = feat_extract(observations[i])\n",
    "  obs_extracted.append(a)\n",
    "obs_extracted = np.stack(obs_extracted)\n",
    "print(\"New dataset after feature extraction has shape: \", obs_extracted.shape)"
   ]
  },
  {
   "cell_type": "markdown",
   "id": "4ee9b49c",
   "metadata": {},
   "source": []
  },
  {
   "cell_type": "markdown",
   "id": "33d131ef",
   "metadata": {},
   "source": [
    "----\n",
    "\n",
    "# 3. Single Planet Action Classification  (35 points)\n",
    "To get started, we will train and test a model that is only suitable for racing on a single planet, i.e., on Earth (planet 0)\n",
    "\n",
    "As a first step split the data into a training, validation, and test set. You can use the provided data, or collect your own.\n",
    "\n",
    "## 3.1. Shortlist Promising Models\n",
    "1. Compare at least 2 models. One of them needs to be a neural network, one of them needs to be not a neural network.\n",
    "2. For each of the models that you are going to compare, explain what are its relative advantages/disadvantages in terms of training time, test time, and number of model parameters compared to the other choices. Also explain how these considerations relate to the target application, and motivate which type of model would be preferred based on these considerations only (so disregarding the actual quality of the models).\n",
    "3. If needed, perform dimensionality reduction before training your selection models. Expain why it is (not) needed.\n",
    "4. Roughly tune those models\n",
    "5. Evaluate the models in terms of performance, bias, variance, etc.\n",
    "6. Please use the macro-F1 score (see sklearn documentation) as your main criterion. Looking at confusion matrices, accuracy etc. might also provide valuable insights. Why is the accuracy score potentially problematic in this setting?\n",
    "7. Pick one algorithm to develop further.\n"
   ]
  },
  {
   "cell_type": "code",
   "execution_count": 35,
   "id": "ad63f86c",
   "metadata": {},
   "outputs": [],
   "source": [
    "# Add code and markdown cells"
   ]
  },
  {
   "cell_type": "markdown",
   "id": "19d872da",
   "metadata": {},
   "source": [
    "To train and test a model on earth, we need to split training set and test set for observations and actions belongs to earth."
   ]
  },
  {
   "cell_type": "code",
   "execution_count": 36,
   "id": "ce54bd46",
   "metadata": {},
   "outputs": [
    {
     "name": "stdout",
     "output_type": "stream",
     "text": [
      "(1000, 84, 96, 1)\n"
     ]
    }
   ],
   "source": [
    "# Prepare data\n",
    "from sklearn.model_selection import train_test_split\n",
    "\n",
    "obs_earth = obs_extracted[planet_ids == 0]\n",
    "act_earth = actions[planet_ids == 0]\n",
    "print(obs_earth.shape)\n",
    "Xe_train, Xe_test, ye_train, ye_test = train_test_split(obs_earth, act_earth, test_size=0.3)"
   ]
  },
  {
   "cell_type": "markdown",
   "id": "a8358d7c",
   "metadata": {},
   "source": [
    "### 3.1.1 Compare 2 models\n",
    "\n",
    "In the following section, we will compare 2 models as follows.\n",
    "\n",
    "- Multi Layer Perceptrons\n",
    "- RandomForest"
   ]
  },
  {
   "cell_type": "markdown",
   "id": "73eb7c18",
   "metadata": {},
   "source": [
    "### 3.1.2 \n",
    "\n"
   ]
  },
  {
   "cell_type": "markdown",
   "id": "dbd1642a",
   "metadata": {},
   "source": [
    "We choose Random Forest because it ensembles Decision Trees so that it performs good prediction results in many learning tasks."
   ]
  },
  {
   "cell_type": "markdown",
   "id": "5c2a93f1",
   "metadata": {},
   "source": [
    "For MLPs, it has longer training time and test time, and the number of model parameters is higher. However, this model can perform better prediction accuracy."
   ]
  },
  {
   "cell_type": "markdown",
   "id": "b3fe88a5",
   "metadata": {},
   "source": [
    "#### 3.1.2.1 Train Neural Network\n",
    "\n",
    "First, we define a Neural Network as follows."
   ]
  },
  {
   "cell_type": "code",
   "execution_count": 37,
   "id": "b9331923",
   "metadata": {},
   "outputs": [],
   "source": [
    "# Neural Network\n",
    "import tensorflow as tf\n",
    "from tensorflow import keras\n",
    "from tensorflow.keras import layers\n",
    "from tensorflow.keras.models import Sequential\n",
    "from tensorflow.keras.layers import Dense, Dropout, Flatten, Activation\n",
    "from tensorflow.keras.utils import to_categorical\n",
    "\n",
    "def NeuralNetwork(X_train, X_test, y_train, y_test):\n",
    "    X_train = X_train.reshape(-1,84,96,1)\n",
    "    X_test = X_test.reshape(-1,84,96,1)\n",
    "\n",
    "    num_classes = 5\n",
    "    batch_size = 256\n",
    "    y_train = to_categorical(y_train, num_classes)\n",
    "    y_test = to_categorical(y_test, num_classes)\n",
    "\n",
    "    model = Sequential()\n",
    "    model.add(Flatten())\n",
    "    model.add(Dense(512))\n",
    "    model.add(Activation('relu'))\n",
    "    model.add(Dense(256))\n",
    "    model.add(Activation('relu'))\n",
    "    model.add(Dense(64))\n",
    "    model.add(Dropout(0.3))\n",
    "    model.add(Activation('relu'))\n",
    "    model.add(Dense(5))\n",
    "    model.add(Activation('softmax'))\n",
    "\n",
    "    opt = keras.optimizers.Adam(learning_rate=1e-4)\n",
    "\n",
    "    model.compile(loss=\"categorical_crossentropy\",\n",
    "                  optimizer=opt,\n",
    "                  metrics=['accuracy'])\n",
    "\n",
    "    history = model.fit(X_train, y_train,\n",
    "              batch_size=batch_size,\n",
    "              epochs=12,\n",
    "              validation_data=(X_test, y_test))\n",
    "    return model"
   ]
  },
  {
   "cell_type": "markdown",
   "id": "c4ddec95",
   "metadata": {},
   "source": [
    "We evaluated its training time as follows, it takes 2.73s to train the MLP model."
   ]
  },
  {
   "cell_type": "code",
   "execution_count": 38,
   "id": "5200a39f",
   "metadata": {},
   "outputs": [
    {
     "name": "stdout",
     "output_type": "stream",
     "text": [
      "Epoch 1/12\n",
      "3/3 [==============================] - 1s 299ms/step - loss: 1.7384 - accuracy: 0.2921 - val_loss: 1.0557 - val_accuracy: 0.5633\n",
      "Epoch 2/12\n",
      "3/3 [==============================] - 0s 57ms/step - loss: 1.1650 - accuracy: 0.5239 - val_loss: 0.9017 - val_accuracy: 0.6633\n",
      "Epoch 3/12\n",
      "3/3 [==============================] - 0s 57ms/step - loss: 1.0146 - accuracy: 0.5847 - val_loss: 0.8247 - val_accuracy: 0.6567\n",
      "Epoch 4/12\n",
      "3/3 [==============================] - 0s 56ms/step - loss: 0.9605 - accuracy: 0.6399 - val_loss: 0.8279 - val_accuracy: 0.6700\n",
      "Epoch 5/12\n",
      "3/3 [==============================] - 0s 56ms/step - loss: 0.8910 - accuracy: 0.6534 - val_loss: 0.7694 - val_accuracy: 0.6567\n",
      "Epoch 6/12\n",
      "3/3 [==============================] - 0s 56ms/step - loss: 0.8322 - accuracy: 0.6538 - val_loss: 0.7809 - val_accuracy: 0.6633\n",
      "Epoch 7/12\n",
      "3/3 [==============================] - 0s 57ms/step - loss: 0.8205 - accuracy: 0.6464 - val_loss: 0.7807 - val_accuracy: 0.6633\n",
      "Epoch 8/12\n",
      "3/3 [==============================] - 0s 60ms/step - loss: 0.7859 - accuracy: 0.6901 - val_loss: 0.7489 - val_accuracy: 0.6700\n",
      "Epoch 9/12\n",
      "3/3 [==============================] - 0s 58ms/step - loss: 0.8068 - accuracy: 0.6501 - val_loss: 0.7599 - val_accuracy: 0.6567\n",
      "Epoch 10/12\n",
      "3/3 [==============================] - 0s 56ms/step - loss: 0.7892 - accuracy: 0.6839 - val_loss: 0.7916 - val_accuracy: 0.6600\n",
      "Epoch 11/12\n",
      "3/3 [==============================] - 0s 56ms/step - loss: 0.7705 - accuracy: 0.6907 - val_loss: 0.7585 - val_accuracy: 0.6600\n",
      "Epoch 12/12\n",
      "3/3 [==============================] - 0s 56ms/step - loss: 0.7476 - accuracy: 0.6745 - val_loss: 0.7533 - val_accuracy: 0.6533\n",
      "Wall time: 3.84 s\n"
     ]
    }
   ],
   "source": [
    "%%time\n",
    "nn = NeuralNetwork(Xe_train, Xe_test, ye_train, ye_test)"
   ]
  },
  {
   "cell_type": "markdown",
   "id": "d942dceb",
   "metadata": {},
   "source": [
    "We evaluate this model on the test set. MLP takes 41.2ms to predict a single observation."
   ]
  },
  {
   "cell_type": "code",
   "execution_count": 39,
   "id": "3a3b0a68",
   "metadata": {},
   "outputs": [
    {
     "name": "stdout",
     "output_type": "stream",
     "text": [
      "Wall time: 88 ms\n"
     ]
    },
    {
     "name": "stderr",
     "output_type": "stream",
     "text": [
      "D:\\Software\\Anaconda\\envs\\tf2\\lib\\site-packages\\tensorflow\\python\\keras\\engine\\sequential.py:450: UserWarning: `model.predict_classes()` is deprecated and will be removed after 2021-01-01. Please use instead:* `np.argmax(model.predict(x), axis=-1)`,   if your model does multi-class classification   (e.g. if it uses a `softmax` last-layer activation).* `(model.predict(x) > 0.5).astype(\"int32\")`,   if your model does binary classification   (e.g. if it uses a `sigmoid` last-layer activation).\n",
      "  warnings.warn('`model.predict_classes()` is deprecated and '\n"
     ]
    }
   ],
   "source": [
    "%%time\n",
    "\n",
    "result_nn = nn.predict_classes(Xe_test[0].reshape(1, 84, 96, 1))"
   ]
  },
  {
   "cell_type": "markdown",
   "id": "d666fee5",
   "metadata": {},
   "source": [
    "#### 3.1.2.2 Random Forest"
   ]
  },
  {
   "cell_type": "code",
   "execution_count": 40,
   "id": "d375c098",
   "metadata": {},
   "outputs": [],
   "source": [
    "# Traditional method\n",
    "from sklearn.discriminant_analysis import LinearDiscriminantAnalysis\n",
    "from sklearn.model_selection import train_test_split\n",
    "from sklearn.ensemble import RandomForestClassifier\n",
    "from sklearn.utils import shuffle\n",
    "from sklearn.metrics import accuracy_score, f1_score, confusion_matrix\n",
    "\n",
    "def RandomForest(X_train, X_test, y_train, y_test, max_depth, n_estimators):\n",
    "    # Random forest\n",
    "    X_train = X_train.reshape([X_train.shape[0], -1])\n",
    "    X_test = X_test.reshape([X_test.shape[0], -1])\n",
    "    clf=RandomForestClassifier(max_depth = max_depth, n_estimators = n_estimators)\n",
    "    clf.fit(X_train,y_train)\n",
    "    y_pred=clf.predict(X_test)\n",
    "\n",
    "    # Accuracy\n",
    "    acc = accuracy_score(y_test, y_pred)\n",
    "    print(\"Accuracy:\", acc)\n",
    "    print(\"Confusion matrix \\n\", confusion_matrix(y_test, y_pred))\n",
    "    return clf"
   ]
  },
  {
   "cell_type": "code",
   "execution_count": 41,
   "id": "856a5dc4",
   "metadata": {},
   "outputs": [
    {
     "name": "stdout",
     "output_type": "stream",
     "text": [
      "Accuracy: 0.6566666666666666\n",
      "Confusion matrix \n",
      " [[122   4   5   6]\n",
      " [ 52   8   0   2]\n",
      " [ 16   1  45   0]\n",
      " [ 16   1   0  22]]\n",
      "Wall time: 529 ms\n"
     ]
    }
   ],
   "source": [
    "%%time\n",
    "rf = RandomForest(Xe_train, Xe_test, ye_train, ye_test, 10, 100)\n"
   ]
  },
  {
   "cell_type": "code",
   "execution_count": 42,
   "id": "18aa303e",
   "metadata": {},
   "outputs": [
    {
     "name": "stdout",
     "output_type": "stream",
     "text": [
      "Wall time: 8.98 ms\n"
     ]
    }
   ],
   "source": [
    "%%time\n",
    "result_rf = rf.predict(Xe_test[0].reshape(1, 84*96))"
   ]
  },
  {
   "cell_type": "markdown",
   "id": "b87c9fdf",
   "metadata": {},
   "source": [
    "From previous code outputs, you may find that the training time for Random Forest is **579** ms, and test time for single input is **10.1** ms"
   ]
  },
  {
   "cell_type": "markdown",
   "id": "9f04180f",
   "metadata": {},
   "source": [
    "### 3.1.2.3\n",
    "\n",
    "\n",
    "\n",
    "How there considerations related to the target application:\n",
    "- Accuracy: Higher accuracy makes the AI make less mistake, and it definite leads to higher reward.\n",
    "- Training time: Shorter training time will not increase the final reward. However it will reduce time on developing this robot AI\n",
    "- Test time: Longer test time will make the robot car not easy to face the sudden sharp turning in the environment, therefore it will influence the final reward.\n"
   ]
  },
  {
   "cell_type": "markdown",
   "id": "a05d3abe",
   "metadata": {},
   "source": [
    "| Methods | Accuracy | Training time | Test time | Number of model parameters\n",
    "| - | - | - | - | - |\n",
    "| MLP | 0.68 | 2.73s | 41.2ms | 0 |\n",
    "| Random Forest | 0.6867 | 579ms | 9.92ms | 0 |"
   ]
  },
  {
   "cell_type": "markdown",
   "id": "8faf05fb",
   "metadata": {},
   "source": [
    "### 3.1.3 \n",
    "\n",
    "Currently we do not need dimensionality reduction techiques. This is due to 2 obvious reasons. \n",
    "- One reason is our models are light-weight and do not consume much time to train or test. \n",
    "- The other is dimensionality reduction, for example, PCA, will destruct data's spatial constructions. After extension tests, we found applying dimensionality reduction methods will not increase accuracy"
   ]
  },
  {
   "cell_type": "markdown",
   "id": "892a805e",
   "metadata": {},
   "source": [
    "### 3.1.4\n",
    "\n",
    "The hyperparameters in the above models are obtained from extensive tuning."
   ]
  },
  {
   "cell_type": "markdown",
   "id": "c1dc8d95",
   "metadata": {},
   "source": [
    "### 3.1.5\n",
    "\n",
    "\n"
   ]
  },
  {
   "cell_type": "code",
   "execution_count": null,
   "id": "bdf2b113",
   "metadata": {},
   "outputs": [],
   "source": [
    "from sklearn.metrics import accuracy_score, confusion_matrix\n",
    "\n",
    "ye_t_pred_nn = nn.predict_classes(Xe_train)\n",
    "print(\"======== Neural Network ========\")\n",
    "print(\"Train size\", ye_t_pred_nn.shape)\n",
    "print(\"Train Accuracy:\\t\", accuracy_score(ye_train, ye_t_pred_nn))\n",
    "print(\"Train Confusion Matrix:\\n\", confusion_matrix(ye_train, ye_t_pred_nn))\n",
    "\n",
    "print(\"--------------------------------\")\n",
    "ye_pred_nn = nn.predict_classes(Xe_test)\n",
    "print(\"Test size\", ye_pred_nn.shape)\n",
    "print(\"Test Accuracy:\\t\", accuracy_score(ye_test, ye_pred_nn))\n",
    "print(\"Test Confusion Matrix:\\n\", confusion_matrix(ye_test, ye_pred_nn))"
   ]
  },
  {
   "cell_type": "code",
   "execution_count": null,
   "id": "be3cced4",
   "metadata": {},
   "outputs": [],
   "source": [
    "from sklearn.metrics import accuracy_score, confusion_matrix\n",
    "print(\"======== Random Forest ========\")\n",
    "ye_t_pred_rf = rf.predict(Xe_train.reshape(-1, 84*96))\n",
    "print(\"Train size\", ye_t_pred_rf.shape)\n",
    "print(\"Train Accuracy:\\n\\t\", accuracy_score(ye_train, ye_t_pred_rf))\n",
    "print(\"Train Confusion Matrix:\\n\", confusion_matrix(ye_train, ye_t_pred_rf))\n",
    "print(\"--------------------------------\")\n",
    "\n",
    "ye_pred_rf = rf.predict(Xe_test.reshape(-1, 84*96))\n",
    "print(\"Test size\", ye_pred_rf.shape)\n",
    "print(\"Test Accuracy:\\t\", accuracy_score(ye_test, ye_pred_rf))\n",
    "print(\"Test Confusion Matrix:\\n\", confusion_matrix(ye_test, ye_pred_rf))"
   ]
  },
  {
   "cell_type": "markdown",
   "id": "87b054d9",
   "metadata": {},
   "source": [
    "Analysis\n",
    "\n",
    "1. For MLP, it performs 69% accuracy on training set and 71% accuracy on test set. \n",
    "2. For Random Forest, it performs 87% accuracy on training set and 68% accuracy on test set.\n",
    "\n",
    "According to previous data, we can infer that both models have high bias. Random Forest has higher variance."
   ]
  },
  {
   "cell_type": "markdown",
   "id": "22bd3af5",
   "metadata": {},
   "source": [
    "### 3.1.6"
   ]
  },
  {
   "cell_type": "code",
   "execution_count": null,
   "id": "bc334d4d",
   "metadata": {},
   "outputs": [],
   "source": [
    "from sklearn.metrics import f1_score\n",
    "\n",
    "f1_nn = f1_score(ye_test, ye_pred_nn, average='macro')\n",
    "f1_rf = f1_score(ye_test, ye_pred_rf, average='macro')\n",
    "print(\"F1 score Neural Network:\\t\", f1_nn)\n",
    "print(\"F1 score Random Forest :\\t\", f1_rf)"
   ]
  },
  {
   "cell_type": "markdown",
   "id": "0dc8d95d",
   "metadata": {},
   "source": [
    "We found that Random Forest has higher marco-F1 scores. \n",
    "\n",
    "From the confusion matrix above we can see many observations are classified as \"No Operation\" in both models. In other words, recall is higher than precision. We prefer model with balanced precision and recall. Model with higher F1 score can provide balanced precision and recall. However, accuracy can not provides such information. This is the reason that accuracy score potentially problematic."
   ]
  },
  {
   "cell_type": "markdown",
   "id": "6c15c458",
   "metadata": {},
   "source": [
    "### 3.1.7\n",
    "\n",
    "We will use *Random Forest* in following discussion."
   ]
  },
  {
   "cell_type": "markdown",
   "id": "44f3acad",
   "metadata": {},
   "source": [
    "## 3.2. Fine-Tune the System\n",
    "1. What are the most important hyperparameters of your chosen algorithm?\n",
    "2. Perform hyperparameter optimization (including pre-processing steps)\n",
    "3. Compare at least 3 models with different sets of hyperparameters \n",
    "4. Evaluate the final model (similar to “Shortlist Promising Models” above)"
   ]
  },
  {
   "cell_type": "markdown",
   "id": "ffff96e5",
   "metadata": {},
   "source": [
    "### 3.2.1\n",
    "\n",
    "The most important hyperparameters of my chosen algorithm is the `max_depth` and `n_estimators`"
   ]
  },
  {
   "cell_type": "markdown",
   "id": "59fd2c34",
   "metadata": {},
   "source": [
    "### 3.2.2 "
   ]
  },
  {
   "cell_type": "code",
   "execution_count": null,
   "id": "e28702cc",
   "metadata": {},
   "outputs": [],
   "source": [
    "# pre-processing: feature extraction\n",
    "from sklearn.model_selection import train_test_split\n",
    "\n",
    "def road_extract(img, thres=10):\n",
    "  img_ = img[:84, :96, :]\n",
    "  array = np.resize(img, [img.shape[0]*img.shape[1], 3])\n",
    "\n",
    "  p = np.array([1,1,1])\n",
    "  q = np.array([0,0,0])\n",
    "  x = p - q\n",
    "  no_bg = np.linalg.norm(np.outer(np.dot(array - q, x) / np.dot(x, x), x) + q - array, axis=1) > thres\n",
    "  img_ = np.resize(no_bg, [84, 96, 1])\n",
    "  return img_ * 1.0\n",
    "\n",
    "def feat_extract(obs, thres=10):\n",
    "  if len(obs.shape) == 3:\n",
    "    return road_extract(obs)\n",
    "  if len(obs.shape) == 4:\n",
    "    l = [road_extract(x) for x in obs]\n",
    "    return np.stack(l)\n",
    "\n",
    "new_obs = []\n",
    "for i in range(observations.shape[0]):\n",
    "  new_obs.append(feat_extract(observations[i]))\n",
    "new_obs = np.stack(new_obs)\n",
    "\n",
    "new_obs = new_obs.reshape(1400,-1)\n",
    "X_train, X_test, y_train, y_test = train_test_split(new_obs[0:1000], actions[0:1000], test_size=0.3)"
   ]
  },
  {
   "cell_type": "markdown",
   "id": "b846ab89",
   "metadata": {},
   "source": [
    "We perform Grid Search method for hyperparameter optimization. Note: It took half an hour to run the following block."
   ]
  },
  {
   "cell_type": "code",
   "execution_count": null,
   "id": "d11f7692",
   "metadata": {},
   "outputs": [],
   "source": [
    "# from sklearn.ensemble import RandomForestClassifier\n",
    "# from sklearn import metrics\n",
    "# from sklearn.model_selection import GridSearchCV\n",
    "\n",
    "# clf_rf=RandomForestClassifier()\n",
    "\n",
    "# parameters = {'max_depth':[1, 10, 20, 30, 40, 50, 60, 70, 80, 90, 100], \n",
    "#               'n_estimators':[1,10,20,30,40,50,60,70,80,90,100,110,120,130,140,150, 160, 170, 180, 190, 200]}\n",
    "\n",
    "# clf = GridSearchCV(clf_rf, parameters)\n",
    "# clf.fit(X_train, y_train)\n",
    "# y_pred=clf.predict(X_test)\n",
    "# acc = metrics.accuracy_score(y_test, y_pred)\n",
    "# print(\"Accuracy:\", acc)"
   ]
  },
  {
   "cell_type": "markdown",
   "id": "94b34267",
   "metadata": {},
   "source": [
    "The best parameter set after extensive search is\n",
    "- `max_depth` = 10\n",
    "- `n_estimator` = 100"
   ]
  },
  {
   "cell_type": "code",
   "execution_count": null,
   "id": "ac268afd",
   "metadata": {},
   "outputs": [],
   "source": [
    "from sklearn.ensemble import RandomForestClassifier\n",
    "from sklearn import metrics\n",
    "\n",
    "clf_rf_param1=RandomForestClassifier(max_depth = 10, n_estimators = 100)\n",
    "clf_rf_param2=RandomForestClassifier(max_depth = 50, n_estimators = 250)\n",
    "clf_rf_param3=RandomForestClassifier(max_depth = 20, n_estimators = 400)\n",
    "\n",
    "clf_rf_param1.fit(X_train,y_train)\n",
    "clf_rf_param2.fit(X_train,y_train)\n",
    "clf_rf_param3.fit(X_train,y_train)\n",
    "\n",
    "y_pred_param1=clf_rf_param1.predict(X_test)\n",
    "y_pred_param2=clf_rf_param2.predict(X_test)\n",
    "y_pred_param3=clf_rf_param3.predict(X_test)\n",
    "#y_pred_param_best = clf.predict(X_test)\n",
    "\n",
    "acc_param1 = metrics.accuracy_score(y_test, y_pred_param1)\n",
    "acc_param2 = metrics.accuracy_score(y_test, y_pred_param2)\n",
    "acc_param3 = metrics.accuracy_score(y_test, y_pred_param3)\n",
    "f1_score_p1 = metrics.f1_score(y_test, y_pred_param1, average='macro')\n",
    "f1_score_p2 = metrics.f1_score(y_test, y_pred_param2, average='macro')\n",
    "f1_score_p3 = metrics.f1_score(y_test, y_pred_param3, average='macro')\n",
    "confmat_p1 = metrics.confusion_matrix(y_test, y_pred_param1)\n",
    "confmat_p2 = metrics.confusion_matrix(y_test, y_pred_param2)\n",
    "confmat_p3 = metrics.confusion_matrix(y_test, y_pred_param3)\n",
    "\n",
    "print(\"==== parameter set 1 ====\\n\")\n",
    "print(\"Accuracy:\\t\", acc_param1)\n",
    "print(\"F1 score:\\t\", f1_score_p1)\n",
    "print(\"Confusion Matrix:\\n\", confmat_p1)\n",
    "print(\"==== parameter set 2 ====\\n\")\n",
    "print(\"Accuracy:\\t\", acc_param2)\n",
    "print(\"F1 score:\\t\", f1_score_p2)\n",
    "print(\"Confusion Matrix:\\n\", confmat_p2)\n",
    "print(\"==== parameter set 3 ====\\n\")\n",
    "print(\"Accuracy:\\t\", acc_param3)\n",
    "print(\"F1 score:\\t\", f1_score_p3)\n",
    "print(\"Confusion Matrix:\\n\", confmat_p3)"
   ]
  },
  {
   "cell_type": "markdown",
   "id": "9c7bed8b",
   "metadata": {},
   "source": [
    "From above results we can obtain that the optimal parameter set after grid search achieves higher accuracy and better F1 score. "
   ]
  },
  {
   "cell_type": "markdown",
   "id": "84bd8536",
   "metadata": {},
   "source": [
    "### 3.2.4  Evaluation\n",
    "\n",
    "The final model is model with the optimal parameter set."
   ]
  },
  {
   "cell_type": "code",
   "execution_count": null,
   "id": "4e5da7dd",
   "metadata": {},
   "outputs": [],
   "source": [
    "ye_t_pred_rf = rf.predict(Xe_train.reshape(-1, 84*96))\n",
    "print(\"Train size\", ye_t_pred_rf.shape)\n",
    "print(\"Train Accuracy:\\n\\t\", accuracy_score(ye_train, ye_t_pred_rf))\n",
    "print(\"Train Confusion Matrix:\\n\", confusion_matrix(ye_train, ye_t_pred_rf))\n",
    "print(\"--------------------------------\")\n",
    "\n",
    "ye_pred_rf = rf.predict(Xe_test.reshape(-1, 84*96))\n",
    "print(\"Test size\", ye_pred_rf.shape)\n",
    "print(\"Test Accuracy:\\t\", accuracy_score(ye_test, ye_pred_rf))\n",
    "print(\"Test Confusion Matrix:\\n\", confusion_matrix(ye_test, ye_pred_rf))"
   ]
  },
  {
   "cell_type": "code",
   "execution_count": null,
   "id": "8e86175d",
   "metadata": {},
   "outputs": [],
   "source": [
    "# Add code and markdown cells"
   ]
  },
  {
   "cell_type": "markdown",
   "id": "0dcdc06e",
   "metadata": {},
   "source": [
    "---\n",
    "\n",
    "# 4. Enabling Generalization (20 points)\n",
    "Now we are going to train and test a single model that is suitable for racing on all planets, i.e., a model that can generalize between planets and even to unseen planets, and that is robust to different colors of the background terrain. The idea is to take the final model you developed above as a starting point and to further develop it further for generalization.\n",
    "\n",
    "The simulator provides you access to Neptune. However, this is to be treated as the test set, i.e., you are only allowed to test your model on it as the very final step. I.e., do not tweak your model after running that environment, you would be overfitting to the test data. Performance on the Neptune environment will NOT influence your grade.\n",
    "\n",
    "1. How can the 3 provided datasets be used to train a model that can generalize, and even more importantly how can they be used to evaluate whether a model can generalize? (Hint: Lecture 2)\n",
    "2. Above you designed features for action classification, evaluate whether that feature is indeed suitable for generalization. If necessary adapt the feature extraction.\n",
    "3. Compare how well models trained just on the data from Earth and models trained on data of multiple planets generalize to unseen planets (using the approach from the first bullet, do *not* use Neptune for this comparison). Make sure that this is a fair comparison, e.g., in terms of the amount and quality of the data.\n",
    "4. Discuss at least 2 methods that can be employed to make your model perform better and be robust to the variations we have in this scenario (methods for any step are fine: data collection, data augmentation, pre-processing, model structure, training, etc.)\n",
    "5. Implement at least one of those methods.\n",
    "6. Evaluate the final model (similar to “Shortlist Promising Models” above) for generalization making use only of data from Earth, Mars, and Saturn.\n",
    "7. Test the final model on the Neptune environment and discuss its performance.\n",
    "8. Save the parameters of your best multi scenario model to your hard drive (use pickle for sklearn or built-in save/load for keras), you will need to be able to reload your model without training in the next step. Be sure to include the saved parameters in your zip file so we can evaluate your best model too, even without rerunning the notebook up to here."
   ]
  },
  {
   "cell_type": "markdown",
   "id": "8414ab5e",
   "metadata": {},
   "source": [
    "## 4.1\n",
    "\n",
    "First, this task is a classification task to classify observations to different actions. To train a model that can generalize, a robust feature extraction method that can resist color differences but emphasize road's curvature and boundaries is required. Good feature extraction method makes distributions of different actions easy to separate.\n",
    "\n",
    "To make evaluate the generalization ability of the model, we can apply k-fold Cross-validation."
   ]
  },
  {
   "cell_type": "markdown",
   "id": "1f98010e",
   "metadata": {},
   "source": [
    "## 4.2\n",
    "\n",
    "This feature is suitable for generalization because the color information is discarded and curvature and boundaries are kept. We use following code to prove that. As you can see, observations from 3 planets after feature extraction are binary images. Therefore, these features can be used for generalization.  "
   ]
  },
  {
   "cell_type": "code",
   "execution_count": null,
   "id": "4a1c8314",
   "metadata": {},
   "outputs": [],
   "source": [
    "def vis_extracted_features(idx, observations, planet_ids):\n",
    "    fig = plt.figure(figsize=(18, 6))\n",
    "    fig.add_subplot(1,3,1)\n",
    "    plt.imshow(observations[planet_ids==0][idx], cmap='binary')\n",
    "    plt.title('Green planet')\n",
    "    \n",
    "    fig.add_subplot(1,3,2)\n",
    "    plt.imshow(observations[planet_ids==1][idx], cmap='binary')\n",
    "    plt.title('Red planet')\n",
    "    \n",
    "    fig.add_subplot(1,3,3)\n",
    "    plt.imshow(observations[planet_ids==2][idx], cmap='binary')\n",
    "    plt.title('Brown planet')\n",
    "    \n",
    "vis_extracted_features(150, obs_extracted, planet_ids)       "
   ]
  },
  {
   "cell_type": "markdown",
   "id": "08d139aa",
   "metadata": {},
   "source": [
    "Furthermore, we could visualize the data using dimensionality reduction techniques to evaluate if feature extracted data is indeed suitable for generalization. If data is suitable for generalization, it should have the same distribution among all planets. Therefore, we can use some dimensionality reduction methods to visualize how data distributed in feature space. TSNE reduces dimensionality while trying to keep similar instances close and dissimilar instances apart. It remains the real data distribution in some extent."
   ]
  },
  {
   "cell_type": "code",
   "execution_count": null,
   "id": "727ef777",
   "metadata": {},
   "outputs": [],
   "source": [
    "from sklearn.manifold import TSNE\n",
    "feature_embedded = TSNE(n_components=2).fit_transform(obs_extracted.reshape(obs_extracted.shape[0], -1))\n",
    "\n",
    "def plot_data(X, y, feat_1, feat_2, class_1=0, class_2=1, class_3=2):\n",
    "    plt.plot(X[y==class_1,feat_1], X[y==class_1,feat_2], '.', label='planet '+str(class_1))\n",
    "    plt.plot(X[y==class_2,feat_1], X[y==class_2,feat_2], '.', label='planet '+str(class_2))\n",
    "    plt.plot(X[y==class_3,feat_1], X[y==class_3,feat_2], '.', label='planet '+str(class_2))\n",
    "    plt.grid('on')\n",
    "    plt.axis('equal')\n",
    "    plt.xlabel('feature ' + str(feat_1))\n",
    "    plt.ylabel('feature ' + str(feat_2))\n",
    "    plt.legend()\n",
    "\n",
    "plot_data(feature_embedded, planet_ids, 0, 1)"
   ]
  },
  {
   "cell_type": "markdown",
   "id": "85df94f5",
   "metadata": {},
   "source": [
    "It is obvious that extracted features have the same distribution. It can resist color differences. This is indeed suitable for generalization."
   ]
  },
  {
   "cell_type": "markdown",
   "id": "e1bfb372",
   "metadata": {},
   "source": [
    "## 4.3\n",
    "\n",
    "To guarantee a fair comparison between two models, we should make sure our dataset have the same size."
   ]
  },
  {
   "cell_type": "code",
   "execution_count": null,
   "id": "84a59fcb",
   "metadata": {},
   "outputs": [],
   "source": [
    "# Prepare 3 planet data\n",
    "from sklearn.model_selection import train_test_split\n",
    "from sklearn.utils import resample\n",
    "from sklearn.model_selection import cross_val_predict, cross_val_score, cross_validate\n",
    "\n",
    "\n",
    "obs_3plnt = feat_extract(observations)\n",
    "act_3plnt = actions\n",
    "\n",
    "# make this dataset have the same size with earth\n",
    "X3, Y3 = resample(obs_3plnt, act_3plnt, n_samples=1000, random_state=0)\n",
    "print(\"Samples after resample is \", Y3.shape[0])\n",
    "\n",
    "# split train and test set\n",
    "X3_train, X3_test, y3_train, y3_test = train_test_split(X3.reshape(1000, -1), Y3, test_size=0.3, random_state=0)\n",
    "Xe_train, Xe_test, ye_train, ye_test = train_test_split(obs_earth.reshape(1000, -1), act_earth, test_size=0.3, random_state=0)\n",
    "\n",
    "print(\"Data shape\\n\", \"Earth\\t\", X3_train.shape, \"3 Planets\\t\", Xe_train.shape)"
   ]
  },
  {
   "cell_type": "code",
   "execution_count": null,
   "id": "cc7c051b",
   "metadata": {},
   "outputs": [],
   "source": [
    "from sklearn.ensemble import RandomForestClassifier\n",
    "\n",
    "# Apply the best classifier\n",
    "rf_best = RandomForestClassifier(max_depth=5, n_estimators=26)\n",
    "\n",
    "# Train new model for earth data\n",
    "score_e = cross_val_score(rf_best, Xe_train, ye_train, cv=10)\n",
    "\n",
    "# Train new model for 3 planets\n",
    "score_3 = cross_val_score(rf_best, X3_train, y3_train, cv=10)\n",
    "\n",
    "print(\"[Accuracy Avg. ] \\n\", \"Earth\\t\", np.mean(score_e), \"\\t\\t3 Planets\\t\", np.mean(score_3))\n",
    "print(\"[Accuracy Std. ] \\n\", \"Earth\\t\", np.std(score_e), \"\\t\\t3 Planets\\t\", np.std(score_3))"
   ]
  },
  {
   "cell_type": "markdown",
   "id": "a789b7b7",
   "metadata": {},
   "source": [
    "Compare macro F1 scores"
   ]
  },
  {
   "cell_type": "code",
   "execution_count": null,
   "id": "f7b506bd",
   "metadata": {},
   "outputs": [],
   "source": [
    "# Train new model for earth data\n",
    "score_e = cross_val_score(rf_best, Xe_train, ye_train, cv=10, scoring='f1_macro')\n",
    "\n",
    "# Train new model for 3 planets\n",
    "score_3 = cross_val_score(rf_best, X3_train, y3_train, cv=10, scoring='f1_macro')\n",
    "\n",
    "print(\"[Macro-F1 Avg. ] \\n\", \"Earth\\t\", np.mean(score_e), \"\\t\\t3 Planets\\t\", np.mean(score_3))\n",
    "print(\"[Macro-F1 Std. ] \\n\", \"Earth\\t\", np.std(score_e), \"\\t\\t3 Planets\\t\", np.std(score_3))"
   ]
  },
  {
   "cell_type": "markdown",
   "id": "c0e53ffc",
   "metadata": {},
   "source": [
    "## 4.4\n",
    "\n",
    "- Data collection:\n",
    "  1. Due to provided data is noisy and disturbance, and actions are imbalanced, we can collect better data to aid training.\n",
    "  2. If we have enough data, we can discard noisy and disturbance data.\n",
    "- Pre-processing\n",
    "  1. We can apply PCA for feature extraction before training model.\n"
   ]
  },
  {
   "cell_type": "markdown",
   "id": "4ff74ba2",
   "metadata": {},
   "source": [
    "## 4.5\n"
   ]
  },
  {
   "cell_type": "code",
   "execution_count": null,
   "id": "73009ec4",
   "metadata": {},
   "outputs": [],
   "source": []
  },
  {
   "cell_type": "markdown",
   "id": "f45282fd",
   "metadata": {},
   "source": [
    "## 4.6\n",
    "\n",
    "\n"
   ]
  },
  {
   "cell_type": "code",
   "execution_count": null,
   "id": "d3d93153",
   "metadata": {},
   "outputs": [],
   "source": []
  },
  {
   "cell_type": "markdown",
   "id": "3327b205",
   "metadata": {},
   "source": [
    "## 4.7"
   ]
  },
  {
   "cell_type": "code",
   "execution_count": null,
   "id": "c0a2d414",
   "metadata": {},
   "outputs": [],
   "source": []
  },
  {
   "cell_type": "markdown",
   "id": "bd914eb4",
   "metadata": {},
   "source": [
    "## 4.8"
   ]
  },
  {
   "cell_type": "code",
   "execution_count": null,
   "id": "40cbb175",
   "metadata": {},
   "outputs": [],
   "source": []
  },
  {
   "cell_type": "code",
   "execution_count": null,
   "id": "fee30157",
   "metadata": {},
   "outputs": [],
   "source": [
    "# Add code and markdown cells"
   ]
  },
  {
   "cell_type": "code",
   "execution_count": null,
   "id": "2e1c515d",
   "metadata": {},
   "outputs": [],
   "source": [
    "# Prepare data\n",
    "\n",
    "# X0 = X[actions == 0][:200]\n",
    "# X1 = X[actions == 1][:200]\n",
    "# X2 = X[actions == 2][:200]\n",
    "# X3 = X[actions == 3][:200]\n",
    "# X = np.concatenate([X0, X1, X2, X3])\n",
    "# print(X.shape)\n",
    "# Y = np.concatenate([np.zeros(X0.shape[0], np.int),\n",
    "#                     1+np.zeros(X1.shape[0], np.int),\n",
    "#                     2+np.zeros(X2.shape[0], np.int), \n",
    "#                     3 + np.zeros(X3.shape[0], np.int)])\n",
    "# print(Y.shape)\n",
    "# from sklearn.utils import shuffle\n",
    "# X, Y = shuffle(X, Y)\n"
   ]
  },
  {
   "cell_type": "markdown",
   "id": "b52b5093",
   "metadata": {},
   "source": [
    "---\n",
    "\n",
    "# 5. Present Your Solution (5 points)\n",
    "1. Summarize your main decisions and insights\n",
    "2. Create a stand-alone demo. I.e., a block of cells that can be run on its own. For that you will need to load your pre-trained best model you saved in the previous section and run it on a Neptune track.\n"
   ]
  },
  {
   "cell_type": "code",
   "execution_count": null,
   "id": "6c6c1a43",
   "metadata": {},
   "outputs": [],
   "source": [
    "# Add code and markdown cells"
   ]
  },
  {
   "cell_type": "code",
   "execution_count": null,
   "id": "4fa27fd9",
   "metadata": {},
   "outputs": [],
   "source": []
  },
  {
   "cell_type": "code",
   "execution_count": null,
   "id": "ceaae71d",
   "metadata": {},
   "outputs": [],
   "source": [
    "def f_dummy(observation):\n",
    "    input_ = feat_extract(observation)\n",
    "    prediction = clf_rf.predict(input_.reshape(1, -1))\n",
    "    action = prediction[0]\n",
    "    # if action == 0:\n",
    "    #     action = 1\n",
    "    return action"
   ]
  },
  {
   "cell_type": "code",
   "execution_count": null,
   "id": "b967146d",
   "metadata": {},
   "outputs": [],
   "source": [
    "rs = run_simulation(f_dummy, render=1, planet_id=1, track_id=3)"
   ]
  },
  {
   "cell_type": "code",
   "execution_count": null,
   "id": "b9b97258",
   "metadata": {},
   "outputs": [],
   "source": [
    "plt.figure(figsize=(10,4)) # create a wide figure (size 10) which is not so tall (size 4)\n",
    "plt.subplot(1,2,1) # create subplot of 1 row, 2 columns, enable plotting in first cell\n",
    "plt.plot(rs)\n",
    "plt.xlabel('iteration')\n",
    "plt.ylabel('reward')\n",
    "plt.title('Reward per iteration')\n",
    "plt.grid()\n",
    "\n",
    "plt.subplot(1,2,2) # create subplot of 1 row, 2 columns, enable plotting in first cell\n",
    "plt.plot(np.cumsum(rs)) # Cumulative sum of rewards\n",
    "plt.xlabel('iteration')\n",
    "plt.ylabel('total reward')\n",
    "plt.title('Cumulative reward')\n",
    "plt.grid()\n",
    "\n",
    "\n",
    "print('Average reward:', np.mean(rs))"
   ]
  },
  {
   "cell_type": "markdown",
   "id": "b370f51a",
   "metadata": {},
   "source": [
    "# PLAYGROUND\n"
   ]
  },
  {
   "cell_type": "code",
   "execution_count": null,
   "id": "665a77c9",
   "metadata": {},
   "outputs": [],
   "source": [
    "def feat_extract(img, thres=10):\n",
    "  img_ = img[:84, :96, :].copy()\n",
    "  array = np.resize(img, [img.shape[0]*img.shape[1], 3])\n",
    "\n",
    "  p = np.array([1,1,1])\n",
    "  q = np.array([0,0,0])\n",
    "  x = p - q\n",
    "  no_bg = np.linalg.norm(np.outer(np.dot(array - q, x) / np.dot(x, x), x) + q - array, axis=1) < thres\n",
    "  img_ = np.resize(no_bg, [84, 96, 1])\n",
    "  return img_ * 1"
   ]
  },
  {
   "cell_type": "code",
   "execution_count": null,
   "id": "6fdfc1ef",
   "metadata": {},
   "outputs": [],
   "source": [
    "obs_extracted = []\n",
    "for i in range(observations.shape[0]):\n",
    "  msk = feat_extract(observations[i])\n",
    "  obs_extracted.append(msk)\n",
    "  # obs_extracted.append(observations[i, :84, :, :] * msk)\n",
    "obs_extracted = np.stack(obs_extracted)\n",
    "print(\"New dataset after feature extraction has shape: \", obs_extracted.shape)"
   ]
  },
  {
   "cell_type": "code",
   "execution_count": null,
   "id": "1c3718cb",
   "metadata": {},
   "outputs": [],
   "source": [
    "# Prepare data\n",
    "\n",
    "X0 = obs_extracted[actions == 0][:200]\n",
    "X1 = obs_extracted[actions == 1][:200]\n",
    "X2 = obs_extracted[actions == 2][:200]\n",
    "X3 = obs_extracted[actions == 3][:200]\n",
    "X = np.concatenate([X0, X1, X2, X3])\n",
    "print(X.shape)\n",
    "Y = np.concatenate([np.zeros(X0.shape[0], np.int),\n",
    "                    1+np.zeros(X1.shape[0], np.int),\n",
    "                    2+np.zeros(X2.shape[0], np.int), \n",
    "                    3 + np.zeros(X3.shape[0], np.int)])\n",
    "print(Y.shape)\n",
    "from sklearn.utils import shuffle\n",
    "X, Y = shuffle(X, Y)"
   ]
  },
  {
   "cell_type": "code",
   "execution_count": null,
   "id": "232b921e",
   "metadata": {},
   "outputs": [],
   "source": [
    "from sklearn.discriminant_analysis import LinearDiscriminantAnalysis\n",
    "from sklearn.decomposition import PCA\n",
    "from sklearn.model_selection import train_test_split\n",
    "from sklearn.ensemble import RandomForestClassifier    #feature_vec = observation.flatten()\n",
    "from sklearn.utils import shuffle\n",
    "from sklearn.metrics import accuracy_score, f1_score, confusion_matrix\n",
    "\n",
    "# X_shuffled, y_shuffled = shuffle(X.reshape([1400, -1]), actions)\n",
    "X_shuffled, y_shuffled = shuffle(X.reshape([X.shape[0], -1]), Y, random_state=5)\n",
    "X_train, X_test, y_train, y_test = train_test_split(X_shuffled, y_shuffled, test_size=0.3, random_state=5) # 70% training and 30% test\n",
    "\n",
    "# clf_LDA = LinearDiscriminantAnalysis()\n",
    "# clf_LDA.fit(X_train, y_train)\n",
    "# X_train_LDA = clf_LDA.transform(X_train)\n",
    "\n",
    "clf_pca = PCA(0.8)\n",
    "clf_pca.fit(X_train)\n",
    "X_train_pca = clf_pca.transform(X_train)\n",
    "print(X_train_pca.shape)\n",
    "\n",
    "clf_rf=RandomForestClassifier(max_depth=4, n_estimators=20, random_state=5)\n",
    "clf_rf.fit(X_train_pca, y_train)\n",
    "\n",
    "# X_test_LDA = clf_LDA.transform(X_test)\n",
    "X_test_pca = clf_pca.transform(X_test)\n",
    "y_pred=clf_rf.predict(X_test_pca)\n",
    "print(\"Accuracy:\\n\", accuracy_score(y_test, y_pred))\n",
    "print(\"Confusion Matrix:\\n\", confusion_matrix(y_test, y_pred))"
   ]
  },
  {
   "cell_type": "code",
   "execution_count": null,
   "id": "e295d4aa",
   "metadata": {},
   "outputs": [],
   "source": [
    "def f_dummy(observation):\n",
    "    input_ = feat_extract(observation)\n",
    "    # input_ = observation[:84, :, :] * input_\n",
    "    # input_ = clf_LDA.transform(input_1)\n",
    "    input_ = clf_pca.transform(input_.reshape(1, -1))\n",
    "    prediction = clf_rf.predict(input_)\n",
    "    action = prediction[0]\n",
    "    if action == 0:\n",
    "        if np.random.rand() > 0.5: \n",
    "            action = 1\n",
    "    return action"
   ]
  },
  {
   "cell_type": "code",
   "execution_count": null,
   "id": "05e49cbe",
   "metadata": {},
   "outputs": [],
   "source": []
  },
  {
   "cell_type": "code",
   "execution_count": null,
   "id": "8ebe527e",
   "metadata": {},
   "outputs": [],
   "source": [
    "rs = run_simulation(f_dummy, render=1, planet_id=3, track_id=1)"
   ]
  },
  {
   "cell_type": "code",
   "execution_count": null,
   "id": "f39864ec",
   "metadata": {},
   "outputs": [],
   "source": [
    "import tensorflow as tf\n",
    "from tensorflow import keras\n",
    "from tensorflow.keras import layers\n",
    "from sklearn.model_selection import train_test_split\n",
    "from tensorflow.keras.datasets import mnist\n",
    "from tensorflow.keras.models import Sequential\n",
    "from tensorflow.keras.layers import Dense, Dropout, Flatten\n",
    "from tensorflow.keras.layers import Conv2D, MaxPooling2D\n",
    "\n",
    "\n",
    "X_train, X_test, y_train, y_test = train_test_split(X.reshape(X.shape[0], -1), Y, test_size=0.3, random_state=5) # 70% training and 30% test\n",
    "\n",
    "num_classes = 4\n",
    "batch_size = 32\n",
    "\n",
    "model = Sequential()\n",
    "model.add(Dense(512, activation='relu', input_shape=X_train.shape[1:]))\n",
    "# model.add(Conv2D(32, kernel_size=(5, 5),\n",
    "#                  activation='relu',\n",
    "#                  input_shape=X_train.shape[1:]))\n",
    "# model.add(Conv2D(32, (3, 3), activation='relu'))\n",
    "# model.add(Conv2D(16, (3, 3), activation='relu'))\n",
    "# model.add(Flatten())\n",
    "model.add(Dense(512, activation='relu'))\n",
    "model.add(Dense(128, activation='relu'))\n",
    "# model.add(Dense(32, activation='relu'))\n",
    "model.add(Dense(num_classes, activation='softmax'))\n",
    "\n",
    "opt = keras.optimizers.Adam(learning_rate=1e-4)\n",
    "model.compile(loss=keras.losses.SparseCategoricalCrossentropy(from_logits=True),\n",
    "              optimizer=opt,\n",
    "              metrics=['accuracy'])\n",
    "\n",
    "model.summary()\n",
    "print(X_test.shape)\n",
    "print(y_test.shape)\n",
    "\n",
    "history = model.fit(X_train, y_train,\n",
    "          batch_size=batch_size,\n",
    "          epochs=7,\n",
    "          validation_data=(X_test, y_test))"
   ]
  },
  {
   "cell_type": "code",
   "execution_count": null,
   "id": "85b32e01",
   "metadata": {},
   "outputs": [],
   "source": [
    "from sklearn.metrics import accuracy_score, confusion_matrix\n",
    "\n",
    "print(X_test.shape)\n",
    "y_pred = model.predict_classes(X_test)\n",
    "print(y_pred.shape)\n",
    "print(\"Accuracy:\\n\", accuracy_score(y_test, y_pred))\n",
    "print(\"Confusion Matrix:\\n\", confusion_matrix(y_test, y_pred))"
   ]
  },
  {
   "cell_type": "code",
   "execution_count": null,
   "id": "a68c95f7",
   "metadata": {},
   "outputs": [],
   "source": [
    "def f_dummy(observation):\n",
    "    input_ = feat_extract(observation)\n",
    "    # input_ = observation[:84, :, :] * input_\n",
    "    input_ = input_[np.newaxis, :, :, :]\n",
    "    prediction = model.predict_classes(input_.reshape([1, input_.shape[0], -1]))\n",
    "    action = prediction\n",
    "    return action"
   ]
  },
  {
   "cell_type": "code",
   "execution_count": null,
   "id": "a793e662",
   "metadata": {},
   "outputs": [],
   "source": [
    "rs = run_simulation(f_dummy, render=1, planet_id=2, track_id=0)"
   ]
  },
  {
   "cell_type": "code",
   "execution_count": null,
   "id": "4b44462b",
   "metadata": {},
   "outputs": [],
   "source": []
  }
 ],
 "metadata": {
  "interpreter": {
   "hash": "9201a1c3a3e21de3a0c8ffa4d5e2df9dd7712ed89430394d9c23e7d2908b4828"
  },
  "kernelspec": {
   "display_name": "Python 3",
   "language": "python",
   "name": "python3"
  },
  "language_info": {
   "codemirror_mode": {
    "name": "ipython",
    "version": 3
   },
   "file_extension": ".py",
   "mimetype": "text/x-python",
   "name": "python",
   "nbconvert_exporter": "python",
   "pygments_lexer": "ipython3",
   "version": "3.7.10"
  }
 },
 "nbformat": 4,
 "nbformat_minor": 5
}
